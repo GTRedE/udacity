{
 "cells": [
  {
   "cell_type": "markdown",
   "metadata": {},
   "source": [
    "# Self-Driving Car Engineer Nanodegree\n",
    "\n",
    "## Deep Learning\n",
    "\n",
    "## Project: Build a Traffic Sign Recognition Classifier\n",
    "\n",
    "In this notebook, a template is provided for you to implement your functionality in stages, which is required to successfully complete this project. If additional code is required that cannot be included in the notebook, be sure that the Python code is successfully imported and included in your submission if necessary. \n",
    "\n",
    "> **Note**: Once you have completed all of the code implementations, you need to finalize your work by exporting the iPython Notebook as an HTML document. Before exporting the notebook to html, all of the code cells need to have been run so that reviewers can see the final implementation and output. You can then export the notebook by using the menu above and navigating to  \\n\",\n",
    "    \"**File -> Download as -> HTML (.html)**. Include the finished document along with this notebook as your submission. \n",
    "\n",
    "In addition to implementing code, there is a writeup to complete. The writeup should be completed in a separate file, which can be either a markdown file or a pdf document. There is a [write up template](https://github.com/udacity/CarND-Traffic-Sign-Classifier-Project/blob/master/writeup_template.md) that can be used to guide the writing process. Completing the code template and writeup template will cover all of the [rubric points](https://review.udacity.com/#!/rubrics/481/view) for this project.\n",
    "\n",
    "The [rubric](https://review.udacity.com/#!/rubrics/481/view) contains \"Stand Out Suggestions\" for enhancing the project beyond the minimum requirements. The stand out suggestions are optional. If you decide to pursue the \"stand out suggestions\", you can include the code in this Ipython notebook and also discuss the results in the writeup file.\n",
    "\n",
    "\n",
    ">**Note:** Code and Markdown cells can be executed using the **Shift + Enter** keyboard shortcut. In addition, Markdown cells can be edited by typically double-clicking the cell to enter edit mode."
   ]
  },
  {
   "cell_type": "markdown",
   "metadata": {},
   "source": [
    "#### Imports"
   ]
  },
  {
   "cell_type": "code",
   "execution_count": 1,
   "metadata": {
    "collapsed": true
   },
   "outputs": [],
   "source": [
    "# standard libs\n",
    "import pickle\n",
    "import csv\n",
    "from timeit import default_timer as timer\n",
    "import os\n",
    "import sys\n",
    "\n",
    "# visualisation\n",
    "%matplotlib inline\n",
    "\n",
    "import matplotlib.pyplot as plt \n",
    "from IPython.display import Image\n",
    "from IPython.display import display\n",
    "\n",
    "# numerical libs \n",
    "import cv2\n",
    "import math\n",
    "\n",
    "import random\n",
    "import numpy as np\n",
    "\n",
    "# machine learning lib\n",
    "from sklearn.utils import shuffle\n",
    "import tensorflow as tf\n"
   ]
  },
  {
   "cell_type": "markdown",
   "metadata": {},
   "source": [
    "---\n",
    "## Step 0: Load The Data"
   ]
  },
  {
   "cell_type": "code",
   "execution_count": 2,
   "metadata": {
    "collapsed": true
   },
   "outputs": [],
   "source": [
    "# Load pickled data\n",
    "\n",
    "training_file = 'data/train.p'\n",
    "validation_file= 'data/valid.p'\n",
    "testing_file = 'data/test.p'\n",
    "\n",
    "with open(training_file, mode='rb') as f:\n",
    "    train = pickle.load(f)\n",
    "with open(validation_file, mode='rb') as f:\n",
    "    valid = pickle.load(f)\n",
    "with open(testing_file, mode='rb') as f:\n",
    "    test = pickle.load(f)\n",
    "    \n",
    "x_train, y_train = train['features'], train['labels']\n",
    "x_valid, y_valid = valid['features'], valid['labels']\n",
    "x_test, y_test = test['features'], test['labels']"
   ]
  },
  {
   "cell_type": "markdown",
   "metadata": {},
   "source": [
    "---\n",
    "\n",
    "## Step 1: Dataset Summary & Exploration\n",
    "\n",
    "The pickled data is a dictionary with 4 key/value pairs:\n",
    "\n",
    "- `'features'` is a 4D array containing raw pixel data of the traffic sign images, (num examples, width, height, channels).\n",
    "- `'labels'` is a 1D array containing the label/class id of the traffic sign. The file `signnames.csv` contains id -> name mappings for each id.\n",
    "- `'sizes'` is a list containing tuples, (width, height) representing the original width and height the image.\n",
    "- `'coords'` is a list containing tuples, (x1, y1, x2, y2) representing coordinates of a bounding box around the sign in the image. **THESE COORDINATES ASSUME THE ORIGINAL IMAGE. THE PICKLED DATA CONTAINS RESIZED VERSIONS (32 by 32) OF THESE IMAGES**\n",
    "\n",
    "Complete the basic data summary below. Use python, numpy and/or pandas methods to calculate the data summary rather than hard coding the results. For example, the [pandas shape method](http://pandas.pydata.org/pandas-docs/stable/generated/pandas.DataFrame.shape.html) might be useful for calculating some of the summary results. "
   ]
  },
  {
   "cell_type": "markdown",
   "metadata": {},
   "source": [
    "### Provide a Basic Summary of the Data Set Using Python, Numpy and/or Pandas"
   ]
  },
  {
   "cell_type": "code",
   "execution_count": 3,
   "metadata": {
    "collapsed": false
   },
   "outputs": [
    {
     "name": "stdout",
     "output_type": "stream",
     "text": [
      "Number of training examples = 34799\n",
      "Number of validation examples = 4410\n",
      "Number of testing examples = 12630\n",
      "Image data shape = (32, 32, 3)\n",
      "Number of classes = 43\n"
     ]
    }
   ],
   "source": [
    "### Use python, pandas or numpy methods rather than hard coding the results\n",
    "\n",
    "\n",
    "# TODO: Number of training examples\n",
    "n_train = len(x_train)\n",
    "\n",
    "# TODO: Number of validation examples\n",
    "n_valid = len(x_valid)\n",
    "\n",
    "# TODO: Number of testing examples.\n",
    "n_test = len(x_test)\n",
    "\n",
    "# TODO: What's the shape of a traffic sign image?\n",
    "image_shape = x_train.shape[1:]\n",
    "\n",
    "# TODO: How many unique classes/labels there are in the dataset.\n",
    "n_classes = len(np.unique(y_train))\n",
    "\n",
    "print(\"Number of training examples =\", n_train)\n",
    "print(\"Number of validation examples =\", n_valid)\n",
    "print(\"Number of testing examples =\", n_test)\n",
    "print(\"Image data shape =\", image_shape)\n",
    "print(\"Number of classes =\", n_classes)"
   ]
  },
  {
   "cell_type": "markdown",
   "metadata": {},
   "source": [
    "### Include an exploratory visualization of the dataset"
   ]
  },
  {
   "cell_type": "markdown",
   "metadata": {},
   "source": [
    "Visualize the German Traffic Signs Dataset using the pickled file(s). This is open ended, suggestions include: plotting traffic sign images, plotting the count of each sign, etc. \n",
    "\n",
    "The [Matplotlib](http://matplotlib.org/) [examples](http://matplotlib.org/examples/index.html) and [gallery](http://matplotlib.org/gallery.html) pages are a great resource for doing visualizations in Python.\n",
    "\n",
    "**NOTE:** It's recommended you start with something simple first. If you wish to do more, come back to it after you've completed the rest of the sections. It can be interesting to look at the distribution of classes in the training, validation and test set. Is the distribution the same? Are there more examples of some classes than others?"
   ]
  },
  {
   "cell_type": "code",
   "execution_count": 4,
   "metadata": {
    "collapsed": false
   },
   "outputs": [
    {
     "name": "stdout",
     "output_type": "stream",
     "text": [
      "25\n"
     ]
    },
    {
     "data": {
      "image/png": "[encoded data removed]",
      "text/plain": [
       "<matplotlib.figure.Figure at 0x10c7fc470>"
      ]
     },
     "metadata": {},
     "output_type": "display_data"
    }
   ],
   "source": [
    "### Data exploration visualization code goes here.\n",
    "### Feel free to use as many code cells as needed.\n",
    "\n",
    "\n",
    "# Show visualizations in the notebook\n",
    "%matplotlib inline\n",
    "\n",
    "index = random.randint(0, len(x_train))\n",
    "image = x_train[index].squeeze()\n",
    "\n",
    "plt.figure(figsize=(1,1))\n",
    "plt.imshow(image, cmap=\"gray\")\n",
    "print(y_train[index])"
   ]
  },
  {
   "cell_type": "markdown",
   "metadata": {},
   "source": [
    "----\n",
    "\n",
    "## Step 2: Design and Test a Model Architecture\n",
    "\n",
    "Design and implement a deep learning model that learns to recognize traffic signs. Train and test your model on the [German Traffic Sign Dataset](http://benchmark.ini.rub.de/?section=gtsrb&subsection=dataset).\n",
    "\n",
    "The LeNet-5 implementation shown in the [classroom](https://classroom.udacity.com/nanodegrees/nd013/parts/fbf77062-5703-404e-b60c-95b78b2f3f9e/modules/6df7ae49-c61c-4bb2-a23e-6527e69209ec/lessons/601ae704-1035-4287-8b11-e2c2716217ad/concepts/d4aca031-508f-4e0b-b493-e7b706120f81) at the end of the CNN lesson is a solid starting point. You'll have to change the number of classes and possibly the preprocessing, but aside from that it's plug and play! \n",
    "\n",
    "With the LeNet-5 solution from the lecture, you should expect a validation set accuracy of about 0.89. To meet specifications, the validation set accuracy will need to be at least 0.93. It is possible to get an even higher accuracy, but 0.93 is the minimum for a successful project submission. \n",
    "\n",
    "There are various aspects to consider when thinking about this problem:\n",
    "\n",
    "- Neural network architecture (is the network over or underfitting?)\n",
    "- Play around preprocessing techniques (normalization, rgb to grayscale, etc)\n",
    "- Number of examples per label (some have more than others).\n",
    "- Generate fake data.\n",
    "\n",
    "Here is an example of a [published baseline model on this problem](http://yann.lecun.com/exdb/publis/pdf/sermanet-ijcnn-11.pdf). It's not required to be familiar with the approach used in the paper but, it's good practice to try to read papers like these."
   ]
  },
  {
   "cell_type": "markdown",
   "metadata": {},
   "source": [
    "### Pre-process the Data Set (normalization, grayscale, etc.)"
   ]
  },
  {
   "cell_type": "markdown",
   "metadata": {},
   "source": [
    "Minimally, the image data should be normalized so that the data has mean zero and equal variance. For image data, `(pixel - 128)/ 128` is a quick way to approximately normalize the data and can be used in this project. \n",
    "\n",
    "Other pre-processing steps are optional. You can try different techniques to see if it improves performance. \n",
    "\n",
    "Use the code cell (or multiple code cells, if necessary) to implement the first step of your project."
   ]
  },
  {
   "cell_type": "code",
   "execution_count": 5,
   "metadata": {
    "collapsed": true
   },
   "outputs": [],
   "source": [
    "### Preprocess the data here. It is required to normalize the data. Other preprocessing steps could include \n",
    "### converting to grayscale, etc.\n",
    "### Feel free to use as many code cells as needed.\n",
    "\n",
    "\n",
    "x_train, y_train = shuffle(x_train, y_train)"
   ]
  },
  {
   "cell_type": "markdown",
   "metadata": {},
   "source": [
    "**My approach:**\n",
    "- normalization will be handled within the network\n",
    "- data augmentation will include grayscaling and affine transformations"
   ]
  },
  {
   "cell_type": "markdown",
   "metadata": {},
   "source": [
    "### Data Augmentation"
   ]
  },
  {
   "cell_type": "code",
   "execution_count": null,
   "metadata": {
    "collapsed": true
   },
   "outputs": [],
   "source": []
  },
  {
   "cell_type": "markdown",
   "metadata": {},
   "source": [
    "### Model Architecture"
   ]
  },
  {
   "cell_type": "code",
   "execution_count": 6,
   "metadata": {
    "collapsed": true
   },
   "outputs": [],
   "source": [
    "### Define your architecture here.\n",
    "### Feel free to use as many code cells as needed."
   ]
  },
  {
   "cell_type": "code",
   "execution_count": 68,
   "metadata": {
    "collapsed": true
   },
   "outputs": [],
   "source": [
    "## global variables\n",
    "\n",
    "LOGDIR = \".log_dir\"\n",
    "IS_TRAIN_PHASE = 1\n",
    "\n",
    "EPOCHS = 20\n",
    "BATCH_SIZE = 128\n",
    "\n",
    "lr = 0.001  # learning rate\n",
    "mu = 0  # normalized mean\n",
    "sigma = 0.1  # normalized stdev"
   ]
  },
  {
   "cell_type": "markdown",
   "metadata": {},
   "source": [
    "#### Operations"
   ]
  },
  {
   "cell_type": "markdown",
   "metadata": {},
   "source": [
    "The series of functions below are designed to make the model more modular. This reduces the amount of hard-coding and makes it much easier to experiment with different model architectures."
   ]
  },
  {
   "cell_type": "code",
   "execution_count": 60,
   "metadata": {
    "collapsed": false
   },
   "outputs": [],
   "source": [
    "# gets weights given the input/output shape\n",
    "def get_weights(shape):\n",
    "    # expected input is [H, W, C, K]\n",
    "    w = tf.Variable(tf.truncated_normal(shape, mean=mu, stddev=sigma), name=\"W\")\n",
    "    return w\n",
    "\n",
    "\n",
    "# gets weights given the output depth\n",
    "def get_biases(K):\n",
    "    b = tf.Variable(tf.constant(0.01, shape=[K]), name=\"B\")\n",
    "    return b\n",
    "\n",
    "\n",
    "# applies batch normalization\n",
    "def batch_norm(input, name=\"bn\"):\n",
    "    with tf.name_scope(name):\n",
    "        bn = tf.nn.batch_normalization(input, mean=mu, variance=sigma, offset=None, scale=None, \n",
    "                                       variance_epsilon=1e-5, name=name)\n",
    "        return bn\n",
    "    \n",
    "               \n",
    "# applies relu\n",
    "def relu(input, name=\"relu\"):\n",
    "    with tf.name_scope(name):\n",
    "        act = tf.nn.relu(input, name=name)\n",
    "#         tf.summary.histogram(\"relu\", act)        \n",
    "        return act\n",
    "\n",
    "    \n",
    "# applies max pooling\n",
    "def max_pool(input, kernel_size=(1,1), strides=[1,1,1,1], name=\"maxpool\"):\n",
    "    H = kernel_size[0]\n",
    "    W = kernel_size[1]\n",
    "    \n",
    "    with tf.name_scope(name):    \n",
    "        pool = tf.nn.max_pool(input, ksize=[1, H, W, 1], strides=strides, padding='SAME', name=name)\n",
    "        return pool\n",
    "\n",
    "\n",
    "# applies avg pooling\n",
    "def avg_pool(input, name=\"avgpool\"):\n",
    "    H, W = input.get_shape()[1:2]\n",
    "    \n",
    "    with tf.name_scope(name):    \n",
    "        pool = tf.nn.avg_pool(input, ksize=[1,H,W,1], strides=[1,H,W,1], padding='VALID', name=name)\n",
    "        pool = flatten(pool)\n",
    "        return pool\n",
    "\n",
    "\n",
    "# applies dropout\n",
    "def dropout(input, keep=0.9, name=\"drop\"):\n",
    "    with tf.name_scope(name):    \n",
    "#         drop = tf.cond(IS_TRAIN_PHASE,\n",
    "#                        lambda: tf.nn.dropout(input, keep),\n",
    "#                        lambda: tf.nn.dropout(input, 1.0)\n",
    "#                       )\n",
    "        drop = tf.nn.dropout(input, keep)\n",
    "        return drop\n",
    "\n",
    "\n",
    "# flattens layer\n",
    "def flatten(inputs, name=\"flat\"):\n",
    "    with tf.name_scope(name):    \n",
    "        # returns a flattened tensor with shape [batch_size, k_features]\n",
    "        flat = tf.contrib.layers.flatten(inputs)\n",
    "        return flat\n",
    "\n",
    "\n",
    "# concatenates outputs from different layers\n",
    "def concat(input, name=\"concat\"):\n",
    "    # expected input is a set of output tensors from different layers\n",
    "    with tf.name_scope(name):    \n",
    "        cat = tf.concat(input, axis=0, name=name)\n",
    "        return cat\n"
   ]
  },
  {
   "cell_type": "code",
   "execution_count": 50,
   "metadata": {
    "collapsed": true
   },
   "outputs": [],
   "source": [
    "# creates convolutional layer\n",
    "def conv2d(input, n_kernels=1, kernel_size=(1, 1), strides=[1, 1, 1, 1], name=\"conv\"):\n",
    "    H, W = kernel_size        # filter height, width\n",
    "    C = input.get_shape().as_list()[3]  # input depth\n",
    "    K = n_kernels             # output depth\n",
    "    shape = [H, W, C, K]\n",
    "    print('{} shape: {}'.format(name, shape))\n",
    "    \n",
    "    with tf.name_scope(name):\n",
    "        w = get_weights(shape)\n",
    "        b = get_biases(K)\n",
    "        conv = tf.nn.conv2d(input, w, strides=strides, padding='SAME')\n",
    "        conv = tf.nn.bias_add(conv, b)\n",
    "        act = tf.nn.relu(conv)\n",
    "#         tf.summary.histogram(\"weights\", w)\n",
    "#         tf.summary.histogram(\"biases\", b)\n",
    "#         tf.summary.histogram(\"activations\", act)\n",
    "        return act\n",
    "\n",
    "\n",
    "# creates fully connected layer\n",
    "def create_fc(input, n_inputs, n_outputs, name=\"fc\"):\n",
    "    shape = input.get_shape().as_list()\n",
    "    print('{} shape: in={} out={}'.format(name, shape[1], n_outputs))\n",
    "    \n",
    "    with tf.name_scope(name):    \n",
    "        w = tf.Variable(tf.truncated_normal([n_inputs, n_outputs], mean=mu, stddev=sigma), name=\"W\")\n",
    "        b = tf.Variable(tf.constant(0.01, shape=[n_outputs]), name=\"B\")\n",
    "        act = tf.matmul(input, w) + b\n",
    "#         tf.summary.histogram(\"weights\", w)\n",
    "#         tf.summary.histogram(\"biases\", b)\n",
    "#         tf.summary.histogram(\"activations\", act)\n",
    "        return act"
   ]
  },
  {
   "cell_type": "markdown",
   "metadata": {},
   "source": [
    "#### Modified LeNet Models"
   ]
  },
  {
   "cell_type": "code",
   "execution_count": 65,
   "metadata": {
    "collapsed": true
   },
   "outputs": [],
   "source": [
    "def LeNet_2(x):\n",
    "    \n",
    "    with tf.name_scope(\"conv_1\"):\n",
    "        # Input = 32x32x3. Output = 32x32x6.\n",
    "        x = batch_norm(x)\n",
    "        conv_1 = conv2d(x, n_kernels=6, kernel_size=(5, 5), strides=[1, 1, 1, 1])\n",
    "        # Input = 32x32x6. Output = 16x16x6.\n",
    "        pool_1 = max_pool(conv_1, kernel_size=(2,2), strides=[1,2,2,1])\n",
    "\n",
    "    with tf.name_scope(\"conv_2\"):\n",
    "        # Input = 16x16x6. Output = 16x16x16.\n",
    "        conv_2 = conv2d(pool_1, n_kernels=16, kernel_size=(5, 5), strides=[1, 1, 1, 1])\n",
    "#         conv_2 = dropout(conv_2, keep=0.9)\n",
    "        # Input = 16x16x16. Output = 8x8x16.\n",
    "        conv_2 = dropout(conv_2, keep=0.9)\n",
    "        pool_2 = max_pool(conv_2, kernel_size=(2,2), strides=[1,2,2,1])    \n",
    "     \n",
    "    # Flat. Input = 8x8x16. Output = 1024.\n",
    "    flat_1 = flatten(pool_2)  # = [batch_size, k_features] = [128, 1024]\n",
    "    \n",
    "    # Fully Connected. Input = 1024. Output = 120.\n",
    "    with tf.name_scope(\"fc_1\"):\n",
    "        fc_1 = create_fc(flat_1, n_inputs=1024, n_outputs=120)\n",
    "        fc_1 = relu(fc_1)\n",
    "    \n",
    "    # Fully Connected. Input = 120. Output = 84.\n",
    "    with tf.name_scope(\"fc_2\"):\n",
    "        fc_2 = create_fc(fc_1, n_inputs=120, n_outputs=84)\n",
    "        fc_2 = relu(fc_2)\n",
    "        fc_2 = dropout(fc_2, keep=0.9)\n",
    "    \n",
    "    # Fully Connected. Input = 84. Output = 43.\n",
    "    with tf.name_scope(\"output\"):\n",
    "        logits = create_fc(fc_2, n_inputs=84, n_outputs=43)\n",
    "    \n",
    "    return logits"
   ]
  },
  {
   "cell_type": "markdown",
   "metadata": {},
   "source": [
    "### Train, Validate and Test the Model"
   ]
  },
  {
   "cell_type": "markdown",
   "metadata": {},
   "source": [
    "A validation set can be used to assess how well the model is performing. A low accuracy on the training and validation\n",
    "sets imply underfitting. A high accuracy on the training set but low accuracy on the validation set implies overfitting."
   ]
  },
  {
   "cell_type": "code",
   "execution_count": 11,
   "metadata": {
    "collapsed": true
   },
   "outputs": [],
   "source": [
    "### Train your model here.\n",
    "### Calculate and report the accuracy on the training and validation set.\n",
    "### Once a final model architecture is selected, \n",
    "### the accuracy on the test set should be calculated and reported as well.\n",
    "### Feel free to use as many code cells as needed."
   ]
  },
  {
   "cell_type": "markdown",
   "metadata": {},
   "source": [
    "#### Loss Functions"
   ]
  },
  {
   "cell_type": "code",
   "execution_count": 23,
   "metadata": {
    "collapsed": true
   },
   "outputs": [],
   "source": [
    "# cross entropy\n",
    "def cross_entropy(logits, one_hot_y):\n",
    "    with tf.name_scope(\"xent\"):\n",
    "        xent = tf.reduce_mean(tf.nn.softmax_cross_entropy_with_logits(logits=logits, labels=one_hot_y))\n",
    "        tf.summary.scalar(\"xent\", xent)\n",
    "        return xent\n",
    "\n",
    "# training\n",
    "def train_step(lr, xent):\n",
    "    with tf.name_scope(\"train\"):\n",
    "        train_step = tf.train.AdamOptimizer(learning_rate=lr).minimize(xent)\n",
    "        return train_step\n",
    "\n",
    "# accuracy\n",
    "def accuracy(logits, one_hot_y):\n",
    "    with tf.name_scope(\"accuracy\"):\n",
    "        pred = tf.equal(tf.argmax(logits, 1), tf.argmax(one_hot_y, 1))\n",
    "        acc = tf.reduce_mean(tf.cast(pred, tf.float32))\n",
    "        tf.summary.scalar(\"accuracy\", acc)\n",
    "        return acc"
   ]
  },
  {
   "cell_type": "code",
   "execution_count": 24,
   "metadata": {
    "collapsed": true
   },
   "outputs": [],
   "source": [
    "def evaluate(x_data, y_data):\n",
    "    num_examples = len(x_data)\n",
    "    total_acc = 0\n",
    "    sess = tf.get_default_session()\n",
    "    for offset in range(0, num_examples, BATCH_SIZE):\n",
    "        batch_x, batch_y = x_data[offset:offset+BATCH_SIZE], y_data[offset:offset+BATCH_SIZE]\n",
    "        batch_acc = sess.run(acc, feed_dict={x: batch_x, y: batch_y})\n",
    "#         summ = tf.summary.merge_all()\n",
    "        total_acc += (batch_acc * len(batch_x))\n",
    "    final_acc = total_acc / num_examples\n",
    "    return final_acc"
   ]
  },
  {
   "cell_type": "code",
   "execution_count": 69,
   "metadata": {
    "collapsed": false
   },
   "outputs": [
    {
     "name": "stdout",
     "output_type": "stream",
     "text": [
      "conv shape: [5, 5, 3, 6]\n",
      "conv shape: [5, 5, 6, 16]\n",
      "fc shape: in=1024 out=120\n",
      "fc shape: in=120 out=84\n",
      "fc shape: in=84 out=43\n"
     ]
    }
   ],
   "source": [
    "# construct the graph \n",
    "\n",
    "tf.reset_default_graph()\n",
    "\n",
    "x = tf.placeholder(tf.float32, (None, 32, 32, 3))\n",
    "y = tf.placeholder(tf.int32, (None))\n",
    "one_hot_y = tf.one_hot(y, 43)\n",
    "\n",
    "logits = LeNet_2(x)\n",
    "xent = cross_entropy(logits, one_hot_y)\n",
    "train = train_step(lr, xent)\n",
    "acc = accuracy(logits, one_hot_y)\n"
   ]
  },
  {
   "cell_type": "code",
   "execution_count": 70,
   "metadata": {
    "collapsed": false
   },
   "outputs": [
    {
     "name": "stdout",
     "output_type": "stream",
     "text": [
      "Training...\n",
      "\n",
      "EPOCH 1, Iteration 100 ...\n",
      "Training Accuracy = 0.062\n",
      "\n",
      "EPOCH 1, Iteration 200 ...\n",
      "Training Accuracy = 0.094\n",
      "\n",
      "EPOCH 1 ...\n",
      "Validation Accuracy = 0.104\n",
      "\n",
      "EPOCH 2, Iteration 100 ...\n",
      "Training Accuracy = 0.125\n",
      "\n",
      "EPOCH 2, Iteration 200 ...\n",
      "Training Accuracy = 0.227\n",
      "\n",
      "EPOCH 2 ...\n",
      "Validation Accuracy = 0.293\n",
      "\n",
      "EPOCH 3, Iteration 100 ...\n",
      "Training Accuracy = 0.469\n",
      "\n",
      "EPOCH 3, Iteration 200 ...\n",
      "Training Accuracy = 0.445\n",
      "\n",
      "EPOCH 3 ...\n",
      "Validation Accuracy = 0.455\n",
      "\n",
      "EPOCH 4, Iteration 100 ...\n",
      "Training Accuracy = 0.648\n",
      "\n",
      "EPOCH 4, Iteration 200 ...\n",
      "Training Accuracy = 0.586\n",
      "\n",
      "EPOCH 4 ...\n",
      "Validation Accuracy = 0.511\n",
      "\n",
      "EPOCH 5, Iteration 100 ...\n",
      "Training Accuracy = 0.625\n",
      "\n",
      "EPOCH 5, Iteration 200 ...\n",
      "Training Accuracy = 0.648\n",
      "\n",
      "EPOCH 5 ...\n",
      "Validation Accuracy = 0.566\n",
      "\n",
      "EPOCH 6, Iteration 100 ...\n",
      "Training Accuracy = 0.703\n",
      "\n",
      "EPOCH 6, Iteration 200 ...\n",
      "Training Accuracy = 0.750\n",
      "\n",
      "EPOCH 6 ...\n",
      "Validation Accuracy = 0.595\n",
      "\n",
      "EPOCH 7, Iteration 100 ...\n",
      "Training Accuracy = 0.781\n",
      "\n",
      "EPOCH 7, Iteration 200 ...\n",
      "Training Accuracy = 0.750\n",
      "\n",
      "EPOCH 7 ...\n",
      "Validation Accuracy = 0.645\n",
      "\n",
      "EPOCH 8, Iteration 100 ...\n",
      "Training Accuracy = 0.828\n",
      "\n",
      "EPOCH 8, Iteration 200 ...\n",
      "Training Accuracy = 0.773\n",
      "\n",
      "EPOCH 8 ...\n",
      "Validation Accuracy = 0.679\n",
      "\n",
      "EPOCH 9, Iteration 100 ...\n",
      "Training Accuracy = 0.820\n",
      "\n",
      "EPOCH 9, Iteration 200 ...\n",
      "Training Accuracy = 0.836\n",
      "\n",
      "EPOCH 9 ...\n",
      "Validation Accuracy = 0.695\n",
      "\n",
      "EPOCH 10, Iteration 100 ...\n",
      "Training Accuracy = 0.836\n",
      "\n",
      "EPOCH 10, Iteration 200 ...\n",
      "Training Accuracy = 0.906\n",
      "\n",
      "EPOCH 10 ...\n",
      "Validation Accuracy = 0.712\n",
      "\n",
      "EPOCH 11, Iteration 100 ...\n",
      "Training Accuracy = 0.852\n",
      "\n",
      "EPOCH 11, Iteration 200 ...\n",
      "Training Accuracy = 0.891\n",
      "\n",
      "EPOCH 11 ...\n",
      "Validation Accuracy = 0.734\n",
      "\n",
      "EPOCH 12, Iteration 100 ...\n",
      "Training Accuracy = 0.891\n",
      "\n",
      "EPOCH 12, Iteration 200 ...\n",
      "Training Accuracy = 0.922\n",
      "\n",
      "EPOCH 12 ...\n",
      "Validation Accuracy = 0.718\n",
      "\n",
      "EPOCH 13, Iteration 100 ...\n",
      "Training Accuracy = 0.914\n",
      "\n",
      "EPOCH 13, Iteration 200 ...\n",
      "Training Accuracy = 0.898\n",
      "\n",
      "EPOCH 13 ...\n",
      "Validation Accuracy = 0.773\n",
      "\n",
      "EPOCH 14, Iteration 100 ...\n",
      "Training Accuracy = 0.891\n",
      "\n",
      "EPOCH 14, Iteration 200 ...\n",
      "Training Accuracy = 0.883\n",
      "\n",
      "EPOCH 14 ...\n",
      "Validation Accuracy = 0.755\n",
      "\n",
      "EPOCH 15, Iteration 100 ...\n",
      "Training Accuracy = 0.938\n",
      "\n",
      "EPOCH 15, Iteration 200 ...\n",
      "Training Accuracy = 0.938\n",
      "\n",
      "EPOCH 15 ...\n",
      "Validation Accuracy = 0.767\n",
      "\n",
      "EPOCH 16, Iteration 100 ...\n",
      "Training Accuracy = 0.977\n",
      "\n",
      "EPOCH 16, Iteration 200 ...\n",
      "Training Accuracy = 0.914\n",
      "\n",
      "EPOCH 16 ...\n",
      "Validation Accuracy = 0.780\n",
      "\n",
      "EPOCH 17, Iteration 100 ...\n",
      "Training Accuracy = 0.938\n",
      "\n",
      "EPOCH 17, Iteration 200 ...\n",
      "Training Accuracy = 0.898\n",
      "\n",
      "EPOCH 17 ...\n",
      "Validation Accuracy = 0.780\n",
      "\n",
      "EPOCH 18, Iteration 100 ...\n",
      "Training Accuracy = 0.922\n",
      "\n",
      "EPOCH 18, Iteration 200 ...\n",
      "Training Accuracy = 0.938\n",
      "\n",
      "EPOCH 18 ...\n",
      "Validation Accuracy = 0.797\n",
      "\n",
      "EPOCH 19, Iteration 100 ...\n",
      "Training Accuracy = 0.938\n",
      "\n",
      "EPOCH 19, Iteration 200 ...\n",
      "Training Accuracy = 0.914\n",
      "\n",
      "EPOCH 19 ...\n",
      "Validation Accuracy = 0.796\n",
      "\n",
      "EPOCH 20, Iteration 100 ...\n",
      "Training Accuracy = 0.922\n",
      "\n",
      "EPOCH 20, Iteration 200 ...\n",
      "Training Accuracy = 0.961\n",
      "\n",
      "EPOCH 20 ...\n",
      "Validation Accuracy = 0.814\n",
      "\n",
      "Model saved\n"
     ]
    }
   ],
   "source": [
    "with tf.Session() as sess:\n",
    "    sess.run(tf.global_variables_initializer())  # , feed_dict = {IS_TRAIN_PHASE : True }\n",
    "    writer = tf.summary.FileWriter(LOGDIR, graph=tf.get_default_graph())\n",
    "    saver = tf.train.Saver()\n",
    "    num_examples = len(x_train)\n",
    "\n",
    "    print(\"Training...\\n\")\n",
    "    for i in range(EPOCHS):\n",
    "        x_train, y_train = shuffle(x_train, y_train)\n",
    "        iteration = 0\n",
    "        for offset in range(0, num_examples, BATCH_SIZE):\n",
    "            iteration += 1\n",
    "            start = offset\n",
    "            end = offset + BATCH_SIZE\n",
    "            batch_x, batch_y = x_train[start:end], y_train[start:end]\n",
    "            sess.run(train, feed_dict={x: batch_x, y: batch_y})\n",
    "            \n",
    "            if iteration % 100 == 0:\n",
    "                batch_acc = sess.run(acc, feed_dict={x: batch_x, y: batch_y})\n",
    "                print(\"EPOCH {}, Iteration {} ...\".format(i+1, iteration))\n",
    "                print(\"Training Accuracy = {:.3f}\\n\".format(batch_acc))           \n",
    "        \n",
    "        valid_accuracy = evaluate(x_valid, y_valid)\n",
    "        #         print(\"summ: \", summ)\n",
    "        #         writer.add_summary(summ, i)\n",
    "        print(\"EPOCH {} ...\".format(i+1))\n",
    "        print(\"Validation Accuracy = {:.3f}\\n\".format(valid_accuracy))\n",
    "        \n",
    "    saver.save(sess, './lenet')\n",
    "    print(\"Model saved\")\n",
    "    "
   ]
  },
  {
   "cell_type": "markdown",
   "metadata": {},
   "source": [
    "---\n",
    "\n",
    "## Step 3: Test a Model on New Images\n",
    "\n",
    "To give yourself more insight into how your model is working, download at least five pictures of German traffic signs from the web and use your model to predict the traffic sign type.\n",
    "\n",
    "You may find `signnames.csv` useful as it contains mappings from the class id (integer) to the actual sign name."
   ]
  },
  {
   "cell_type": "markdown",
   "metadata": {},
   "source": [
    "### Load and Output the Images"
   ]
  },
  {
   "cell_type": "code",
   "execution_count": null,
   "metadata": {
    "collapsed": true
   },
   "outputs": [],
   "source": [
    "### Load the images and plot them here.\n",
    "### Feel free to use as many code cells as needed."
   ]
  },
  {
   "cell_type": "markdown",
   "metadata": {},
   "source": [
    "### Predict the Sign Type for Each Image"
   ]
  },
  {
   "cell_type": "code",
   "execution_count": null,
   "metadata": {
    "collapsed": true
   },
   "outputs": [],
   "source": [
    "### Run the predictions here and use the model to output the prediction for each image.\n",
    "### Make sure to pre-process the images with the same pre-processing pipeline used earlier.\n",
    "### Feel free to use as many code cells as needed."
   ]
  },
  {
   "cell_type": "markdown",
   "metadata": {},
   "source": [
    "### Analyze Performance"
   ]
  },
  {
   "cell_type": "code",
   "execution_count": null,
   "metadata": {
    "collapsed": true
   },
   "outputs": [],
   "source": [
    "### Calculate the accuracy for these 5 new images. \n",
    "### For example, if the model predicted 1 out of 5 signs correctly, it's 20% accurate on these new images."
   ]
  },
  {
   "cell_type": "markdown",
   "metadata": {},
   "source": [
    "### Output Top 5 Softmax Probabilities For Each Image Found on the Web"
   ]
  },
  {
   "cell_type": "markdown",
   "metadata": {},
   "source": [
    "For each of the new images, print out the model's softmax probabilities to show the **certainty** of the model's predictions (limit the output to the top 5 probabilities for each image). [`tf.nn.top_k`](https://www.tensorflow.org/versions/r0.12/api_docs/python/nn.html#top_k) could prove helpful here. \n",
    "\n",
    "The example below demonstrates how tf.nn.top_k can be used to find the top k predictions for each image.\n",
    "\n",
    "`tf.nn.top_k` will return the values and indices (class ids) of the top k predictions. So if k=3, for each sign, it'll return the 3 largest probabilities (out of a possible 43) and the correspoding class ids.\n",
    "\n",
    "Take this numpy array as an example. The values in the array represent predictions. The array contains softmax probabilities for five candidate images with six possible classes. `tk.nn.top_k` is used to choose the three classes with the highest probability:\n",
    "\n",
    "```\n",
    "# (5, 6) array\n",
    "a = np.array([[ 0.24879643,  0.07032244,  0.12641572,  0.34763842,  0.07893497,\n",
    "         0.12789202],\n",
    "       [ 0.28086119,  0.27569815,  0.08594638,  0.0178669 ,  0.18063401,\n",
    "         0.15899337],\n",
    "       [ 0.26076848,  0.23664738,  0.08020603,  0.07001922,  0.1134371 ,\n",
    "         0.23892179],\n",
    "       [ 0.11943333,  0.29198961,  0.02605103,  0.26234032,  0.1351348 ,\n",
    "         0.16505091],\n",
    "       [ 0.09561176,  0.34396535,  0.0643941 ,  0.16240774,  0.24206137,\n",
    "         0.09155967]])\n",
    "```\n",
    "\n",
    "Running it through `sess.run(tf.nn.top_k(tf.constant(a), k=3))` produces:\n",
    "\n",
    "```\n",
    "TopKV2(values=array([[ 0.34763842,  0.24879643,  0.12789202],\n",
    "       [ 0.28086119,  0.27569815,  0.18063401],\n",
    "       [ 0.26076848,  0.23892179,  0.23664738],\n",
    "       [ 0.29198961,  0.26234032,  0.16505091],\n",
    "       [ 0.34396535,  0.24206137,  0.16240774]]), indices=array([[3, 0, 5],\n",
    "       [0, 1, 4],\n",
    "       [0, 5, 1],\n",
    "       [1, 3, 5],\n",
    "       [1, 4, 3]], dtype=int32))\n",
    "```\n",
    "\n",
    "Looking just at the first row we get `[ 0.34763842,  0.24879643,  0.12789202]`, you can confirm these are the 3 largest probabilities in `a`. You'll also notice `[3, 0, 5]` are the corresponding indices."
   ]
  },
  {
   "cell_type": "code",
   "execution_count": null,
   "metadata": {
    "collapsed": true
   },
   "outputs": [],
   "source": [
    "### Print out the top five softmax probabilities for the predictions on the German traffic sign images found on the web. \n",
    "### Feel free to use as many code cells as needed."
   ]
  },
  {
   "cell_type": "markdown",
   "metadata": {},
   "source": [
    "### Project Writeup\n",
    "\n",
    "Once you have completed the code implementation, document your results in a project writeup using this [template](https://github.com/udacity/CarND-Traffic-Sign-Classifier-Project/blob/master/writeup_template.md) as a guide. The writeup can be in a markdown or pdf file. "
   ]
  },
  {
   "cell_type": "markdown",
   "metadata": {},
   "source": [
    "> **Note**: Once you have completed all of the code implementations and successfully answered each question above, you may finalize your work by exporting the iPython Notebook as an HTML document. You can do this by using the menu above and navigating to  \\n\",\n",
    "    \"**File -> Download as -> HTML (.html)**. Include the finished document along with this notebook as your submission."
   ]
  },
  {
   "cell_type": "markdown",
   "metadata": {},
   "source": [
    "---\n",
    "\n",
    "## Step 4 (Optional): Visualize the Neural Network's State with Test Images\n",
    "\n",
    " This Section is not required to complete but acts as an additional excersise for understaning the output of a neural network's weights. While neural networks can be a great learning device they are often referred to as a black box. We can understand what the weights of a neural network look like better by plotting their feature maps. After successfully training your neural network you can see what it's feature maps look like by plotting the output of the network's weight layers in response to a test stimuli image. From these plotted feature maps, it's possible to see what characteristics of an image the network finds interesting. For a sign, maybe the inner network feature maps react with high activation to the sign's boundary outline or to the contrast in the sign's painted symbol.\n",
    "\n",
    " Provided for you below is the function code that allows you to get the visualization output of any tensorflow weight layer you want. The inputs to the function should be a stimuli image, one used during training or a new one you provided, and then the tensorflow variable name that represents the layer's state during the training process, for instance if you wanted to see what the [LeNet lab's](https://classroom.udacity.com/nanodegrees/nd013/parts/fbf77062-5703-404e-b60c-95b78b2f3f9e/modules/6df7ae49-c61c-4bb2-a23e-6527e69209ec/lessons/601ae704-1035-4287-8b11-e2c2716217ad/concepts/d4aca031-508f-4e0b-b493-e7b706120f81) feature maps looked like for it's second convolutional layer you could enter conv2 as the tf_activation variable.\n",
    "\n",
    "For an example of what feature map outputs look like, check out NVIDIA's results in their paper [End-to-End Deep Learning for Self-Driving Cars](https://devblogs.nvidia.com/parallelforall/deep-learning-self-driving-cars/) in the section Visualization of internal CNN State. NVIDIA was able to show that their network's inner weights had high activations to road boundary lines by comparing feature maps from an image with a clear path to one without. Try experimenting with a similar test to show that your trained network's weights are looking for interesting features, whether it's looking at differences in feature maps from images with or without a sign, or even what feature maps look like in a trained network vs a completely untrained one on the same sign image.\n",
    "\n",
    "<figure>\n",
    " <img src=\"visualize_cnn.png\" width=\"380\" alt=\"Combined Image\" />\n",
    " <figcaption>\n",
    " <p></p> \n",
    " <p style=\"text-align: center;\"> Your output should look something like this (above)</p> \n",
    " </figcaption>\n",
    "</figure>\n",
    " <p></p> \n"
   ]
  },
  {
   "cell_type": "code",
   "execution_count": null,
   "metadata": {
    "collapsed": true
   },
   "outputs": [],
   "source": [
    "### Visualize your network's feature maps here.\n",
    "### Feel free to use as many code cells as needed.\n",
    "\n",
    "# image_input: the test image being fed into the network to produce the feature maps\n",
    "# tf_activation: should be a tf variable name used during your training procedure that represents the calculated state of a specific weight layer\n",
    "# activation_min/max: can be used to view the activation contrast in more detail, by default matplot sets min and max to the actual min and max values of the output\n",
    "# plt_num: used to plot out multiple different weight feature map sets on the same block, just extend the plt number for each new feature map entry\n",
    "\n",
    "def outputFeatureMap(image_input, tf_activation, activation_min=-1, activation_max=-1 ,plt_num=1):\n",
    "    # Here make sure to preprocess your image_input in a way your network expects\n",
    "    # with size, normalization, ect if needed\n",
    "    # image_input =\n",
    "    # Note: x should be the same name as your network's tensorflow data placeholder variable\n",
    "    # If you get an error tf_activation is not defined it may be having trouble accessing the variable from inside a function\n",
    "    activation = tf_activation.eval(session=sess,feed_dict={x : image_input})\n",
    "    featuremaps = activation.shape[3]\n",
    "    plt.figure(plt_num, figsize=(15,15))\n",
    "    for featuremap in range(featuremaps):\n",
    "        plt.subplot(6,8, featuremap+1) # sets the number of feature maps to show on each row and column\n",
    "        plt.title('FeatureMap ' + str(featuremap)) # displays the feature map number\n",
    "        if activation_min != -1 & activation_max != -1:\n",
    "            plt.imshow(activation[0,:,:, featuremap], interpolation=\"nearest\", vmin =activation_min, vmax=activation_max, cmap=\"gray\")\n",
    "        elif activation_max != -1:\n",
    "            plt.imshow(activation[0,:,:, featuremap], interpolation=\"nearest\", vmax=activation_max, cmap=\"gray\")\n",
    "        elif activation_min !=-1:\n",
    "            plt.imshow(activation[0,:,:, featuremap], interpolation=\"nearest\", vmin=activation_min, cmap=\"gray\")\n",
    "        else:\n",
    "            plt.imshow(activation[0,:,:, featuremap], interpolation=\"nearest\", cmap=\"gray\")"
   ]
  }
 ],
 "metadata": {
  "anaconda-cloud": {},
  "kernelspec": {
   "display_name": "Python [conda env:carnd-term1]",
   "language": "python",
   "name": "conda-env-carnd-term1-py"
  },
  "language_info": {
   "codemirror_mode": {
    "name": "ipython",
    "version": 3
   },
   "file_extension": ".py",
   "mimetype": "text/x-python",
   "name": "python",
   "nbconvert_exporter": "python",
   "pygments_lexer": "ipython3",
   "version": "3.5.2"
  }
 },
 "nbformat": 4,
 "nbformat_minor": 1
}
