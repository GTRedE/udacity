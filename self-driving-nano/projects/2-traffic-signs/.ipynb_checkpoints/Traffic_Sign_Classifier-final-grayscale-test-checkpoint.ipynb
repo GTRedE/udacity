{
 "cells": [
  {
   "cell_type": "markdown",
   "metadata": {},
   "source": [
    "# Self-Driving Car Engineer Nanodegree\n",
    "\n",
    "## Deep Learning\n",
    "\n",
    "## Project: Build a Traffic Sign Recognition Classifier\n",
    "\n",
    "In this notebook, a template is provided for you to implement your functionality in stages, which is required to successfully complete this project. If additional code is required that cannot be included in the notebook, be sure that the Python code is successfully imported and included in your submission if necessary. \n",
    "\n",
    "> **Note**: Once you have completed all of the code implementations, you need to finalize your work by exporting the iPython Notebook as an HTML document. Before exporting the notebook to html, all of the code cells need to have been run so that reviewers can see the final implementation and output. You can then export the notebook by using the menu above and navigating to  \\n\",\n",
    "    \"**File -> Download as -> HTML (.html)**. Include the finished document along with this notebook as your submission. \n",
    "\n",
    "In addition to implementing code, there is a writeup to complete. The writeup should be completed in a separate file, which can be either a markdown file or a pdf document. There is a [write up template](https://github.com/udacity/CarND-Traffic-Sign-Classifier-Project/blob/master/writeup_template.md) that can be used to guide the writing process. Completing the code template and writeup template will cover all of the [rubric points](https://review.udacity.com/#!/rubrics/481/view) for this project.\n",
    "\n",
    "The [rubric](https://review.udacity.com/#!/rubrics/481/view) contains \"Stand Out Suggestions\" for enhancing the project beyond the minimum requirements. The stand out suggestions are optional. If you decide to pursue the \"stand out suggestions\", you can include the code in this Ipython notebook and also discuss the results in the writeup file.\n",
    "\n",
    "\n",
    ">**Note:** Code and Markdown cells can be executed using the **Shift + Enter** keyboard shortcut. In addition, Markdown cells can be edited by typically double-clicking the cell to enter edit mode."
   ]
  },
  {
   "cell_type": "markdown",
   "metadata": {},
   "source": [
    "---\n",
    "## Step 0: Load The Data"
   ]
  },
  {
   "cell_type": "code",
   "execution_count": 1,
   "metadata": {
    "collapsed": true
   },
   "outputs": [],
   "source": [
    "# Load pickled data\n",
    "import pickle\n",
    "\n",
    "training_file = 'data/train.p'\n",
    "validation_file= 'data/valid.p'\n",
    "testing_file = 'data/test.p'\n",
    "\n",
    "with open(training_file, mode='rb') as f:\n",
    "    train = pickle.load(f)\n",
    "with open(validation_file, mode='rb') as f:\n",
    "    valid = pickle.load(f)\n",
    "with open(testing_file, mode='rb') as f:\n",
    "    test = pickle.load(f)\n",
    "    \n",
    "X_train, y_train = train['features'], train['labels']\n",
    "X_valid, y_valid = valid['features'], valid['labels']\n",
    "X_test, y_test = test['features'], test['labels']"
   ]
  },
  {
   "cell_type": "markdown",
   "metadata": {},
   "source": [
    "---\n",
    "\n",
    "## Step 1: Dataset Summary & Exploration\n",
    "\n",
    "The pickled data is a dictionary with 4 key/value pairs:\n",
    "\n",
    "- `'features'` is a 4D array containing raw pixel data of the traffic sign images, (num examples, width, height, channels).\n",
    "- `'labels'` is a 1D array containing the label/class id of the traffic sign. The file `signnames.csv` contains id -> name mappings for each id.\n",
    "- `'sizes'` is a list containing tuples, (width, height) representing the original width and height the image.\n",
    "- `'coords'` is a list containing tuples, (x1, y1, x2, y2) representing coordinates of a bounding box around the sign in the image. **THESE COORDINATES ASSUME THE ORIGINAL IMAGE. THE PICKLED DATA CONTAINS RESIZED VERSIONS (32 by 32) OF THESE IMAGES**\n",
    "\n",
    "Complete the basic data summary below. Use python, numpy and/or pandas methods to calculate the data summary rather than hard coding the results. For example, the [pandas shape method](http://pandas.pydata.org/pandas-docs/stable/generated/pandas.DataFrame.shape.html) might be useful for calculating some of the summary results. "
   ]
  },
  {
   "cell_type": "markdown",
   "metadata": {},
   "source": [
    "### Provide a Basic Summary of the Data Set Using Python, Numpy and/or Pandas"
   ]
  },
  {
   "cell_type": "code",
   "execution_count": 2,
   "metadata": {},
   "outputs": [
    {
     "name": "stdout",
     "output_type": "stream",
     "text": [
      "Number of training examples = 34799\n",
      "Number of validation examples = 4410\n",
      "Number of testing examples = 12630\n",
      "Image data shape = (32, 32, 3)\n",
      "Number of labels/classes = 43\n"
     ]
    }
   ],
   "source": [
    "### Use python, pandas or numpy methods rather than hard coding the results\n",
    "import numpy as np\n",
    "\n",
    "# TODO: Number of training examples\n",
    "n_train = len(X_train)\n",
    "\n",
    "# TODO: Number of validation examples\n",
    "n_valid = len(X_valid)\n",
    "\n",
    "# TODO: Number of testing examples.\n",
    "n_test = len(X_test)\n",
    "\n",
    "# TODO: What's the shape of a traffic sign image?\n",
    "image_shape = X_train.shape[1:]\n",
    "\n",
    "# TODO: How many unique classes/labels there are in the dataset.\n",
    "labels_index = np.unique(y_train)\n",
    "n_labels = len(labels_index)\n",
    "\n",
    "print(\"Number of training examples =\", n_train)\n",
    "print(\"Number of validation examples =\", n_valid)\n",
    "print(\"Number of testing examples =\", n_test)\n",
    "print(\"Image data shape =\", image_shape)\n",
    "print(\"Number of labels/classes =\", n_labels)"
   ]
  },
  {
   "cell_type": "markdown",
   "metadata": {},
   "source": [
    "### Include an exploratory visualization of the dataset"
   ]
  },
  {
   "cell_type": "markdown",
   "metadata": {},
   "source": [
    "Visualize the German Traffic Signs Dataset using the pickled file(s). This is open ended, suggestions include: plotting traffic sign images, plotting the count of each sign, etc. \n",
    "\n",
    "The [Matplotlib](http://matplotlib.org/) [examples](http://matplotlib.org/examples/index.html) and [gallery](http://matplotlib.org/gallery.html) pages are a great resource for doing visualizations in Python.\n",
    "\n",
    "**NOTE:** It's recommended you start with something simple first. If you wish to do more, come back to it after you've completed the rest of the sections. It can be interesting to look at the distribution of classes in the training, validation and test set. Is the distribution the same? Are there more examples of some classes than others?"
   ]
  },
  {
   "cell_type": "code",
   "execution_count": 3,
   "metadata": {},
   "outputs": [
    {
     "name": "stdout",
     "output_type": "stream",
     "text": [
      "label index:  3\n"
     ]
    },
    {
     "data": {
      "image/png": "[encoded data removed]",
      "text/plain": [
       "<matplotlib.figure.Figure at 0x1078a8f28>"
      ]
     },
     "metadata": {},
     "output_type": "display_data"
    }
   ],
   "source": [
    "## Show random image and label index\n",
    "\n",
    "import random\n",
    "import matplotlib.pyplot as plt \n",
    "\n",
    "# Show visualizations in the notebook\n",
    "%matplotlib inline\n",
    "\n",
    "index = random.randint(0, len(X_train))\n",
    "image = X_train[index].squeeze()\n",
    "\n",
    "plt.figure(figsize=(1,1))\n",
    "plt.imshow(image, cmap=\"gray\")\n",
    "print('label index: ', y_train[index])"
   ]
  },
  {
   "cell_type": "markdown",
   "metadata": {},
   "source": [
    "#### Complete set of images and labels"
   ]
  },
  {
   "cell_type": "code",
   "execution_count": 4,
   "metadata": {
    "collapsed": true
   },
   "outputs": [],
   "source": [
    "# Create label dictionary {label:signname}\n",
    "\n",
    "import csv\n",
    "    \n",
    "labels_dict = None\n",
    "with open('signnames.csv', mode='r') as infile:\n",
    "    reader = csv.reader(infile)\n",
    "    next(reader, None)\n",
    "    labels_dict = {int(rows[0]):rows[1] for rows in reader}"
   ]
  },
  {
   "cell_type": "code",
   "execution_count": 5,
   "metadata": {},
   "outputs": [
    {
     "name": "stdout",
     "output_type": "stream",
     "text": [
      "{0: 'Speed limit (20km/h)', 1: 'Speed limit (30km/h)', 2: 'Speed limit (50km/h)', 3: 'Speed limit (60km/h)', 4: 'Speed limit (70km/h)', 5: 'Speed limit (80km/h)', 6: 'End of speed limit (80km/h)', 7: 'Speed limit (100km/h)', 8: 'Speed limit (120km/h)', 9: 'No passing', 10: 'No passing for vehicles over 3.5 metric tons', 11: 'Right-of-way at the next intersection', 12: 'Priority road', 13: 'Yield', 14: 'Stop', 15: 'No vehicles', 16: 'Vehicles over 3.5 metric tons prohibited', 17: 'No entry', 18: 'General caution', 19: 'Dangerous curve to the left', 20: 'Dangerous curve to the right', 21: 'Double curve', 22: 'Bumpy road', 23: 'Slippery road', 24: 'Road narrows on the right', 25: 'Road work', 26: 'Traffic signals', 27: 'Pedestrians', 28: 'Children crossing', 29: 'Bicycles crossing', 30: 'Beware of ice/snow', 31: 'Wild animals crossing', 32: 'End of all speed and passing limits', 33: 'Turn right ahead', 34: 'Turn left ahead', 35: 'Ahead only', 36: 'Go straight or right', 37: 'Go straight or left', 38: 'Keep right', 39: 'Keep left', 40: 'Roundabout mandatory', 41: 'End of no passing', 42: 'End of no passing by vehicles over 3.5 metric tons'}\n"
     ]
    }
   ],
   "source": [
    "print(labels_dict)"
   ]
  },
  {
   "cell_type": "code",
   "execution_count": null,
   "metadata": {
    "collapsed": true
   },
   "outputs": [],
   "source": [
    "# Display random sample of training images (before augmentation)\n",
    "\n",
    "fig = plt.figure(figsize=(22,35), tight_layout={'h_pad':5})\n",
    "\n",
    "for i in range(n_labels):\n",
    "    image_key = np.where(y_train==i)\n",
    "    img = X_train[image_key[0][0]]\n",
    "    ax = fig.add_subplot(int(n_labels/4)+1,4,i+1) \n",
    "    ax.imshow(img, interpolation='none')\n",
    "    plt.title(\"[%02d] %s\" % (i, labels_dict[y_train[image_key[0][0]]]))\n",
    "plt.show()"
   ]
  },
  {
   "cell_type": "code",
   "execution_count": null,
   "metadata": {
    "collapsed": true
   },
   "outputs": [],
   "source": [
    "# Display label distribution in a histogram\n",
    "\n",
    "import pandas as pd\n",
    "\n",
    "y_train_df = pd.DataFrame()\n",
    "y_train_df['label'] = y_train\n",
    "ax = y_train_df['label'].value_counts().plot(kind='barh', figsize = (10,10), title='Number of Samples per Class')\n",
    "ax.set_yticklabels(list(map(lambda x: labels_dict[x], y_train_df['label'].value_counts().index.tolist())))            \n",
    "for i, v in enumerate(y_train_df['label'].value_counts()):\n",
    "    ax.text(v + 10, i - 0.25, str(v), color='black')"
   ]
  },
  {
   "cell_type": "code",
   "execution_count": null,
   "metadata": {
    "collapsed": true
   },
   "outputs": [],
   "source": [
    "# Display labels in a table\n",
    "\n",
    "labels_i = [[i, sum(y_train == i)] for i in range(len(np.unique(y_train)))]\n",
    "# labels_i_sorted = sorted(labels_i, key=lambda x: x[1])\n",
    "\n",
    "data_pd = pd.read_csv('signnames.csv')\n",
    "labels_pd = data_pd.set_index('ClassId')\n",
    "\n",
    "# data_pd['Count'] = pd.Series(np.asarray(labels_i_sorted).T[1], index=np.asarray(labels_i_sorted).T[0])\n",
    "labels_pd['Count'] = pd.Series(np.asarray(labels_i).T[1], index=np.asarray(labels_i).T[0])"
   ]
  },
  {
   "cell_type": "markdown",
   "metadata": {},
   "source": [
    "----\n",
    "\n",
    "## Step 2: Design and Test a Model Architecture\n",
    "\n",
    "Design and implement a deep learning model that learns to recognize traffic signs. Train and test your model on the [German Traffic Sign Dataset](http://benchmark.ini.rub.de/?section=gtsrb&subsection=dataset).\n",
    "\n",
    "The LeNet-5 implementation shown in the [classroom](https://classroom.udacity.com/nanodegrees/nd013/parts/fbf77062-5703-404e-b60c-95b78b2f3f9e/modules/6df7ae49-c61c-4bb2-a23e-6527e69209ec/lessons/601ae704-1035-4287-8b11-e2c2716217ad/concepts/d4aca031-508f-4e0b-b493-e7b706120f81) at the end of the CNN lesson is a solid starting point. You'll have to change the number of classes and possibly the preprocessing, but aside from that it's plug and play! \n",
    "\n",
    "With the LeNet-5 solution from the lecture, you should expect a validation set accuracy of about 0.89. To meet specifications, the validation set accuracy will need to be at least 0.93. It is possible to get an even higher accuracy, but 0.93 is the minimum for a successful project submission. \n",
    "\n",
    "There are various aspects to consider when thinking about this problem:\n",
    "\n",
    "- Neural network architecture (is the network over or underfitting?)\n",
    "- Play around preprocessing techniques (normalization, rgb to grayscale, etc)\n",
    "- Number of examples per label (some have more than others).\n",
    "- Generate fake data.\n",
    "\n",
    "Here is an example of a [published baseline model on this problem](http://yann.lecun.com/exdb/publis/pdf/sermanet-ijcnn-11.pdf). It's not required to be familiar with the approach used in the paper but, it's good practice to try to read papers like these."
   ]
  },
  {
   "cell_type": "markdown",
   "metadata": {},
   "source": [
    "### Pre-process the Data Set (normalization, grayscale, etc.)"
   ]
  },
  {
   "cell_type": "markdown",
   "metadata": {},
   "source": [
    "Minimally, the image data should be normalized so that the data has mean zero and equal variance. For image data, `(pixel - 128)/ 128` is a quick way to approximately normalize the data and can be used in this project. \n",
    "\n",
    "Other pre-processing steps are optional. You can try different techniques to see if it improves performance. \n",
    "\n",
    "Use the code cell (or multiple code cells, if necessary) to implement the first step of your project."
   ]
  },
  {
   "cell_type": "markdown",
   "metadata": {},
   "source": [
    "**My approach:**\n",
    "- normalization will be handled within the network\n",
    "- data augmentation will include grayscaling and affine transformations"
   ]
  },
  {
   "cell_type": "markdown",
   "metadata": {},
   "source": [
    "#### Normalization"
   ]
  },
  {
   "cell_type": "code",
   "execution_count": 6,
   "metadata": {},
   "outputs": [
    {
     "name": "stderr",
     "output_type": "stream",
     "text": [
      "  0%|          | 0/34799 [00:00<?, ?it/s]/Users/thomastracey/anaconda/envs/carnd-term1/lib/python3.5/site-packages/skimage/util/dtype.py:122: UserWarning: Possible precision loss when converting from float64 to uint16\n",
      "  .format(dtypeobj_in, dtypeobj_out))\n",
      "  0%|          | 8/34799 [00:00<07:24, 78.27it/s]"
     ]
    },
    {
     "name": "stdout",
     "output_type": "stream",
     "text": [
      "Normalizing Training Images...\n"
     ]
    },
    {
     "name": "stderr",
     "output_type": "stream",
     "text": [
      "100%|██████████| 34799/34799 [06:54<00:00, 84.05it/s]\n",
      "  0%|          | 8/4410 [00:00<00:57, 76.97it/s]"
     ]
    },
    {
     "name": "stdout",
     "output_type": "stream",
     "text": [
      "Normalizing Validation Images...\n"
     ]
    },
    {
     "name": "stderr",
     "output_type": "stream",
     "text": [
      "100%|██████████| 4410/4410 [00:51<00:00, 85.52it/s]\n",
      "  0%|          | 9/12630 [00:00<02:34, 81.69it/s]"
     ]
    },
    {
     "name": "stdout",
     "output_type": "stream",
     "text": [
      "\n",
      "Normalizing Test Images...\n"
     ]
    },
    {
     "name": "stderr",
     "output_type": "stream",
     "text": [
      "100%|██████████| 12630/12630 [02:30<00:00, 80.24it/s]\n"
     ]
    }
   ],
   "source": [
    "from tqdm import tqdm\n",
    "from skimage import exposure\n",
    "\n",
    "### Histogram Equilization\n",
    "def normalize(image_data):\n",
    "    norm = np.array([exposure.equalize_adapthist(image, clip_limit=0.03) for image in tqdm(image_data)])\n",
    "    return norm\n",
    "\n",
    "print('Normalizing Training Images...')\n",
    "X_train_norm = normalize(X_train)\n",
    "\n",
    "print('Normalizing Validation Images...')\n",
    "X_valid_norm = normalize(X_valid)\n",
    "\n",
    "print('\\nNormalizing Test Images...')\n",
    "X_test_norm = normalize(X_test)\n",
    "    "
   ]
  },
  {
   "cell_type": "markdown",
   "metadata": {},
   "source": [
    "#### Data Augmentation"
   ]
  },
  {
   "cell_type": "markdown",
   "metadata": {},
   "source": [
    "Generates batches of tensor image data that is augmented based on a chosen set of tranformation parameters (e.g. rotation, shift, shear, zoom)."
   ]
  },
  {
   "cell_type": "code",
   "execution_count": 12,
   "metadata": {},
   "outputs": [],
   "source": [
    "# Image preprocessing function \n",
    "\n",
    "import keras\n",
    "from keras.preprocessing.image import ImageDataGenerator\n",
    "\n",
    "datagen = keras.preprocessing.image.ImageDataGenerator(\n",
    "    zca_whitening=True,\n",
    "    rotation_range=12,\n",
    "    width_shift_range=0.1,\n",
    "    height_shift_range=0.1,\n",
    "    shear_range=0.1,\n",
    "    zoom_range=0.1,\n",
    "    channel_shift_range=0.1,\n",
    "    fill_mode='nearest',\n",
    "    horizontal_flip=False,\n",
    "    vertical_flip=False\n",
    ")"
   ]
  },
  {
   "cell_type": "code",
   "execution_count": 13,
   "metadata": {},
   "outputs": [
    {
     "name": "stderr",
     "output_type": "stream",
     "text": [
      "\n",
      "\r",
      "  0%|          | 0/43 [00:00<?, ?it/s]"
     ]
    },
    {
     "name": "stdout",
     "output_type": "stream",
     "text": [
      "Augmenting Image Data...\n"
     ]
    },
    {
     "name": "stderr",
     "output_type": "stream",
     "text": [
      "\u001b[A/Users/thomastracey/anaconda/envs/carnd-term1/lib/python3.5/site-packages/keras/preprocessing/image.py:482: UserWarning: This ImageDataGenerator specifies `zca_whitening`, but it hasn'tbeen fit on any training data. Fit it first by calling `.fit(numpy_data)`.\n",
      "  warnings.warn('This ImageDataGenerator specifies '\n",
      "\n",
      "  2%|▏         | 1/43 [00:00<00:19,  2.13it/s]\u001b[A\n",
      "  5%|▍         | 2/43 [00:01<00:26,  1.52it/s]\u001b[A\n",
      "  7%|▋         | 3/43 [00:02<00:31,  1.27it/s]\u001b[A\n",
      "  9%|▉         | 4/43 [00:03<00:29,  1.34it/s]\u001b[A\n",
      " 12%|█▏        | 5/43 [00:04<00:30,  1.24it/s]\u001b[A\n",
      " 14%|█▍        | 6/43 [00:05<00:30,  1.21it/s]\u001b[A\n",
      " 16%|█▋        | 7/43 [00:05<00:25,  1.39it/s]\u001b[A\n",
      " 19%|█▊        | 8/43 [00:06<00:25,  1.39it/s]\u001b[A\n",
      " 21%|██        | 9/43 [00:07<00:25,  1.36it/s]\u001b[A\n",
      " 23%|██▎       | 10/43 [00:07<00:24,  1.32it/s]\u001b[A\n",
      "100%|██████████| 43/43 [00:40<00:00,  1.21s/it]\n"
     ]
    },
    {
     "name": "stdout",
     "output_type": "stream",
     "text": [
      "Augmentation Complete.\n"
     ]
    }
   ],
   "source": [
    "# Creates augmented training sets\n",
    "\n",
    "from sklearn.utils import shuffle\n",
    "\n",
    "max_images_per_class = 1000\n",
    "X_train_aug = np.empty((0, 32, 32, 3))\n",
    "y_train_aug = np.empty(0, dtype='uint8')\n",
    "\n",
    "print('Augmenting Image Data...')\n",
    "for i in tqdm(range(n_labels)):\n",
    "    index = [y_train==i]\n",
    "    i_class_images = X_train_norm[y_train==i]\n",
    "    i_class_y = y_train[y_train==i]\n",
    "\n",
    "    i_X_train_aug = np.copy(i_class_images)\n",
    "    i_y_train_aug = np.copy(i_class_y)\n",
    "\n",
    "    for X,y in datagen.flow(i_class_images, i_class_y, batch_size=len(i_class_y), seed=113+i*17):            \n",
    "        i_X_train_aug = np.append(i_X_train_aug, X, axis=0)\n",
    "        i_y_train_aug = np.append(i_y_train_aug, y, axis=0)\n",
    "\n",
    "        if len(i_X_train_aug) >= max_images_per_class:\n",
    "            break\n",
    "\n",
    "    X_train_aug = np.append(X_train_aug, i_X_train_aug[:max_images_per_class], axis=0)\n",
    "    y_train_aug = np.append(y_train_aug, i_y_train_aug[:max_images_per_class], axis=0)              \n",
    "\n",
    "X_train_aug, y_train_aug = shuffle(X_train_aug, y_train_aug, random_state=113)\n",
    "\n",
    "print('Augmentation Complete.')\n",
    "\n"
   ]
  },
  {
   "cell_type": "code",
   "execution_count": 14,
   "metadata": {},
   "outputs": [
    {
     "name": "stdout",
     "output_type": "stream",
     "text": [
      "new number of training images:  43000\n",
      "verify image shape:  (32, 32, 3)\n"
     ]
    }
   ],
   "source": [
    "print('new number of training images: ', X_train_aug.shape[0])\n",
    "print('verify image shape: ', X_train_aug.shape[1:])"
   ]
  },
  {
   "cell_type": "code",
   "execution_count": 29,
   "metadata": {},
   "outputs": [
    {
     "data": {
      "text/plain": [
       "(43000,)"
      ]
     },
     "execution_count": 29,
     "metadata": {},
     "output_type": "execute_result"
    }
   ],
   "source": [
    "y_train_aug.shape"
   ]
  },
  {
   "cell_type": "code",
   "execution_count": null,
   "metadata": {
    "collapsed": true
   },
   "outputs": [],
   "source": [
    "## Show random image and label index\n",
    "\n",
    "import random\n",
    "import matplotlib.pyplot as plt \n",
    "\n",
    "# Show visualizations in the notebook\n",
    "%matplotlib inline\n",
    "\n",
    "index = random.randint(0, len(X_train_aug))\n",
    "image = X_train_aug[index].squeeze()\n",
    "\n",
    "plt.figure(figsize=(1,1))\n",
    "plt.imshow(image, cmap=\"gray\")\n",
    "print('label index: ', y_train_aug[index])"
   ]
  },
  {
   "cell_type": "code",
   "execution_count": null,
   "metadata": {
    "collapsed": true
   },
   "outputs": [],
   "source": [
    "# Create image dictionary {label:images}\n",
    "\n",
    "train_images_dict = dict()\n",
    "\n",
    "for i, (image, label) in enumerate(zip(X_train_aug, y_train_aug)):\n",
    "    if label not in train_images_dict:\n",
    "        train_images_dict[label] = []\n",
    "    train_images_dict[label].append(image)"
   ]
  },
  {
   "cell_type": "code",
   "execution_count": null,
   "metadata": {
    "collapsed": true
   },
   "outputs": [],
   "source": [
    "# Verify that number of images in dict is correct\n",
    "sum(len(v) for v in train_images_dict.values())"
   ]
  },
  {
   "cell_type": "code",
   "execution_count": null,
   "metadata": {
    "collapsed": true
   },
   "outputs": [],
   "source": [
    "import matplotlib\n",
    "import matplotlib.pyplot as plt\n",
    "%matplotlib inline\n",
    "matplotlib.rcParams['figure.figsize'] = (20.0, 10.0)\n",
    "\n",
    "images_labels = list(train_images_dict.keys())\n",
    "for image_key in images_labels:        \n",
    "    subplots = 12\n",
    "    fig, axes = plt.subplots(1,subplots)\n",
    "    images_total = len(train_images_dict[image_key])\n",
    "    print(images_total)\n",
    "    offset = images_total // subplots\n",
    "    images = [train_images_dict[image_key][j*offset] for j in range(subplots)]\n",
    "    for i, (image, ax) in enumerate(zip(images, axes)):\n",
    "        ax.set_title(image_key)\n",
    "        ax.imshow(image.squeeze())\n",
    "    plt.tight_layout()\n",
    "    plt.subplots_adjust(top=0.85)\n",
    "    plt.show()\n",
    "\n",
    "train_images_dict.clear()"
   ]
  },
  {
   "cell_type": "markdown",
   "metadata": {},
   "source": [
    "#### Grayscale"
   ]
  },
  {
   "cell_type": "code",
   "execution_count": null,
   "metadata": {
    "collapsed": true
   },
   "outputs": [],
   "source": [
    "## Create grayscale training sets **3D**\n",
    "\n",
    "from skimage import exposure, color, data\n",
    "from sklearn.utils import shuffle\n",
    "\n",
    "max_images_per_class = 10\n",
    "X_train_gray = np.empty((0, 32, 32, 1))\n",
    "y_train_gray = np.empty(0, dtype='uint8')\n",
    "\n",
    "print('Grayscaling Image Data...')\n",
    "# for i in tqdm(range(n_labels)):\n",
    "for i in tqdm(range(2)):\n",
    "    index = [y_train_aug==i]\n",
    "    print('index: ', index)\n",
    "    i_class_images = X_train_aug[y_train_aug==i]\n",
    "    print('i_class_images shape: ', i_class_images.shape)\n",
    "    i_class_y = y_train_aug[y_train_aug==i]\n",
    "    print('i_class_y shape: ', i_class_y.shape)\n",
    "\n",
    "#     i_X_train_gray = np.copy(i_class_images)\n",
    "#     i_y_train_gray = np.copy(i_class_y)\n",
    "\n",
    "#     i_X_train_gray = np.empty((32, 32))\n",
    "    i_X_train_gray = []\n",
    "\n",
    "#     i_y_train_gray = np.empty(0, dtype='uint8')\n",
    "    i_y_train_gray = []\n",
    "\n",
    "#     for X,y in datagen.flow(i_class_images, i_class_y, batch_size=len(i_class_y), seed=113+i*17):\n",
    "#     for image_rgb in i_class_images:\n",
    "    for ii in range(0, max_images_per_class):\n",
    "        image_gray = color.rgb2gray(i_class_images[ii])\n",
    "        print('image_rgb shape: ', i_class_images[ii].shape)\n",
    "        print('image_gray shape: ', image_gray.shape)\n",
    "        \n",
    "        i_X_train_gray.append(image_gray)\n",
    "        print('i_class_y[ii] shape: ', i_class_y[ii].shape)\n",
    "        print('i_class_y[ii] value: ', [i_class_y[ii]])\n",
    "        \n",
    "        i_y_train_gray.append(i_class_y[ii])\n",
    "\n",
    "        print('len(i_X_train_gray shape): ', len(i_X_train_gray))\n",
    "        print('len(i_y_train_gray shape): ', len(i_y_train_gray))\n",
    "        print('i_y_train_gray: ', i_y_train_gray)\n",
    "\n",
    "    print('X_train_gray.shape: ', X_train_gray.shape)\n",
    "    print('np.asarray(i_X_train_gray) shape: ', np.asarray(i_X_train_gray).shape)\n",
    "    X_train_gray = np.append(X_train_gray, np.asarray(i_X_train_gray), axis=0)\n",
    "    \n",
    "    print('y_train_gray.shape: ', y_train_gray.shape)\n",
    "    print('np.asarray(i_y_train_gray) shape: ', np.asarray(i_y_train_gray).shape)    \n",
    "    y_train_gray = np.append(y_train_gray, np.asarray(i_y_train_gray), axis=0)              \n",
    "\n",
    "X_train_gray, y_train_gray = shuffle(X_train_gray, y_train_gray)\n",
    "\n",
    "print('\\nGrayscaling Complete.')\n",
    "\n"
   ]
  },
  {
   "cell_type": "code",
   "execution_count": 52,
   "metadata": {},
   "outputs": [
    {
     "data": {
      "text/plain": [
       "array([[ 0.74562897,  0.66654815,  0.77256054, ...,  1.        ,\n",
       "         1.        ,  1.        ],\n",
       "       [ 0.33543365,  0.44286222,  0.55279243, ...,  1.        ,\n",
       "         1.        ,  1.        ],\n",
       "       [ 0.16795527,  0.11059207,  0.27807199, ...,  1.        ,\n",
       "         1.        ,  1.        ],\n",
       "       ..., \n",
       "       [ 0.36252059,  0.4506398 ,  0.58306069, ...,  0.56060836,\n",
       "         0.53673472,  0.30861639],\n",
       "       [ 0.57889185,  0.5316971 ,  0.48263814, ...,  0.13464053,\n",
       "         0.11791881,  0.511942  ],\n",
       "       [ 0.7449103 ,  0.67881074,  0.65911137, ...,  0.0472098 ,\n",
       "         0.31315098,  0.58761   ]])"
      ]
     },
     "execution_count": 52,
     "metadata": {},
     "output_type": "execute_result"
    }
   ],
   "source": [
    "color.rgb2gray(X_train_norm[100])"
   ]
  },
  {
   "cell_type": "code",
   "execution_count": 55,
   "metadata": {},
   "outputs": [
    {
     "data": {
      "text/plain": [
       "(32, 32)"
      ]
     },
     "execution_count": 55,
     "metadata": {},
     "output_type": "execute_result"
    }
   ],
   "source": [
    "from skimage import color\n",
    "from skimage import io\n",
    "\n",
    "img = color.rgb2gray(X_train_norm[100])\n",
    "\n",
    "img.shape"
   ]
  },
  {
   "cell_type": "code",
   "execution_count": 60,
   "metadata": {},
   "outputs": [
    {
     "data": {
      "text/plain": [
       "(32, 32, 1)"
      ]
     },
     "execution_count": 60,
     "metadata": {},
     "output_type": "execute_result"
    }
   ],
   "source": [
    "np.dot(X_train_norm[100], [[0.299], [0.587], [0.114]]).shape"
   ]
  },
  {
   "cell_type": "code",
   "execution_count": 61,
   "metadata": {},
   "outputs": [
    {
     "name": "stdout",
     "output_type": "stream",
     "text": [
      "label index:  31\n"
     ]
    },
    {
     "data": {
      "image/png": "[encoded data removed]",
      "text/plain": [
       "<matplotlib.figure.Figure at 0x10a4a54a8>"
      ]
     },
     "metadata": {},
     "output_type": "display_data"
    }
   ],
   "source": [
    "## Show random image and label index\n",
    "\n",
    "import random\n",
    "import matplotlib.pyplot as plt \n",
    "\n",
    "# Show visualizations in the notebook\n",
    "%matplotlib inline\n",
    "\n",
    "index = random.randint(0, len(X_train_norm))\n",
    "image = np.dot(X_train_norm[index], [[0.299], [0.587], [0.114]]).squeeze()\n",
    "\n",
    "plt.figure(figsize=(1,1))\n",
    "plt.imshow(image, cmap=\"gray\")\n",
    "print('label index: ', y_train[index])"
   ]
  },
  {
   "cell_type": "code",
   "execution_count": 71,
   "metadata": {},
   "outputs": [
    {
     "name": "stdout",
     "output_type": "stream",
     "text": [
      "label index:  1\n"
     ]
    },
    {
     "data": {
      "image/png": "[encoded data removed]",
      "text/plain": [
       "<matplotlib.figure.Figure at 0x108161f98>"
      ]
     },
     "metadata": {},
     "output_type": "display_data"
    }
   ],
   "source": [
    "## Display original vs. normalized vs. grayscale versions\n",
    "\n",
    "# index = random.randint(0, len(X_train_norm))\n",
    "index = 3000\n",
    "\n",
    "image_orig = X_train[index].squeeze()\n",
    "image_norm = X_train_norm[index].squeeze()\n",
    "image_gray = np.dot(X_train_norm[index], [[0.2125], [0.7154], [0.0721]]).squeeze()\n",
    "# image_gray = color.rgb2gray(image_norm)\n",
    "\n",
    "plt.figure(figsize=(5,5))\n",
    "\n",
    "plt.subplot2grid((1, 3), (0, 0));\n",
    "plt.axis('off')\n",
    "plt.imshow(image_orig, cmap=\"gray\")\n",
    "\n",
    "plt.subplot2grid((1, 3), (0, 1));\n",
    "plt.axis('off')\n",
    "plt.imshow(image_norm, cmap=\"gray\")\n",
    "\n",
    "plt.subplot2grid((1, 3), (0, 2));\n",
    "plt.axis('off')\n",
    "plt.imshow(image_gray, cmap=\"gray\")\n",
    "print('label index: ', y_train[index])"
   ]
  },
  {
   "cell_type": "code",
   "execution_count": 72,
   "metadata": {},
   "outputs": [
    {
     "name": "stdout",
     "output_type": "stream",
     "text": [
      "label index:  1\n"
     ]
    },
    {
     "data": {
      "image/png": "[encoded data removed]",
      "text/plain": [
       "<matplotlib.figure.Figure at 0x10a5f2e80>"
      ]
     },
     "metadata": {},
     "output_type": "display_data"
    }
   ],
   "source": [
    "## Display original vs. normalized vs. grayscale versions\n",
    "\n",
    "# index = random.randint(0, len(X_train_norm))\n",
    "\n",
    "image_orig = X_train[index].squeeze()\n",
    "image_norm = X_train_norm[index].squeeze()\n",
    "image_gray = np.dot(X_train_norm[index], [[0.299], [0.587], [0.114]]).squeeze()\n",
    "# image_gray = color.rgb2gray(image_norm)\n",
    "\n",
    "plt.figure(figsize=(5,5))\n",
    "\n",
    "plt.subplot2grid((1, 3), (0, 0));\n",
    "plt.axis('off')\n",
    "plt.imshow(image_orig, cmap=\"gray\")\n",
    "\n",
    "plt.subplot2grid((1, 3), (0, 1));\n",
    "plt.axis('off')\n",
    "plt.imshow(image_norm, cmap=\"gray\")\n",
    "\n",
    "plt.subplot2grid((1, 3), (0, 2));\n",
    "plt.axis('off')\n",
    "plt.imshow(image_gray, cmap=\"gray\")\n",
    "print('label index: ', y_train[index])"
   ]
  },
  {
   "cell_type": "code",
   "execution_count": 46,
   "metadata": {},
   "outputs": [
    {
     "name": "stderr",
     "output_type": "stream",
     "text": [
      "100%|██████████| 2/2 [00:00<00:00, 14.61it/s]"
     ]
    },
    {
     "name": "stdout",
     "output_type": "stream",
     "text": [
      "Grayscaling Image Data...\n",
      "index:  [array([False, False, False, ..., False, False, False], dtype=bool)]\n",
      "i_class_images shape:  (1000, 32, 32, 3)\n",
      "i_class_y shape:  (1000,)\n",
      "image_rgb shape:  (32, 32, 3)\n",
      "image_gray shape:  (32, 32)\n",
      "i_class_y[ii] shape:  ()\n",
      "i_class_y[ii] value:  [0]\n",
      "len(i_X_train_gray shape):  1\n",
      "len(i_y_train_gray shape):  1\n",
      "i_y_train_gray:  [0]\n",
      "image_rgb shape:  (32, 32, 3)\n",
      "image_gray shape:  (32, 32)\n",
      "i_class_y[ii] shape:  ()\n",
      "i_class_y[ii] value:  [0]\n",
      "len(i_X_train_gray shape):  2\n",
      "len(i_y_train_gray shape):  2\n",
      "i_y_train_gray:  [0, 0]\n",
      "image_rgb shape:  (32, 32, 3)\n",
      "image_gray shape:  (32, 32)\n",
      "i_class_y[ii] shape:  ()\n",
      "i_class_y[ii] value:  [0]\n",
      "len(i_X_train_gray shape):  3\n",
      "len(i_y_train_gray shape):  3\n",
      "i_y_train_gray:  [0, 0, 0]\n",
      "image_rgb shape:  (32, 32, 3)\n",
      "image_gray shape:  (32, 32)\n",
      "i_class_y[ii] shape:  ()\n",
      "i_class_y[ii] value:  [0]\n",
      "len(i_X_train_gray shape):  4\n",
      "len(i_y_train_gray shape):  4\n",
      "i_y_train_gray:  [0, 0, 0, 0]\n",
      "image_rgb shape:  (32, 32, 3)\n",
      "image_gray shape:  (32, 32)\n",
      "i_class_y[ii] shape:  ()\n",
      "i_class_y[ii] value:  [0]\n",
      "len(i_X_train_gray shape):  5\n",
      "len(i_y_train_gray shape):  5\n",
      "i_y_train_gray:  [0, 0, 0, 0, 0]\n",
      "image_rgb shape:  (32, 32, 3)\n",
      "image_gray shape:  (32, 32)\n",
      "i_class_y[ii] shape:  ()\n",
      "i_class_y[ii] value:  [0]\n",
      "len(i_X_train_gray shape):  6\n",
      "len(i_y_train_gray shape):  6\n",
      "i_y_train_gray:  [0, 0, 0, 0, 0, 0]\n",
      "image_rgb shape:  (32, 32, 3)\n",
      "image_gray shape:  (32, 32)\n",
      "i_class_y[ii] shape:  ()\n",
      "i_class_y[ii] value:  [0]\n",
      "len(i_X_train_gray shape):  7\n",
      "len(i_y_train_gray shape):  7\n",
      "i_y_train_gray:  [0, 0, 0, 0, 0, 0, 0]\n",
      "image_rgb shape:  (32, 32, 3)\n",
      "image_gray shape:  (32, 32)\n",
      "i_class_y[ii] shape:  ()\n",
      "i_class_y[ii] value:  [0]\n",
      "len(i_X_train_gray shape):  8\n",
      "len(i_y_train_gray shape):  8\n",
      "i_y_train_gray:  [0, 0, 0, 0, 0, 0, 0, 0]\n",
      "image_rgb shape:  (32, 32, 3)\n",
      "image_gray shape:  (32, 32)\n",
      "i_class_y[ii] shape:  ()\n",
      "i_class_y[ii] value:  [0]\n",
      "len(i_X_train_gray shape):  9\n",
      "len(i_y_train_gray shape):  9\n",
      "i_y_train_gray:  [0, 0, 0, 0, 0, 0, 0, 0, 0]\n",
      "image_rgb shape:  (32, 32, 3)\n",
      "image_gray shape:  (32, 32)\n",
      "i_class_y[ii] shape:  ()\n",
      "i_class_y[ii] value:  [0]\n",
      "len(i_X_train_gray shape):  10\n",
      "len(i_y_train_gray shape):  10\n",
      "i_y_train_gray:  [0, 0, 0, 0, 0, 0, 0, 0, 0, 0]\n",
      "X_train_gray.shape:  (0, 32, 32)\n",
      "np.asarray(i_X_train_gray) shape:  (10, 32, 32)\n",
      "y_train_gray.shape:  (0,)\n",
      "np.asarray(i_y_train_gray) shape:  (10,)\n",
      "index:  [array([False, False, False, ..., False, False, False], dtype=bool)]\n",
      "i_class_images shape:  (1000, 32, 32, 3)\n",
      "i_class_y shape:  (1000,)\n",
      "image_rgb shape:  (32, 32, 3)\n",
      "image_gray shape:  (32, 32)\n",
      "i_class_y[ii] shape:  ()\n",
      "i_class_y[ii] value:  [1]\n",
      "len(i_X_train_gray shape):  1\n",
      "len(i_y_train_gray shape):  1\n",
      "i_y_train_gray:  [1]\n",
      "image_rgb shape:  (32, 32, 3)\n",
      "image_gray shape:  (32, 32)\n",
      "i_class_y[ii] shape:  ()\n",
      "i_class_y[ii] value:  [1]\n",
      "len(i_X_train_gray shape):  2\n",
      "len(i_y_train_gray shape):  2\n",
      "i_y_train_gray:  [1, 1]\n",
      "image_rgb shape:  (32, 32, 3)\n",
      "image_gray shape:  (32, 32)\n",
      "i_class_y[ii] shape:  ()\n",
      "i_class_y[ii] value:  [1]\n",
      "len(i_X_train_gray shape):  3\n",
      "len(i_y_train_gray shape):  3\n",
      "i_y_train_gray:  [1, 1, 1]\n",
      "image_rgb shape:  (32, 32, 3)\n",
      "image_gray shape:  (32, 32)\n",
      "i_class_y[ii] shape:  ()\n",
      "i_class_y[ii] value:  [1]\n",
      "len(i_X_train_gray shape):  4\n",
      "len(i_y_train_gray shape):  4\n",
      "i_y_train_gray:  [1, 1, 1, 1]\n",
      "image_rgb shape:  (32, 32, 3)\n",
      "image_gray shape:  (32, 32)\n",
      "i_class_y[ii] shape:  ()\n",
      "i_class_y[ii] value:  [1]\n",
      "len(i_X_train_gray shape):  5\n",
      "len(i_y_train_gray shape):  5\n",
      "i_y_train_gray:  [1, 1, 1, 1, 1]\n",
      "image_rgb shape:  (32, 32, 3)\n",
      "image_gray shape:  (32, 32)\n",
      "i_class_y[ii] shape:  ()\n",
      "i_class_y[ii] value:  [1]\n",
      "len(i_X_train_gray shape):  6\n",
      "len(i_y_train_gray shape):  6\n",
      "i_y_train_gray:  [1, 1, 1, 1, 1, 1]\n",
      "image_rgb shape:  (32, 32, 3)\n",
      "image_gray shape:  (32, 32)\n",
      "i_class_y[ii] shape:  ()\n",
      "i_class_y[ii] value:  [1]\n",
      "len(i_X_train_gray shape):  7\n",
      "len(i_y_train_gray shape):  7\n",
      "i_y_train_gray:  [1, 1, 1, 1, 1, 1, 1]\n",
      "image_rgb shape:  (32, 32, 3)\n",
      "image_gray shape:  (32, 32)\n",
      "i_class_y[ii] shape:  ()\n",
      "i_class_y[ii] value:  [1]\n",
      "len(i_X_train_gray shape):  8\n",
      "len(i_y_train_gray shape):  8\n",
      "i_y_train_gray:  [1, 1, 1, 1, 1, 1, 1, 1]\n",
      "image_rgb shape:  (32, 32, 3)\n",
      "image_gray shape:  (32, 32)\n",
      "i_class_y[ii] shape:  ()\n",
      "i_class_y[ii] value:  [1]\n",
      "len(i_X_train_gray shape):  9\n",
      "len(i_y_train_gray shape):  9\n",
      "i_y_train_gray:  [1, 1, 1, 1, 1, 1, 1, 1, 1]\n",
      "image_rgb shape:  (32, 32, 3)\n",
      "image_gray shape:  (32, 32)\n",
      "i_class_y[ii] shape:  ()\n",
      "i_class_y[ii] value:  [1]\n",
      "len(i_X_train_gray shape):  10\n",
      "len(i_y_train_gray shape):  10\n",
      "i_y_train_gray:  [1, 1, 1, 1, 1, 1, 1, 1, 1, 1]\n",
      "X_train_gray.shape:  (10, 32, 32)\n",
      "np.asarray(i_X_train_gray) shape:  (10, 32, 32)\n",
      "y_train_gray.shape:  (10,)\n",
      "np.asarray(i_y_train_gray) shape:  (10,)\n",
      "Grayscaling Complete.\n"
     ]
    },
    {
     "name": "stderr",
     "output_type": "stream",
     "text": [
      "\n"
     ]
    }
   ],
   "source": [
    "## Create grayscale training sets\n",
    "\n",
    "from skimage import exposure, color, data\n",
    "from sklearn.utils import shuffle\n",
    "\n",
    "max_images_per_class = 10\n",
    "X_train_gray = np.empty((0, 32, 32))\n",
    "y_train_gray = np.empty(0, dtype='uint8')\n",
    "\n",
    "print('Grayscaling Image Data...')\n",
    "# for i in tqdm(range(n_labels)):\n",
    "for i in tqdm(range(2)):\n",
    "    index = [y_train_aug==i]\n",
    "    print('index: ', index)\n",
    "    i_class_images = X_train_aug[y_train_aug==i]\n",
    "    print('i_class_images shape: ', i_class_images.shape)\n",
    "    i_class_y = y_train_aug[y_train_aug==i]\n",
    "    print('i_class_y shape: ', i_class_y.shape)\n",
    "\n",
    "#     i_X_train_gray = np.copy(i_class_images)\n",
    "#     i_y_train_gray = np.copy(i_class_y)\n",
    "\n",
    "#     i_X_train_gray = np.empty((32, 32))\n",
    "    i_X_train_gray = []\n",
    "\n",
    "#     i_y_train_gray = np.empty(0, dtype='uint8')\n",
    "    i_y_train_gray = []\n",
    "\n",
    "#     for X,y in datagen.flow(i_class_images, i_class_y, batch_size=len(i_class_y), seed=113+i*17):\n",
    "#     for image_rgb in i_class_images:\n",
    "    for ii in range(0, max_images_per_class):\n",
    "        image_gray = color.rgb2gray(i_class_images[ii])\n",
    "        print('image_rgb shape: ', i_class_images[ii].shape)\n",
    "        print('image_gray shape: ', image_gray.shape)\n",
    "        \n",
    "        i_X_train_gray.append(image_gray)\n",
    "        print('i_class_y[ii] shape: ', i_class_y[ii].shape)\n",
    "        print('i_class_y[ii] value: ', [i_class_y[ii]])\n",
    "        \n",
    "        i_y_train_gray.append(i_class_y[ii])\n",
    "\n",
    "        print('len(i_X_train_gray shape): ', len(i_X_train_gray))\n",
    "        print('len(i_y_train_gray shape): ', len(i_y_train_gray))\n",
    "        print('i_y_train_gray: ', i_y_train_gray)\n",
    "\n",
    "    print('X_train_gray.shape: ', X_train_gray.shape)\n",
    "    print('np.asarray(i_X_train_gray) shape: ', np.asarray(i_X_train_gray).shape)\n",
    "    X_train_gray = np.append(X_train_gray, np.asarray(i_X_train_gray), axis=0)\n",
    "    \n",
    "    print('y_train_gray.shape: ', y_train_gray.shape)\n",
    "    print('np.asarray(i_y_train_gray) shape: ', np.asarray(i_y_train_gray).shape)    \n",
    "    y_train_gray = np.append(y_train_gray, np.asarray(i_y_train_gray), axis=0)              \n",
    "\n",
    "X_train_gray, y_train_gray = shuffle(X_train_gray, y_train_gray)\n",
    "\n",
    "print('\\nGrayscaling Complete.')\n",
    "\n"
   ]
  },
  {
   "cell_type": "code",
   "execution_count": 39,
   "metadata": {},
   "outputs": [
    {
     "name": "stderr",
     "output_type": "stream",
     "text": [
      "  5%|▍         | 2/43 [00:00<00:02, 18.22it/s]"
     ]
    },
    {
     "name": "stdout",
     "output_type": "stream",
     "text": [
      "Grayscaling Image Data...\n"
     ]
    },
    {
     "name": "stderr",
     "output_type": "stream",
     "text": [
      "100%|██████████| 43/43 [00:09<00:00,  3.25it/s]\n"
     ]
    },
    {
     "name": "stdout",
     "output_type": "stream",
     "text": [
      "\n",
      "Grayscaling Complete.\n"
     ]
    }
   ],
   "source": [
    "## Create grayscale training sets **CLEAN VERSION**\n",
    "\n",
    "from skimage import exposure, color, data\n",
    "from sklearn.utils import shuffle\n",
    "\n",
    "max_images_per_class = 1000\n",
    "X_train_gray = np.empty((0, 32, 32))\n",
    "y_train_gray = np.empty(0, dtype='uint8')\n",
    "\n",
    "print('Grayscaling Image Data...')\n",
    "\n",
    "for i in tqdm(range(n_labels)):\n",
    "    index = [y_train_aug==i]\n",
    "    i_class_images = X_train_aug[y_train_aug==i]\n",
    "    i_class_y = y_train_aug[y_train_aug==i]\n",
    "\n",
    "    i_X_train_gray = []\n",
    "    i_y_train_gray = []\n",
    "\n",
    "    for ii in range(0, max_images_per_class):\n",
    "        image_gray = color.rgb2gray(i_class_images[ii])\n",
    "        i_X_train_gray.append(image_gray)\n",
    "        i_y_train_gray.append(i_class_y[ii])\n",
    "\n",
    "    X_train_gray = np.append(X_train_gray, np.asarray(i_X_train_gray), axis=0)\n",
    "    y_train_gray = np.append(y_train_gray, np.asarray(i_y_train_gray), axis=0)              \n",
    "\n",
    "X_train_gray, y_train_gray = shuffle(X_train_gray, y_train_gray)\n",
    "\n",
    "print('\\nGrayscaling Complete.')"
   ]
  },
  {
   "cell_type": "code",
   "execution_count": 40,
   "metadata": {},
   "outputs": [
    {
     "name": "stdout",
     "output_type": "stream",
     "text": [
      "number of grayscale images:  43000\n",
      "verify image shape:  (32, 32)\n"
     ]
    }
   ],
   "source": [
    "print('number of grayscale images: ', X_train_gray.shape[0])\n",
    "print('verify image shape: ', X_train_gray.shape[1:])"
   ]
  },
  {
   "cell_type": "code",
   "execution_count": 43,
   "metadata": {},
   "outputs": [
    {
     "name": "stdout",
     "output_type": "stream",
     "text": [
      "label index:  27\n"
     ]
    },
    {
     "data": {
      "image/png": "[encoded data removed]",
      "text/plain": [
       "<matplotlib.figure.Figure at 0x108353080>"
      ]
     },
     "metadata": {},
     "output_type": "display_data"
    }
   ],
   "source": [
    "## Show random image and label index\n",
    "\n",
    "import random\n",
    "import matplotlib.pyplot as plt \n",
    "\n",
    "# Show visualizations in the notebook\n",
    "%matplotlib inline\n",
    "\n",
    "index = random.randint(0, len(X_train_gray))\n",
    "image = X_train_gray[index].squeeze()\n",
    "\n",
    "plt.figure(figsize=(1,1))\n",
    "plt.imshow(image, cmap=\"gray\")\n",
    "print('label index: ', y_train_gray[index])"
   ]
  },
  {
   "cell_type": "code",
   "execution_count": null,
   "metadata": {
    "collapsed": true
   },
   "outputs": [],
   "source": []
  },
  {
   "cell_type": "markdown",
   "metadata": {},
   "source": [
    "### Model Architecture"
   ]
  },
  {
   "cell_type": "code",
   "execution_count": 81,
   "metadata": {
    "collapsed": true
   },
   "outputs": [],
   "source": [
    "## Global variables\n",
    "\n",
    "LOG_DIR = \".logs\"\n",
    "MODEL_DIR = \".models\"\n",
    "\n",
    "EPOCHS = 20\n",
    "BATCH_SIZE = 128\n",
    "\n",
    "lr = 0.001      # learning rate\n",
    "decay= 0.0005   # for L2 reg\n",
    "keep_prob = 0.5 # (1 - dropout)\n",
    "mu = 0          # normalized mean\n",
    "sigma = 0.1     # normalized stdev"
   ]
  },
  {
   "cell_type": "markdown",
   "metadata": {},
   "source": [
    "#### Operations"
   ]
  },
  {
   "cell_type": "markdown",
   "metadata": {},
   "source": [
    "The series of functions below are designed to make the model more modular. This reduces the amount of hard-coding and makes it much easier to experiment with different model architectures."
   ]
  },
  {
   "cell_type": "code",
   "execution_count": 8,
   "metadata": {
    "collapsed": true
   },
   "outputs": [],
   "source": [
    "# applies max pooling\n",
    "def max_pool(input, kernel_size=(1,1), strides=[1,1,1,1], name=\"maxpool\"):\n",
    "    H = kernel_size[0]\n",
    "    W = kernel_size[1]\n",
    "    print('{}: {}x{} / {}'.format(name, H, W, strides[1]))\n",
    "    \n",
    "    with tf.name_scope(name):    \n",
    "        pool = tf.nn.max_pool(input, ksize=[1, H, W, 1], strides=strides, padding='VALID', name=name)\n",
    "        return pool"
   ]
  },
  {
   "cell_type": "code",
   "execution_count": 18,
   "metadata": {
    "collapsed": true
   },
   "outputs": [],
   "source": [
    "# Creates convolutional layer\n",
    "def conv_layer(input, n_kernels=1, kernel_size=(1, 1), strides=[1, 1, 1, 1], name=\"conv\"):\n",
    "    H, W = kernel_size                  # filter height, width\n",
    "    C = input.get_shape().as_list()[3]  # input depth\n",
    "    K = n_kernels                       # output depth\n",
    "    in_shape = [H, W, C, K]\n",
    "    print('{} filter shape: {}'.format(name, in_shape))\n",
    "    \n",
    "    with tf.name_scope(name):\n",
    "        w = tf.Variable(tf.truncated_normal(in_shape, mean=mu, stddev=sigma), name=\"weights\")\n",
    "        b = tf.Variable(tf.zeros(K), name=\"biases\")\n",
    "        conv = tf.nn.conv2d(input, w, strides=strides, padding='SAME')\n",
    "        conv = tf.nn.bias_add(conv, b)\n",
    "        out_shape = conv.get_shape().as_list()\n",
    "        print('{} output shape: {}'.format(name, out_shape))\n",
    "        return conv\n",
    "\n",
    "\n",
    "# Creates fully connected layer\n",
    "def fc_layer(input, n_inputs, n_outputs, name=\"fc\"):\n",
    "    shape = input.get_shape().as_list()\n",
    "    print('{} shape: inputs={} outputs={}'.format(name, shape[1], n_outputs))\n",
    "    \n",
    "    with tf.name_scope(name):    \n",
    "        w = tf.Variable(tf.truncated_normal([n_inputs, n_outputs], mean=mu, stddev=sigma), name=\"weights\")\n",
    "        b = tf.Variable(tf.zeros(n_outputs), name=\"biases\")\n",
    "        act = tf.matmul(input, w) + b\n",
    "        return act"
   ]
  },
  {
   "cell_type": "markdown",
   "metadata": {},
   "source": [
    "#### Modified LeNet Models"
   ]
  },
  {
   "cell_type": "code",
   "execution_count": 75,
   "metadata": {
    "collapsed": true
   },
   "outputs": [],
   "source": [
    "def LeNet_5(x):\n",
    "    \n",
    "    with tf.name_scope(\"conv_layers\"):\n",
    "        conv = tf.nn.relu(conv_layer(x, n_kernels=3, kernel_size=(1, 1), strides=[1, 1, 1, 1], name=\"conv_0\"))  \n",
    "        \n",
    "        conv = tf.nn.relu(conv_layer(conv, n_kernels=8, kernel_size=(5, 5), strides=[1, 1, 1, 1], name=\"conv_1\"))  \n",
    "        conv = tf.nn.relu(conv_layer(conv, n_kernels=16, kernel_size=(5, 5), strides=[1, 1, 1, 1], name=\"conv_2\"))   \n",
    "        conv = max_pool(conv, kernel_size=(2,2), strides=[1,2,2,1])    \n",
    "\n",
    "        conv = tf.nn.relu(conv_layer(conv, n_kernels=16, kernel_size=(5, 5), strides=[1, 1, 1, 1], name=\"conv_3\"))  \n",
    "        conv = tf.nn.relu(conv_layer(conv, n_kernels=32, kernel_size=(5, 5), strides=[1, 1, 1, 1], name=\"conv_4\"))   \n",
    "        conv = max_pool(conv, kernel_size=(2,2), strides=[1,2,2,1])  \n",
    "\n",
    "        conv = tf.nn.relu(conv_layer(conv, n_kernels=32, kernel_size=(5, 5), strides=[1, 1, 1, 1], name=\"conv_5\"))  \n",
    "        conv = tf.nn.relu(conv_layer(conv, n_kernels=64, kernel_size=(5, 5), strides=[1, 1, 1, 1], name=\"conv_6\"))   \n",
    "        conv = max_pool(conv, kernel_size=(2,2), strides=[1,2,2,1])          \n",
    "        \n",
    "    flat = tf.contrib.layers.flatten(conv)  #  =[batch_size, k_features]  \n",
    "    flat_shape = flat.get_shape().as_list()\n",
    "    k_features = flat_shape[1]\n",
    "    print('flat layer dim: ', flat_shape)\n",
    "        \n",
    "    with tf.name_scope(\"fc_layers\"):\n",
    "        fc = fc_layer(flat, n_inputs=k_features, n_outputs=1024, name=\"fc_1\")\n",
    "        fc = tf.nn.relu(fc)\n",
    "        fc = tf.nn.dropout(fc, keep_prob)\n",
    "    \n",
    "        fc = fc_layer(fc, n_inputs=1024, n_outputs=512, name=\"fc_2\")\n",
    "        fc = tf.nn.relu(fc)    \n",
    "        fc = tf.nn.dropout(fc, keep_prob)\n",
    "    \n",
    "        logits = fc_layer(fc, n_inputs=512, n_outputs=43, name=\"output\")\n",
    "    \n",
    "        return logits"
   ]
  },
  {
   "cell_type": "markdown",
   "metadata": {},
   "source": [
    "### Train, Validate and Test the Model"
   ]
  },
  {
   "cell_type": "markdown",
   "metadata": {},
   "source": [
    "A validation set can be used to assess how well the model is performing. A low accuracy on the training and validation\n",
    "sets imply underfitting. A high accuracy on the training set but low accuracy on the validation set implies overfitting."
   ]
  },
  {
   "cell_type": "markdown",
   "metadata": {},
   "source": [
    "#### Loss Functions"
   ]
  },
  {
   "cell_type": "code",
   "execution_count": 78,
   "metadata": {
    "collapsed": true
   },
   "outputs": [],
   "source": [
    "# L2 regularization\n",
    "def l2_reg(decay):\n",
    "    train_vars = tf.trainable_variables() \n",
    "    with tf.name_scope(\"L2\"):\n",
    "        l2 = tf.add_n([tf.nn.l2_loss(v) for v in train_vars if 'weight' in v.name]) * decay\n",
    "        return l2\n",
    "\n",
    "\n",
    "# cross entropy\n",
    "def cross_entropy(logits, one_hot_y):\n",
    "    with tf.name_scope(\"xent\"):\n",
    "        xent = tf.reduce_mean(tf.nn.softmax_cross_entropy_with_logits(logits=logits, labels=one_hot_y))\n",
    "        tf.summary.scalar(\"xent\", xent)\n",
    "        return xent\n",
    "\n",
    "    \n",
    "# training\n",
    "def train_step(lr, xent):\n",
    "    with tf.name_scope(\"train\"):\n",
    "        train_step = tf.train.AdamOptimizer(learning_rate=lr).minimize(xent + l2)\n",
    "        return train_step\n",
    "\n",
    "    \n",
    "# accuracy\n",
    "def accuracy(logits, one_hot_y):\n",
    "    with tf.name_scope(\"accuracy\"):\n",
    "        pred = tf.equal(tf.argmax(logits, 1), tf.argmax(one_hot_y, 1))\n",
    "        acc = tf.reduce_mean(tf.cast(pred, tf.float32))\n",
    "        tf.summary.scalar(\"accuracy\", acc)\n",
    "        return acc"
   ]
  },
  {
   "cell_type": "code",
   "execution_count": 61,
   "metadata": {
    "collapsed": true
   },
   "outputs": [],
   "source": [
    "def evaluate(x_data, y_data):\n",
    "    num_examples = len(x_data)\n",
    "    total_acc = 0\n",
    "    sess = tf.get_default_session()\n",
    "    for offset in range(0, num_examples, BATCH_SIZE):\n",
    "        batch_x, batch_y = x_data[offset:offset+BATCH_SIZE], y_data[offset:offset+BATCH_SIZE]\n",
    "        batch_acc = sess.run(acc, feed_dict={x: batch_x, y: batch_y})\n",
    "        total_acc += (batch_acc * len(batch_x))\n",
    "    final_acc = total_acc / num_examples\n",
    "    return final_acc"
   ]
  },
  {
   "cell_type": "code",
   "execution_count": 82,
   "metadata": {},
   "outputs": [
    {
     "name": "stdout",
     "output_type": "stream",
     "text": [
      "conv_0 in shape: [1, 1, 3, 3]\n",
      "conv_0 out shape: [None, 32, 32, 3]\n",
      "conv_1 in shape: [5, 5, 3, 8]\n",
      "conv_1 out shape: [None, 32, 32, 8]\n",
      "conv_2 in shape: [5, 5, 8, 16]\n",
      "conv_2 out shape: [None, 32, 32, 16]\n",
      "conv_3 in shape: [5, 5, 16, 16]\n",
      "conv_3 out shape: [None, 16, 16, 16]\n",
      "conv_4 in shape: [5, 5, 16, 32]\n",
      "conv_4 out shape: [None, 16, 16, 32]\n",
      "conv_5 in shape: [5, 5, 32, 32]\n",
      "conv_5 out shape: [None, 8, 8, 32]\n",
      "conv_6 in shape: [5, 5, 32, 64]\n",
      "conv_6 out shape: [None, 8, 8, 64]\n",
      "k_features:  1024\n",
      "fc_1 shape: in=1024 out=1024\n",
      "fc_2 shape: in=1024 out=512\n",
      "output shape: in=512 out=43\n"
     ]
    }
   ],
   "source": [
    "# construct the graph \n",
    "import tensorflow as tf\n",
    "\n",
    "tf.reset_default_graph()\n",
    "\n",
    "x = tf.placeholder(tf.float32, (None, 32, 32, 3))\n",
    "y = tf.placeholder(tf.int32, (None))\n",
    "one_hot_y = tf.one_hot(y, 43)\n",
    "\n",
    "logits = LeNet_5(x) \n",
    "l2 = l2_reg(decay)\n",
    "xent = cross_entropy(logits, one_hot_y)\n",
    "train = train_step(lr, xent)\n",
    "acc = accuracy(logits, one_hot_y)\n",
    "\n",
    "print('Verify Network Structure:\\n--------------')"
   ]
  },
  {
   "cell_type": "code",
   "execution_count": null,
   "metadata": {
    "collapsed": true
   },
   "outputs": [],
   "source": [
    "### Tensorboard Example ###\n",
    "\n",
    "# Tensorboard Summary\n",
    "summaries = list()\n",
    "\n",
    "# Histogram Summary: Weights\n",
    "summaries.append(tf.summary.histogram(\"Weights_l1_summary\", weights['l1']))\n",
    "summaries.append(tf.summary.histogram(\"Weights_l2_summary\", weights['l2']))\n",
    "\n",
    "# Histogram Summary: Biases\n",
    "summaries.append(tf.summary.histogram(\"Biases_L1\", biases['l1']))\n",
    "summaries.append(tf.summary.histogram(\"Biases_L2\", biases['l2']))\n",
    "\n",
    "loss_op = tf.reduce_mean(tf.nn.softmax_cross_entropy_with_logits(fc2, y))\n",
    "opt = tf.train.AdamOptimizer()\n",
    "train_op = opt.minimize(loss_op)\n",
    "correct_prediction = tf.equal(tf.argmax(fc2, 1), tf.argmax(y, 1))\n",
    "accuracy_op = tf.reduce_mean(tf.cast(correct_prediction, tf.float32))\n",
    "\n",
    "# Scalar Summary: Cost and Accuracy\n",
    "summaries.append(tf.summary.scalar(\"cost\", loss_op))\n",
    "summaries.append(tf.summary.scalar(\"accuracy\", accuracy_op))\n",
    "\n"
   ]
  },
  {
   "cell_type": "code",
   "execution_count": null,
   "metadata": {
    "collapsed": true
   },
   "outputs": [],
   "source": [
    "# Training and accuracy test on augmented data set\n",
    "\n",
    "# merged_summary_op = tf.summary.merge(summaries)\n",
    "\n",
    "with tf.Session() as sess:\n",
    "    sess.run(tf.global_variables_initializer())\n",
    "    writer = tf.summary.FileWriter(LOG_DIR, graph=tf.get_default_graph())\n",
    "    saver = tf.train.Saver()\n",
    "    num_examples = len(X_train_aug)\n",
    "\n",
    "    print(\"Training...\\n--------\")\n",
    "    for i in range(EPOCHS):\n",
    "        step = 0\n",
    "        for offset in range(0, num_examples, BATCH_SIZE):\n",
    "            step += 1\n",
    "            start = offset\n",
    "            end = offset + BATCH_SIZE\n",
    "            batch_x, batch_y = X_train_aug[start:end], y_train_aug[start:end]\n",
    "            sess.run(train, feed_dict={x: batch_x, y: batch_y})\n",
    "            if step % 400 == 0:\n",
    "                batch_acc = sess.run(acc, feed_dict={x: batch_x, y: batch_y})\n",
    "                print(\"Epoch {}, Step {}\".format(i+1, step))\n",
    "                print(\"Training Accuracy = {:.3f}\\n\".format(batch_acc))\n",
    "        \n",
    "        # Calculate validation accuracy \n",
    "        valid_accuracy = evaluate(X_valid_norm, y_valid)\n",
    "        print(\"Validation Accuracy = {:.3f}\\n\".format(valid_accuracy))\n",
    "        print(\"--------\")\n",
    "\n",
    "#         # TensorBoard: Write Summaries\n",
    "#         val_summary, val_loss, val_acc = eval_data(sess,\n",
    "#                                                    X_validation, \n",
    "#                                                    one_hot_y_validation, \n",
    "#                                                    len(y_validation), \n",
    "#                                                    merged_summary_op)        \n",
    "#         writer.add_summary(val_summary, i*BATCH_SIZE)        \n",
    "    \n",
    "    # Calculate test accuracy (run only on final model)\n",
    "    keep_prob = 1.0\n",
    "    test_acc = evaluate(X_test_norm, y_test)\n",
    "    print(\"\\nTest Accuracy = {:.3f}\\n\".format(test_acc))\n",
    "    print(\"--------\")\n",
    "    \n",
    "    saver.save(sess, MODEL_DIR)\n",
    "    print(\"Model saved\")"
   ]
  },
  {
   "cell_type": "code",
   "execution_count": null,
   "metadata": {
    "collapsed": true
   },
   "outputs": [],
   "source": [
    "# Calculate accuracy on test set using latest model\n",
    "import tensorflow as tf\n",
    "\n",
    "with tf.Session() as sess:\n",
    "    saver.restore(sess, tf.train.latest_checkpoint(MODEL_DIR))\n",
    "\n",
    "    test_acc = evaluate(X_test_norm, y_test)\n",
    "    print(\"Test Accuracy = {:.3f}\".format(test_acc))"
   ]
  },
  {
   "cell_type": "code",
   "execution_count": null,
   "metadata": {
    "collapsed": true
   },
   "outputs": [],
   "source": []
  },
  {
   "cell_type": "code",
   "execution_count": null,
   "metadata": {
    "collapsed": true
   },
   "outputs": [],
   "source": []
  },
  {
   "cell_type": "code",
   "execution_count": 83,
   "metadata": {},
   "outputs": [
    {
     "name": "stdout",
     "output_type": "stream",
     "text": [
      "Training...\n",
      "--------\n",
      "Epoch 1, Step 400\n",
      "Training Accuracy = 0.406\n",
      "\n",
      "Epoch 1, Step 800\n",
      "Training Accuracy = 0.867\n",
      "\n",
      "Epoch 1, Step 1200\n",
      "Training Accuracy = 0.938\n",
      "\n",
      "Validation Accuracy = 0.895\n",
      "\n",
      "--------\n",
      "Epoch 2, Step 400\n",
      "Training Accuracy = 0.961\n",
      "\n",
      "Epoch 2, Step 800\n",
      "Training Accuracy = 0.969\n",
      "\n",
      "Epoch 2, Step 1200\n",
      "Training Accuracy = 0.992\n",
      "\n",
      "Validation Accuracy = 0.943\n",
      "\n",
      "--------\n",
      "Epoch 3, Step 400\n",
      "Training Accuracy = 0.984\n",
      "\n",
      "Epoch 3, Step 800\n",
      "Training Accuracy = 0.984\n",
      "\n",
      "Epoch 3, Step 1200\n",
      "Training Accuracy = 1.000\n",
      "\n",
      "Validation Accuracy = 0.957\n",
      "\n",
      "--------\n",
      "Epoch 4, Step 400\n",
      "Training Accuracy = 1.000\n",
      "\n",
      "Epoch 4, Step 800\n",
      "Training Accuracy = 0.984\n",
      "\n",
      "Epoch 4, Step 1200\n",
      "Training Accuracy = 0.992\n",
      "\n",
      "Validation Accuracy = 0.961\n",
      "\n",
      "--------\n",
      "Epoch 5, Step 400\n",
      "Training Accuracy = 0.961\n",
      "\n",
      "Epoch 5, Step 800\n",
      "Training Accuracy = 1.000\n",
      "\n",
      "Epoch 5, Step 1200\n",
      "Training Accuracy = 1.000\n",
      "\n",
      "Validation Accuracy = 0.971\n",
      "\n",
      "--------\n",
      "Epoch 6, Step 400\n",
      "Training Accuracy = 0.992\n",
      "\n",
      "Epoch 6, Step 800\n",
      "Training Accuracy = 0.984\n",
      "\n",
      "Epoch 6, Step 1200\n",
      "Training Accuracy = 1.000\n",
      "\n",
      "Validation Accuracy = 0.967\n",
      "\n",
      "--------\n",
      "Epoch 7, Step 400\n",
      "Training Accuracy = 0.984\n",
      "\n",
      "Epoch 7, Step 800\n",
      "Training Accuracy = 0.984\n",
      "\n",
      "Epoch 7, Step 1200\n",
      "Training Accuracy = 1.000\n",
      "\n",
      "Validation Accuracy = 0.973\n",
      "\n",
      "--------\n",
      "Epoch 8, Step 400\n",
      "Training Accuracy = 0.992\n",
      "\n",
      "Epoch 8, Step 800\n",
      "Training Accuracy = 0.969\n",
      "\n",
      "Epoch 8, Step 1200\n",
      "Training Accuracy = 1.000\n",
      "\n",
      "Validation Accuracy = 0.967\n",
      "\n",
      "--------\n",
      "Epoch 9, Step 400\n",
      "Training Accuracy = 0.992\n",
      "\n",
      "Epoch 9, Step 800\n",
      "Training Accuracy = 0.984\n",
      "\n",
      "Epoch 9, Step 1200\n",
      "Training Accuracy = 1.000\n",
      "\n",
      "Validation Accuracy = 0.966\n",
      "\n",
      "--------\n",
      "Epoch 10, Step 400\n",
      "Training Accuracy = 1.000\n",
      "\n",
      "Epoch 10, Step 800\n",
      "Training Accuracy = 0.977\n",
      "\n",
      "Epoch 10, Step 1200\n",
      "Training Accuracy = 1.000\n",
      "\n",
      "Validation Accuracy = 0.975\n",
      "\n",
      "--------\n",
      "Epoch 11, Step 400\n",
      "Training Accuracy = 1.000\n",
      "\n",
      "Epoch 11, Step 800\n",
      "Training Accuracy = 1.000\n",
      "\n",
      "Epoch 11, Step 1200\n",
      "Training Accuracy = 1.000\n",
      "\n",
      "Validation Accuracy = 0.971\n",
      "\n",
      "--------\n",
      "Epoch 12, Step 400\n",
      "Training Accuracy = 1.000\n",
      "\n",
      "Epoch 12, Step 800\n",
      "Training Accuracy = 1.000\n",
      "\n",
      "Epoch 12, Step 1200\n",
      "Training Accuracy = 1.000\n",
      "\n",
      "Validation Accuracy = 0.973\n",
      "\n",
      "--------\n",
      "Epoch 13, Step 400\n",
      "Training Accuracy = 0.984\n",
      "\n",
      "Epoch 13, Step 800\n",
      "Training Accuracy = 1.000\n",
      "\n",
      "Epoch 13, Step 1200\n",
      "Training Accuracy = 1.000\n",
      "\n",
      "Validation Accuracy = 0.975\n",
      "\n",
      "--------\n",
      "Epoch 14, Step 400\n",
      "Training Accuracy = 0.992\n",
      "\n",
      "Epoch 14, Step 800\n",
      "Training Accuracy = 1.000\n",
      "\n",
      "Epoch 14, Step 1200\n",
      "Training Accuracy = 0.984\n",
      "\n",
      "Validation Accuracy = 0.975\n",
      "\n",
      "--------\n",
      "Epoch 15, Step 400\n",
      "Training Accuracy = 0.984\n",
      "\n",
      "Epoch 15, Step 800\n",
      "Training Accuracy = 0.984\n",
      "\n",
      "Epoch 15, Step 1200\n",
      "Training Accuracy = 1.000\n",
      "\n",
      "Validation Accuracy = 0.972\n",
      "\n",
      "--------\n",
      "Epoch 16, Step 400\n",
      "Training Accuracy = 1.000\n",
      "\n",
      "Epoch 16, Step 800\n",
      "Training Accuracy = 1.000\n",
      "\n",
      "Epoch 16, Step 1200\n",
      "Training Accuracy = 1.000\n",
      "\n",
      "Validation Accuracy = 0.978\n",
      "\n",
      "--------\n",
      "Epoch 17, Step 400\n",
      "Training Accuracy = 1.000\n",
      "\n",
      "Epoch 17, Step 800\n",
      "Training Accuracy = 1.000\n",
      "\n",
      "Epoch 17, Step 1200\n",
      "Training Accuracy = 1.000\n",
      "\n",
      "Validation Accuracy = 0.979\n",
      "\n",
      "--------\n",
      "Epoch 18, Step 400\n",
      "Training Accuracy = 1.000\n",
      "\n",
      "Epoch 18, Step 800\n",
      "Training Accuracy = 0.992\n",
      "\n",
      "Epoch 18, Step 1200\n",
      "Training Accuracy = 1.000\n",
      "\n",
      "Validation Accuracy = 0.980\n",
      "\n",
      "--------\n",
      "Epoch 19, Step 400\n",
      "Training Accuracy = 0.992\n",
      "\n",
      "Epoch 19, Step 800\n",
      "Training Accuracy = 1.000\n",
      "\n",
      "Epoch 19, Step 1200\n",
      "Training Accuracy = 0.992\n",
      "\n",
      "Validation Accuracy = 0.979\n",
      "\n",
      "--------\n",
      "Epoch 20, Step 400\n",
      "Training Accuracy = 0.992\n",
      "\n",
      "Epoch 20, Step 800\n",
      "Training Accuracy = 1.000\n",
      "\n",
      "Epoch 20, Step 1200\n",
      "Training Accuracy = 0.992\n",
      "\n",
      "Validation Accuracy = 0.981\n",
      "\n",
      "--------\n",
      "Model saved\n"
     ]
    }
   ],
   "source": [
    "### GOLD TRAINING RUN on AUGMENTED image set ###\n",
    "\n",
    "with tf.Session() as sess:\n",
    "    sess.run(tf.global_variables_initializer())  # , feed_dict = {IS_TRAIN_PHASE : True }\n",
    "    writer = tf.summary.FileWriter(LOG_DIR, graph=tf.get_default_graph())\n",
    "    saver = tf.train.Saver()\n",
    "    num_examples = len(X_train_aug)\n",
    "\n",
    "    print(\"Training...\\n--------\")\n",
    "    for i in range(EPOCHS):\n",
    "#         X_train_aug, y_train_aug = shuffle(X_train_aug, y_train_aug)\n",
    "        step = 0\n",
    "        for offset in range(0, num_examples, BATCH_SIZE):\n",
    "            step += 1\n",
    "            start = offset\n",
    "            end = offset + BATCH_SIZE\n",
    "            batch_x, batch_y = X_train_aug[start:end], y_train_aug[start:end]\n",
    "            sess.run(train, feed_dict={x: batch_x, y: batch_y})\n",
    "            if step % 400 == 0:\n",
    "                batch_acc = sess.run(acc, feed_dict={x: batch_x, y: batch_y})\n",
    "                print(\"Epoch {}, Step {}\".format(i+1, step))\n",
    "                print(\"Training Accuracy = {:.3f}\\n\".format(batch_acc))\n",
    "        valid_accuracy = evaluate(X_valid_norm, y_valid)\n",
    "        print(\"Validation Accuracy = {:.3f}\\n\".format(valid_accuracy))\n",
    "        print(\"--------\")\n",
    "    saver.save(sess, MODEL_DIR)\n",
    "    print(\"Model saved\")\n",
    "    "
   ]
  },
  {
   "cell_type": "code",
   "execution_count": null,
   "metadata": {
    "collapsed": true
   },
   "outputs": [],
   "source": []
  },
  {
   "cell_type": "code",
   "execution_count": null,
   "metadata": {
    "collapsed": true
   },
   "outputs": [],
   "source": []
  },
  {
   "cell_type": "markdown",
   "metadata": {},
   "source": [
    "---\n",
    "\n",
    "## Step 3: Test a Model on New Images\n",
    "\n",
    "To give yourself more insight into how your model is working, download at least five pictures of German traffic signs from the web and use your model to predict the traffic sign type.\n",
    "\n",
    "You may find `signnames.csv` useful as it contains mappings from the class id (integer) to the actual sign name."
   ]
  },
  {
   "cell_type": "markdown",
   "metadata": {},
   "source": [
    "### Load and Output the Images"
   ]
  },
  {
   "cell_type": "code",
   "execution_count": null,
   "metadata": {
    "collapsed": true
   },
   "outputs": [],
   "source": [
    "### Load the images and plot them here.\n",
    "### Feel free to use as many code cells as needed."
   ]
  },
  {
   "cell_type": "code",
   "execution_count": null,
   "metadata": {
    "collapsed": true
   },
   "outputs": [],
   "source": [
    "import os\n",
    "import matplotlib.pyplot as plt\n",
    "import matplotlib.image as mpimg\n",
    "%matplotlib inline\n",
    "\n",
    "# show cropped images\n",
    "fig = plt.figure(figsize=(32,32)) # , tight_layout={'h_pad':4})\n",
    "i = 0\n",
    "image_dir = 'images/new-signs'\n",
    "for file in os.listdir(image_dir):\n",
    "    if '.jpg' in file:\n",
    "        ax = fig.add_subplot(6,6,i+1) \n",
    "        img = mpimg.imread(image_dir + '/' + file)\n",
    "        ax.imshow(img)\n",
    "        i+=1\n",
    "print('\\nCropped 32x32 images:\\n-----------------------')\n",
    "plt.show()\n",
    "\n",
    "# show originals\n",
    "fig = plt.figure(figsize=(32,32)) #, tight_layout={'h_pad':4})\n",
    "i = 0\n",
    "for file in os.listdir(image_dir + '/originals'):\n",
    "    if '.jpg' in file:\n",
    "        ax = fig.add_subplot(6,6,i+1) \n",
    "        img = mpimg.imread(image_dir + '/originals/' + file)\n",
    "        ax.imshow(img)\n",
    "        i+=1\n",
    "print('\\nOriginal source images:\\n-----------------------')\n",
    "plt.show()"
   ]
  },
  {
   "cell_type": "markdown",
   "metadata": {},
   "source": [
    "### Predict the Sign Type for Each Image"
   ]
  },
  {
   "cell_type": "code",
   "execution_count": null,
   "metadata": {
    "collapsed": true
   },
   "outputs": [],
   "source": [
    "### Run the predictions here and use the model to output the prediction for each image.\n",
    "### Make sure to pre-process the images with the same pre-processing pipeline used earlier.\n",
    "### Feel free to use as many code cells as needed."
   ]
  },
  {
   "cell_type": "markdown",
   "metadata": {},
   "source": [
    "### Analyze Performance"
   ]
  },
  {
   "cell_type": "code",
   "execution_count": null,
   "metadata": {
    "collapsed": true
   },
   "outputs": [],
   "source": [
    "### Calculate the accuracy for these 5 new images. \n",
    "### For example, if the model predicted 1 out of 5 signs correctly, it's 20% accurate on these new images."
   ]
  },
  {
   "cell_type": "code",
   "execution_count": null,
   "metadata": {
    "collapsed": true
   },
   "outputs": [],
   "source": [
    "## Preprocess the new images\n",
    "\n",
    "# Create labels\n",
    "dir = 'images/new-signs'\n",
    "new_filenames = os.listdir(dir)\n",
    "y_new = [n.partition(\"-\")[0] for n in new_filenames if '.jpg' in n]\n",
    "\n",
    "print('{} new labels created:\\n{}'.format(len(y_new), y_new))\n",
    "\n",
    "# Convert images to np arrays\n",
    "new_files = [dir + '/' + n for n in new_filenames if '.jpg' in n]\n",
    "X_new = [mpimg.imread(f) for f in new_files]\n",
    "\n",
    "print('\\n{} new images with shape: {}'.format(len(X_new), X_new[0].shape))\n",
    "\n",
    "# Normalize the images\n",
    "print('\\nNormalizing new images...')\n",
    "X_new_norm = normalize(X_new)\n",
    "\n",
    "print('Done.')"
   ]
  },
  {
   "cell_type": "code",
   "execution_count": null,
   "metadata": {
    "collapsed": true
   },
   "outputs": [],
   "source": [
    "# Calculate predictions and accuracy for new images\n",
    "\n",
    "with tf.Session() as sess:\n",
    "    saver.restore(sess, tf.train.latest_checkpoint(MODEL_DIR))\n",
    "    sess = tf.get_default_session()\n",
    "\n",
    "    preds = sess.run(tf.nn.softmax(logits), feed_dict={x: X_new_norm})\n",
    "    print(\"\\nPredicted Classes:\")\n",
    "    preds_list = list(np.argmax(preds,axis=1))\n",
    "    print(preds_list)\n",
    "    \n",
    "    print(\"vs. Actual Classes:\")\n",
    "    y_new_ints = [int(i) for i in y_new]\n",
    "    print(y_new_ints)\n",
    "    \n",
    "    new_acc = evaluate(X_new_norm, y_new)\n",
    "    print(\"\\nNew Image Accuracy = {:.3f}\\n\".format(new_acc))"
   ]
  },
  {
   "cell_type": "markdown",
   "metadata": {},
   "source": [
    "### Output Top 5 Softmax Probabilities For Each Image Found on the Web"
   ]
  },
  {
   "cell_type": "markdown",
   "metadata": {},
   "source": [
    "For each of the new images, print out the model's softmax probabilities to show the **certainty** of the model's predictions (limit the output to the top 5 probabilities for each image). [`tf.nn.top_k`](https://www.tensorflow.org/versions/r0.12/api_docs/python/nn.html#top_k) could prove helpful here. \n",
    "\n",
    "The example below demonstrates how tf.nn.top_k can be used to find the top k predictions for each image.\n",
    "\n",
    "`tf.nn.top_k` will return the values and indices (class ids) of the top k predictions. So if k=3, for each sign, it'll return the 3 largest probabilities (out of a possible 43) and the correspoding class ids.\n",
    "\n",
    "Take this numpy array as an example. The values in the array represent predictions. The array contains softmax probabilities for five candidate images with six possible classes. `tk.nn.top_k` is used to choose the three classes with the highest probability:\n",
    "\n",
    "```\n",
    "# (5, 6) array\n",
    "a = np.array([[ 0.24879643,  0.07032244,  0.12641572,  0.34763842,  0.07893497,\n",
    "         0.12789202],\n",
    "       [ 0.28086119,  0.27569815,  0.08594638,  0.0178669 ,  0.18063401,\n",
    "         0.15899337],\n",
    "       [ 0.26076848,  0.23664738,  0.08020603,  0.07001922,  0.1134371 ,\n",
    "         0.23892179],\n",
    "       [ 0.11943333,  0.29198961,  0.02605103,  0.26234032,  0.1351348 ,\n",
    "         0.16505091],\n",
    "       [ 0.09561176,  0.34396535,  0.0643941 ,  0.16240774,  0.24206137,\n",
    "         0.09155967]])\n",
    "```\n",
    "\n",
    "Running it through `sess.run(tf.nn.top_k(tf.constant(a), k=3))` produces:\n",
    "\n",
    "```\n",
    "TopKV2(values=array([[ 0.34763842,  0.24879643,  0.12789202],\n",
    "       [ 0.28086119,  0.27569815,  0.18063401],\n",
    "       [ 0.26076848,  0.23892179,  0.23664738],\n",
    "       [ 0.29198961,  0.26234032,  0.16505091],\n",
    "       [ 0.34396535,  0.24206137,  0.16240774]]), indices=array([[3, 0, 5],\n",
    "       [0, 1, 4],\n",
    "       [0, 5, 1],\n",
    "       [1, 3, 5],\n",
    "       [1, 4, 3]], dtype=int32))\n",
    "```\n",
    "\n",
    "Looking just at the first row we get `[ 0.34763842,  0.24879643,  0.12789202]`, you can confirm these are the 3 largest probabilities in `a`. You'll also notice `[3, 0, 5]` are the corresponding indices."
   ]
  },
  {
   "cell_type": "code",
   "execution_count": null,
   "metadata": {
    "collapsed": true
   },
   "outputs": [],
   "source": [
    "### Print out the top five softmax probabilities for the predictions on the German traffic sign images found on the web. \n",
    "### Feel free to use as many code cells as needed."
   ]
  },
  {
   "cell_type": "code",
   "execution_count": null,
   "metadata": {
    "collapsed": true
   },
   "outputs": [],
   "source": [
    "with tf.Session() as sess:\n",
    "    saver.restore(sess, tf.train.latest_checkpoint(MODEL_DIR))\n",
    "    sess = tf.get_default_session()\n",
    "    \n",
    "    pred = tf.nn.softmax(logits)\n",
    "    k = 3\n",
    "    topK = tf.nn.top_k(pred, k)\n",
    "    \n",
    "    topK_pred = sess.run([pred, topK], feed_dict={x: X_new_norm})\n",
    "    \n",
    "    correct_count = 0\n",
    "    \n",
    "    print('\\n\\n               New Input Image:                    Top {} Predictions:'.format(k))\n",
    "    print(\"               ___________________________         _______________________________\")\n",
    "    for i in range(0, len(X_new)):\n",
    "        plt.figure(figsize = (10,1.5))\n",
    "        \n",
    "        plt.subplot2grid((1, 3), (0, 0));\n",
    "        plt.title('[{}]  {}'.format(y_new[i], labels_pd['SignName'][int(y_new[i])]), \\\n",
    "                  {'verticalalignment': 'baseline', 'horizontalalignment': 'left'})        \n",
    "        plt.axis('off');\n",
    "        \n",
    "        plt.subplot2grid((1, 3), (0, 1));\n",
    "        plt.imshow(X_new[i], interpolation='none');\n",
    "        plt.axis('off');\n",
    "        \n",
    "        plt.subplot2grid((1, 3), (0, 2));\n",
    "        plt.barh(6-np.arange(k),topK_pred[1][0][i], align='center');\n",
    "        for i_label in range(k):\n",
    "            class_id = topK_pred[1][1][i][i_label]\n",
    "            sign_name = labels_pd['SignName'][topK_pred[1][1][i][i_label]]\n",
    "            pred_i_label = topK_pred[1][0][i][i_label]\n",
    "            plt.text(pred_i_label+.02,6-i_label-.25, \"[{}]  {}   {:.0%}\".format(class_id, sign_name, pred_i_label));\n",
    "        \n",
    "        pred_0 = topK_pred[1][1][i][0]\n",
    "        if int(pred_0) == int(y_new[i]):\n",
    "            correct_count += 1\n",
    "            fontdict = {'verticalalignment': 'baseline', 'horizontalalignment': 'left', 'color': 'green'}\n",
    "            plt.title(\"* CORRECT *\", fontdict)        \n",
    "        else:\n",
    "            fontdict = {'verticalalignment': 'baseline', 'horizontalalignment': 'left', 'color': 'red'}\n",
    "            plt.title(\"* INCORRECT *\", fontdict)        \n",
    "\n",
    "        plt.axis('off');\n",
    "        \n",
    "        plt.show();\n",
    "    \n",
    "    acc_rate = correct_count / len(X_new)\n",
    "    print('Number correct: {}/{} ({:.0%})'.format(correct_count, len(X_new), acc_rate))   \n",
    "    "
   ]
  },
  {
   "cell_type": "markdown",
   "metadata": {},
   "source": [
    "### Project Writeup\n",
    "\n",
    "Once you have completed the code implementation, document your results in a project writeup using this [template](https://github.com/udacity/CarND-Traffic-Sign-Classifier-Project/blob/master/writeup_template.md) as a guide. The writeup can be in a markdown or pdf file. "
   ]
  },
  {
   "cell_type": "markdown",
   "metadata": {},
   "source": [
    "> **Note**: Once you have completed all of the code implementations and successfully answered each question above, you may finalize your work by exporting the iPython Notebook as an HTML document. You can do this by using the menu above and navigating to  \\n\",\n",
    "    \"**File -> Download as -> HTML (.html)**. Include the finished document along with this notebook as your submission."
   ]
  },
  {
   "cell_type": "markdown",
   "metadata": {},
   "source": [
    "---\n",
    "\n",
    "## Step 4 (Optional): Visualize the Neural Network's State with Test Images\n",
    "\n",
    " This Section is not required to complete but acts as an additional excersise for understaning the output of a neural network's weights. While neural networks can be a great learning device they are often referred to as a black box. We can understand what the weights of a neural network look like better by plotting their feature maps. After successfully training your neural network you can see what it's feature maps look like by plotting the output of the network's weight layers in response to a test stimuli image. From these plotted feature maps, it's possible to see what characteristics of an image the network finds interesting. For a sign, maybe the inner network feature maps react with high activation to the sign's boundary outline or to the contrast in the sign's painted symbol.\n",
    "\n",
    " Provided for you below is the function code that allows you to get the visualization output of any tensorflow weight layer you want. The inputs to the function should be a stimuli image, one used during training or a new one you provided, and then the tensorflow variable name that represents the layer's state during the training process, for instance if you wanted to see what the [LeNet lab's](https://classroom.udacity.com/nanodegrees/nd013/parts/fbf77062-5703-404e-b60c-95b78b2f3f9e/modules/6df7ae49-c61c-4bb2-a23e-6527e69209ec/lessons/601ae704-1035-4287-8b11-e2c2716217ad/concepts/d4aca031-508f-4e0b-b493-e7b706120f81) feature maps looked like for it's second convolutional layer you could enter conv2 as the tf_activation variable.\n",
    "\n",
    "For an example of what feature map outputs look like, check out NVIDIA's results in their paper [End-to-End Deep Learning for Self-Driving Cars](https://devblogs.nvidia.com/parallelforall/deep-learning-self-driving-cars/) in the section Visualization of internal CNN State. NVIDIA was able to show that their network's inner weights had high activations to road boundary lines by comparing feature maps from an image with a clear path to one without. Try experimenting with a similar test to show that your trained network's weights are looking for interesting features, whether it's looking at differences in feature maps from images with or without a sign, or even what feature maps look like in a trained network vs a completely untrained one on the same sign image.\n",
    "\n",
    "<figure>\n",
    " <img src=\"visualize_cnn.png\" width=\"380\" alt=\"Combined Image\" />\n",
    " <figcaption>\n",
    " <p></p> \n",
    " <p style=\"text-align: center;\"> Your output should look something like this (above)</p> \n",
    " </figcaption>\n",
    "</figure>\n",
    " <p></p> \n"
   ]
  },
  {
   "cell_type": "code",
   "execution_count": null,
   "metadata": {
    "collapsed": true
   },
   "outputs": [],
   "source": [
    "### Visualize your network's feature maps here.\n",
    "### Feel free to use as many code cells as needed.\n",
    "\n",
    "# image_input: the test image being fed into the network to produce the feature maps\n",
    "# tf_activation: should be a tf variable name used during your training procedure that represents the calculated state of a specific weight layer\n",
    "# activation_min/max: can be used to view the activation contrast in more detail, by default matplot sets min and max to the actual min and max values of the output\n",
    "# plt_num: used to plot out multiple different weight feature map sets on the same block, just extend the plt number for each new feature map entry\n",
    "\n",
    "def outputFeatureMap(image_input, tf_activation, activation_min=-1, activation_max=-1 ,plt_num=1):\n",
    "    # Here make sure to preprocess your image_input in a way your network expects\n",
    "    # with size, normalization, ect if needed\n",
    "    # image_input =\n",
    "    # Note: x should be the same name as your network's tensorflow data placeholder variable\n",
    "    # If you get an error tf_activation is not defined it may be having trouble accessing the variable from inside a function\n",
    "    activation = tf_activation.eval(session=sess,feed_dict={x : image_input})\n",
    "    featuremaps = activation.shape[3]\n",
    "    plt.figure(plt_num, figsize=(15,15))\n",
    "    for featuremap in range(featuremaps):\n",
    "        plt.subplot(6,8, featuremap+1) # sets the number of feature maps to show on each row and column\n",
    "        plt.title('FeatureMap ' + str(featuremap)) # displays the feature map number\n",
    "        if activation_min != -1 & activation_max != -1:\n",
    "            plt.imshow(activation[0,:,:, featuremap], interpolation=\"nearest\", vmin =activation_min, vmax=activation_max, cmap=\"gray\")\n",
    "        elif activation_max != -1:\n",
    "            plt.imshow(activation[0,:,:, featuremap], interpolation=\"nearest\", vmax=activation_max, cmap=\"gray\")\n",
    "        elif activation_min !=-1:\n",
    "            plt.imshow(activation[0,:,:, featuremap], interpolation=\"nearest\", vmin=activation_min, cmap=\"gray\")\n",
    "        else:\n",
    "            plt.imshow(activation[0,:,:, featuremap], interpolation=\"nearest\", cmap=\"gray\")"
   ]
  }
 ],
 "metadata": {
  "anaconda-cloud": {},
  "kernelspec": {
   "display_name": "Python 3",
   "language": "python",
   "name": "python3"
  },
  "language_info": {
   "codemirror_mode": {
    "name": "ipython",
    "version": 3
   },
   "file_extension": ".py",
   "mimetype": "text/x-python",
   "name": "python",
   "nbconvert_exporter": "python",
   "pygments_lexer": "ipython3",
   "version": "3.5.2"
  },
  "widgets": {
   "state": {},
   "version": "1.1.2"
  }
 },
 "nbformat": 4,
 "nbformat_minor": 1
}
