{
 "cells": [
  {
   "cell_type": "markdown",
   "metadata": {},
   "source": [
    "# Self-Driving Car Engineer Nanodegree\n",
    "\n",
    "\n",
    "## Project 3: Behavioral Cloning\n",
    "August 2017\n"
   ]
  },
  {
   "cell_type": "markdown",
   "metadata": {},
   "source": [
    "---"
   ]
  },
  {
   "cell_type": "markdown",
   "metadata": {},
   "source": [
    "## Goal\n",
    "The goal of this project is to build a machine learning model that can successfully steer a car around a race track that it's never encountered before.\n",
    "\n",
    "The details for this project are located here at [Udacity's Github repo](https://github.com/udacity/CarND-Behavioral-Cloning-P3). My implementation of the project can be found [here at my Github repo](https://github.com/tommytracey/udacity/tree/master/self-driving-nano/projects/3-behavioral-cloning).\n"
   ]
  },
  {
   "cell_type": "markdown",
   "metadata": {},
   "source": [
    "---\n",
    "## Initial Setup"
   ]
  },
  {
   "cell_type": "markdown",
   "metadata": {},
   "source": [
    "#### Import Modules"
   ]
  },
  {
   "cell_type": "code",
   "execution_count": 1,
   "metadata": {},
   "outputs": [
    {
     "name": "stderr",
     "output_type": "stream",
     "text": [
      "Using TensorFlow backend.\n"
     ]
    }
   ],
   "source": [
    "import csv\n",
    "import cv2\n",
    "import keras\n",
    "import keras.backend\n",
    "from keras.callbacks import ModelCheckpoint, Callback\n",
    "from keras.layers.core import Activation, Dense, Dropout, Flatten, Lambda, Reshape\n",
    "from keras.layers.convolutional import Conv2D, Cropping2D\n",
    "from keras.layers.pooling import MaxPooling2D\n",
    "from keras.layers.advanced_activations import ELU\n",
    "from keras.models import Sequential, model_from_json\n",
    "from keras.preprocessing.image import ImageDataGenerator\n",
    "from keras.optimizers import Adam\n",
    "from keras.regularizers import l2\n",
    "import matplotlib.image as mpimg\n",
    "import matplotlib.pyplot as plt\n",
    "%matplotlib inline\n",
    "import numpy as np\n",
    "import os\n",
    "import pandas as pd\n",
    "import random\n",
    "from sklearn.model_selection import train_test_split\n",
    "from sklearn.utils import shuffle\n",
    "import tensorflow as tf\n",
    "from tqdm import tqdm\n",
    "\n"
   ]
  },
  {
   "cell_type": "markdown",
   "metadata": {},
   "source": [
    "#### Verify that Keras is using Tensforflow backend"
   ]
  },
  {
   "cell_type": "markdown",
   "metadata": {},
   "source": [
    "The Keras backend uses Theano by default and changing it to Tensorflow can be tricky via Jupyter. Simply updating the config json file `$HOME/.keras/keras.json` as directed in [Keras backend documentation](https://keras.io/backend/) did not work for me. Trying to set it _before or after loading the notebook_ did not work eithter when using:\n",
    "\n",
    "`$ os.environ[\"KERAS_BACKEND\"]=\"tensorflow\"`\n",
    "\n",
    "The only way I could reliably set Tensorflow as the backend was to use the following command **UPON loading the notebook**:\n",
    "\n",
    "`$ KERAS_BACKEND=tensorflow jupyter notebook`\n",
    "\n",
    "(NOTE: You can also append `--NotebookApp.iopub_data_rate_limit=10000000000` to the above command if your notebook includes a lot of visualizations. This will help prevent the kernel from crashing and/or causing you to lose your connection to your AWS EC2 instance.)\n",
    "\n",
    "Re: the backend, **the cell below only provides a sanity check that the backend is configured as expected**. Note that the version of Tensorflow being used by Keras may be different than the one you typically run in your environment. \n",
    "\n",
    "[This post](https://www.nodalpoint.com/switch-keras-backend/) by Christos-Iraklis Tsatsoulis provides even more detail if you'd like to further understand the issues and automate the setup process."
   ]
  },
  {
   "cell_type": "code",
   "execution_count": null,
   "metadata": {
    "collapsed": true
   },
   "outputs": [],
   "source": [
    "print('Keras version: ', keras.__version__)\n",
    "print('Tensorflow version: ', tf.__version__)\n",
    "print('Keras backend: ', keras.backend.backend())\n",
    "print('keras.backend.image_dim_ordering = ', keras.backend.image_dim_ordering())\n",
    "\n",
    "os.environ[\"KERAS_BACKEND\"] = \"tensorflow\"\n",
    "if keras.backend.backend() != 'tensorflow':\n",
    "    raise BaseException(\"This script uses other backend\")\n",
    "else:\n",
    "    keras.backend.set_image_dim_ordering('tf')\n",
    "    print(\"\\nBackend OK\")"
   ]
  },
  {
   "cell_type": "markdown",
   "metadata": {},
   "source": [
    "---\n",
    "# Step 1: Load and preview the data"
   ]
  },
  {
   "cell_type": "markdown",
   "metadata": {},
   "source": [
    "---"
   ]
  },
  {
   "cell_type": "markdown",
   "metadata": {},
   "source": [
    "### Original Data Set (provided by Udacity)"
   ]
  },
  {
   "cell_type": "code",
   "execution_count": 2,
   "metadata": {
    "scrolled": true
   },
   "outputs": [
    {
     "name": "stdout",
     "output_type": "stream",
     "text": [
      "total rows:  8036\n"
     ]
    },
    {
     "data": {
      "text/html": [
       "<div>\n",
       "<table border=\"1\" class=\"dataframe\">\n",
       "  <thead>\n",
       "    <tr style=\"text-align: right;\">\n",
       "      <th></th>\n",
       "      <th>center</th>\n",
       "      <th>left</th>\n",
       "      <th>right</th>\n",
       "      <th>steering</th>\n",
       "      <th>throttle</th>\n",
       "      <th>brake</th>\n",
       "      <th>speed</th>\n",
       "    </tr>\n",
       "  </thead>\n",
       "  <tbody>\n",
       "    <tr>\n",
       "      <th>0</th>\n",
       "      <td>IMG/center_2016_12_01_13_30_48_287.jpg</td>\n",
       "      <td>IMG/left_2016_12_01_13_30_48_287.jpg</td>\n",
       "      <td>IMG/right_2016_12_01_13_30_48_287.jpg</td>\n",
       "      <td>0.0</td>\n",
       "      <td>0.0</td>\n",
       "      <td>0.0</td>\n",
       "      <td>22.148290</td>\n",
       "    </tr>\n",
       "    <tr>\n",
       "      <th>1</th>\n",
       "      <td>IMG/center_2016_12_01_13_30_48_404.jpg</td>\n",
       "      <td>IMG/left_2016_12_01_13_30_48_404.jpg</td>\n",
       "      <td>IMG/right_2016_12_01_13_30_48_404.jpg</td>\n",
       "      <td>0.0</td>\n",
       "      <td>0.0</td>\n",
       "      <td>0.0</td>\n",
       "      <td>21.879630</td>\n",
       "    </tr>\n",
       "    <tr>\n",
       "      <th>2</th>\n",
       "      <td>IMG/center_2016_12_01_13_31_12_937.jpg</td>\n",
       "      <td>IMG/left_2016_12_01_13_31_12_937.jpg</td>\n",
       "      <td>IMG/right_2016_12_01_13_31_12_937.jpg</td>\n",
       "      <td>0.0</td>\n",
       "      <td>0.0</td>\n",
       "      <td>0.0</td>\n",
       "      <td>1.453011</td>\n",
       "    </tr>\n",
       "    <tr>\n",
       "      <th>3</th>\n",
       "      <td>IMG/center_2016_12_01_13_31_13_037.jpg</td>\n",
       "      <td>IMG/left_2016_12_01_13_31_13_037.jpg</td>\n",
       "      <td>IMG/right_2016_12_01_13_31_13_037.jpg</td>\n",
       "      <td>0.0</td>\n",
       "      <td>0.0</td>\n",
       "      <td>0.0</td>\n",
       "      <td>1.438419</td>\n",
       "    </tr>\n",
       "    <tr>\n",
       "      <th>4</th>\n",
       "      <td>IMG/center_2016_12_01_13_31_13_177.jpg</td>\n",
       "      <td>IMG/left_2016_12_01_13_31_13_177.jpg</td>\n",
       "      <td>IMG/right_2016_12_01_13_31_13_177.jpg</td>\n",
       "      <td>0.0</td>\n",
       "      <td>0.0</td>\n",
       "      <td>0.0</td>\n",
       "      <td>1.418236</td>\n",
       "    </tr>\n",
       "  </tbody>\n",
       "</table>\n",
       "</div>"
      ],
      "text/plain": [
       "                                   center  \\\n",
       "0  IMG/center_2016_12_01_13_30_48_287.jpg   \n",
       "1  IMG/center_2016_12_01_13_30_48_404.jpg   \n",
       "2  IMG/center_2016_12_01_13_31_12_937.jpg   \n",
       "3  IMG/center_2016_12_01_13_31_13_037.jpg   \n",
       "4  IMG/center_2016_12_01_13_31_13_177.jpg   \n",
       "\n",
       "                                    left  \\\n",
       "0   IMG/left_2016_12_01_13_30_48_287.jpg   \n",
       "1   IMG/left_2016_12_01_13_30_48_404.jpg   \n",
       "2   IMG/left_2016_12_01_13_31_12_937.jpg   \n",
       "3   IMG/left_2016_12_01_13_31_13_037.jpg   \n",
       "4   IMG/left_2016_12_01_13_31_13_177.jpg   \n",
       "\n",
       "                                    right  steering  throttle  brake  \\\n",
       "0   IMG/right_2016_12_01_13_30_48_287.jpg       0.0       0.0    0.0   \n",
       "1   IMG/right_2016_12_01_13_30_48_404.jpg       0.0       0.0    0.0   \n",
       "2   IMG/right_2016_12_01_13_31_12_937.jpg       0.0       0.0    0.0   \n",
       "3   IMG/right_2016_12_01_13_31_13_037.jpg       0.0       0.0    0.0   \n",
       "4   IMG/right_2016_12_01_13_31_13_177.jpg       0.0       0.0    0.0   \n",
       "\n",
       "       speed  \n",
       "0  22.148290  \n",
       "1  21.879630  \n",
       "2   1.453011  \n",
       "3   1.438419  \n",
       "4   1.418236  "
      ]
     },
     "execution_count": 2,
     "metadata": {},
     "output_type": "execute_result"
    }
   ],
   "source": [
    "# Load UDACITY data into a list\n",
    "with open('data/udacity/driving_log.csv', newline='') as f:\n",
    "    udacity_data = list(csv.reader(f, skipinitialspace=True, delimiter=',', quoting=csv.QUOTE_NONE))\n",
    "    \n",
    "# Load UDACITY data from .csv and preview it in Pandas dataframe\n",
    "udacity_df = pd.read_csv('data/udacity/driving_log.csv', header=0)\n",
    "\n",
    "print('total rows: ', len(udacity_df))\n",
    "udacity_df.head()"
   ]
  },
  {
   "cell_type": "markdown",
   "metadata": {},
   "source": [
    "### New Data Set (with addition of self-generated data)"
   ]
  },
  {
   "cell_type": "code",
   "execution_count": 154,
   "metadata": {},
   "outputs": [
    {
     "name": "stdout",
     "output_type": "stream",
     "text": [
      "total records:  18606\n",
      "\n",
      "first record:\n",
      " ['center', 'left', 'right', 'steering', 'throttle', 'brake', 'speed']\n",
      "\n",
      "Dataframe header:\n",
      "\n"
     ]
    },
    {
     "data": {
      "text/html": [
       "<div>\n",
       "<table border=\"1\" class=\"dataframe\">\n",
       "  <thead>\n",
       "    <tr style=\"text-align: right;\">\n",
       "      <th></th>\n",
       "      <th>center</th>\n",
       "      <th>left</th>\n",
       "      <th>right</th>\n",
       "      <th>steering</th>\n",
       "      <th>throttle</th>\n",
       "      <th>brake</th>\n",
       "      <th>speed</th>\n",
       "    </tr>\n",
       "  </thead>\n",
       "  <tbody>\n",
       "    <tr>\n",
       "      <th>0</th>\n",
       "      <td>IMG/center_2016_12_01_13_30_48_287.jpg</td>\n",
       "      <td>IMG/left_2016_12_01_13_30_48_287.jpg</td>\n",
       "      <td>IMG/right_2016_12_01_13_30_48_287.jpg</td>\n",
       "      <td>0.0</td>\n",
       "      <td>0.0</td>\n",
       "      <td>0.0</td>\n",
       "      <td>22.148290</td>\n",
       "    </tr>\n",
       "    <tr>\n",
       "      <th>1</th>\n",
       "      <td>IMG/center_2016_12_01_13_30_48_404.jpg</td>\n",
       "      <td>IMG/left_2016_12_01_13_30_48_404.jpg</td>\n",
       "      <td>IMG/right_2016_12_01_13_30_48_404.jpg</td>\n",
       "      <td>0.0</td>\n",
       "      <td>0.0</td>\n",
       "      <td>0.0</td>\n",
       "      <td>21.879630</td>\n",
       "    </tr>\n",
       "    <tr>\n",
       "      <th>2</th>\n",
       "      <td>IMG/center_2016_12_01_13_31_12_937.jpg</td>\n",
       "      <td>IMG/left_2016_12_01_13_31_12_937.jpg</td>\n",
       "      <td>IMG/right_2016_12_01_13_31_12_937.jpg</td>\n",
       "      <td>0.0</td>\n",
       "      <td>0.0</td>\n",
       "      <td>0.0</td>\n",
       "      <td>1.453011</td>\n",
       "    </tr>\n",
       "    <tr>\n",
       "      <th>3</th>\n",
       "      <td>IMG/center_2016_12_01_13_31_13_037.jpg</td>\n",
       "      <td>IMG/left_2016_12_01_13_31_13_037.jpg</td>\n",
       "      <td>IMG/right_2016_12_01_13_31_13_037.jpg</td>\n",
       "      <td>0.0</td>\n",
       "      <td>0.0</td>\n",
       "      <td>0.0</td>\n",
       "      <td>1.438419</td>\n",
       "    </tr>\n",
       "    <tr>\n",
       "      <th>4</th>\n",
       "      <td>IMG/center_2016_12_01_13_31_13_177.jpg</td>\n",
       "      <td>IMG/left_2016_12_01_13_31_13_177.jpg</td>\n",
       "      <td>IMG/right_2016_12_01_13_31_13_177.jpg</td>\n",
       "      <td>0.0</td>\n",
       "      <td>0.0</td>\n",
       "      <td>0.0</td>\n",
       "      <td>1.418236</td>\n",
       "    </tr>\n",
       "  </tbody>\n",
       "</table>\n",
       "</div>"
      ],
      "text/plain": [
       "                                   center  \\\n",
       "0  IMG/center_2016_12_01_13_30_48_287.jpg   \n",
       "1  IMG/center_2016_12_01_13_30_48_404.jpg   \n",
       "2  IMG/center_2016_12_01_13_31_12_937.jpg   \n",
       "3  IMG/center_2016_12_01_13_31_13_037.jpg   \n",
       "4  IMG/center_2016_12_01_13_31_13_177.jpg   \n",
       "\n",
       "                                    left  \\\n",
       "0   IMG/left_2016_12_01_13_30_48_287.jpg   \n",
       "1   IMG/left_2016_12_01_13_30_48_404.jpg   \n",
       "2   IMG/left_2016_12_01_13_31_12_937.jpg   \n",
       "3   IMG/left_2016_12_01_13_31_13_037.jpg   \n",
       "4   IMG/left_2016_12_01_13_31_13_177.jpg   \n",
       "\n",
       "                                    right  steering  throttle  brake  \\\n",
       "0   IMG/right_2016_12_01_13_30_48_287.jpg       0.0       0.0    0.0   \n",
       "1   IMG/right_2016_12_01_13_30_48_404.jpg       0.0       0.0    0.0   \n",
       "2   IMG/right_2016_12_01_13_31_12_937.jpg       0.0       0.0    0.0   \n",
       "3   IMG/right_2016_12_01_13_31_13_037.jpg       0.0       0.0    0.0   \n",
       "4   IMG/right_2016_12_01_13_31_13_177.jpg       0.0       0.0    0.0   \n",
       "\n",
       "       speed  \n",
       "0  22.148290  \n",
       "1  21.879630  \n",
       "2   1.453011  \n",
       "3   1.438419  \n",
       "4   1.418236  "
      ]
     },
     "execution_count": 154,
     "metadata": {},
     "output_type": "execute_result"
    }
   ],
   "source": [
    "# Load data into list\n",
    "with open('data/track1/driving_log.csv', newline='') as f:\n",
    "    track1_data = list(csv.reader(f, skipinitialspace=True, delimiter=',', quoting=csv.QUOTE_NONE))\n",
    "\n",
    "# Load data from .csv and preview it in Pandas dataframe\n",
    "track1_df = pd.read_csv('data/track1/driving_log.csv', header=0)\n",
    "\n",
    "print('total records: ', len(track1_data))\n",
    "print('\\nfirst record:\\n', track1_data[0])\n",
    "print('\\nDataframe header:\\n')\n",
    "track1_df.head()"
   ]
  },
  {
   "cell_type": "markdown",
   "metadata": {},
   "source": [
    "#### Data Set: Initial Observations\n",
    "We can see from the table above that the driving data includes:\n",
    "- relative paths to .jpg images from three different camera angles (center, left, right)\n",
    "- floating point measurements of the vehicle's steering angle, throttle, brake, and speed\n",
    "- the data appears to be time series, although no time stamps are included"
   ]
  },
  {
   "cell_type": "markdown",
   "metadata": {},
   "source": [
    "## Preview the driving images\n",
    "\n",
    "The driving images are the training features for our model. We need to look at samples of these images and start thinking about how various characteristics might affect the model (positively or negatively). "
   ]
  },
  {
   "cell_type": "code",
   "execution_count": 4,
   "metadata": {
    "collapsed": true
   },
   "outputs": [],
   "source": [
    "## Preview a random set of images from each camera angle\n",
    "\n",
    "index = random.randint(0, len(udacity_df))\n",
    "img_dir = 'data/udacity/'\n",
    "\n",
    "center_img_orig = mpimg.imread(img_dir + udacity_data[index][0])\n",
    "left_img_orig = mpimg.imread(img_dir + udacity_data[index][1])\n",
    "right_img_orig = mpimg.imread(img_dir + udacity_data[index][2])\n",
    "\n",
    "center_steer = udacity_data[index][3]"
   ]
  },
  {
   "cell_type": "code",
   "execution_count": null,
   "metadata": {
    "collapsed": true
   },
   "outputs": [],
   "source": [
    "# Display visualizations in the notebook\n",
    "%matplotlib inline\n",
    "\n",
    "plt.figure(figsize=(20,5))\n",
    "\n",
    "plt.subplot2grid((1, 3), (0, 0));\n",
    "plt.axis('off')\n",
    "plt.title('left camera')\n",
    "plt.text(0, left_img_orig.shape[0]+15, ('shape: ' + str(left_img_orig.shape)))\n",
    "plt.imshow(left_img_orig, cmap=\"gray\")\n",
    "\n",
    "plt.subplot2grid((1, 3), (0, 1));\n",
    "plt.axis('off')\n",
    "plt.title('center camera')\n",
    "plt.text(0, center_img_orig.shape[0]+15, ('shape: ' + str(center_img_orig.shape)))\n",
    "plt.text(0, center_img_orig.shape[0]+30, ('steering angle: ' + center_steer))\n",
    "plt.imshow(center_img_orig, cmap=\"gray\")\n",
    "\n",
    "plt.subplot2grid((1, 3), (0, 2));\n",
    "plt.axis('off')\n",
    "plt.title('right camera')\n",
    "plt.text(0, right_img_orig.shape[0]+15, ('shape: ' + str(right_img_orig.shape)))\n",
    "plt.imshow(right_img_orig, cmap=\"gray\")"
   ]
  },
  {
   "cell_type": "markdown",
   "metadata": {},
   "source": [
    "#### Driving Images: Initial Observations\n",
    "We can see from the images above that:\n",
    "- the images are taken in the front of the car (no side or rear angles)\n",
    "- each image is 160x320 with 3 RGB color channels\n",
    "- there is quite a bit of superfluous data, i.e. data that won't benefit the model; for example the sky, hills, trees in the background, as well as the hood of the car).\n",
    "\n",
    "If you view enough images or actually run the simulator, you also see that:\n",
    "- there are a lot of turns in the road (duh!), but since the track ultimately ends where it started, there seems to be more turns in one direction than the other\n",
    "- the lane markings change shape and color at different points in the track, and at some points there are no markings at all!\n",
    "- all of the images are consistently bright; no glare, no darkness, and no shadows that you'd usually encounter with normal driving\n",
    "\n",
    "Given the simulation takes place on a race track (not a highway), the road is free of additional cars, traffic signs, lanes, etc. We won't account for these in this project, but a more robust driving model would need training data that included these conditions. \n",
    "\n",
    "That said, many of the other items above can create biases in our model and cause it to overfit the specific driving conditions within this particular simulation. We need to correct for these so that our model learns to drive in a variety of conditions we might find on other tracks. We'll do this by pre-processing and augmenting our training data throughout the sections to follow. But first let's look at our target data (steering angles) to see if there's anything else we need to correct for. "
   ]
  },
  {
   "cell_type": "markdown",
   "metadata": {},
   "source": [
    "## Examine the steering angles\n",
    "The steering angles are our target data for training the model. That is, based on the images fed into the model while the car is driving along the track, the model will predict the appropriate steering angle to navigate the patch of road ahead."
   ]
  },
  {
   "cell_type": "code",
   "execution_count": 5,
   "metadata": {
    "collapsed": true
   },
   "outputs": [],
   "source": [
    "## Steering angle distribution function\n",
    "\n",
    "def show_dist(angles):\n",
    "    angles = np.array(angles)\n",
    "    num_bins = 35    \n",
    "    avg_per_bin = len(angles) / num_bins\n",
    "    \n",
    "    print('Total records:', angles.shape[0])\n",
    "    print('Avg per bin: {:0.1f}'.format(avg_per_bin))\n",
    "    \n",
    "    hist, bins = np.histogram(angles, num_bins)\n",
    "    width = 0.8 * (bins[1] - bins[0])\n",
    "    center = (bins[:-1] + bins[1:]) / 2\n",
    "\n",
    "    plt.title('Distribution of Steering Angles')\n",
    "    plt.bar(center, hist, align='center', width=width)\n",
    "    plt.plot((np.min(angles), np.max(angles)), (avg_per_bin, avg_per_bin), 'k-')\n",
    "    plt.show()\n"
   ]
  },
  {
   "cell_type": "markdown",
   "metadata": {},
   "source": [
    "#### Distribution &mdash; Udacity Data"
   ]
  },
  {
   "cell_type": "code",
   "execution_count": null,
   "metadata": {
    "collapsed": true
   },
   "outputs": [],
   "source": [
    "angles = udacity_df.steering.tolist()\n",
    "show_dist(angles)\n"
   ]
  },
  {
   "cell_type": "markdown",
   "metadata": {},
   "source": [
    "**Steering Angle Observations**:\n",
    "\n",
    "We can see from the graph above that an overwhelming amount of the target data are steering angles close to zero (i.e., when the car is driving straight). This biases our model to drive the car straight and make it's difficult to learn how to navigate turns. \n",
    "\n",
    "It also seems there may be an imbalance in left vs. right turning data (although not as much as I had expected). It's not clear how big of an impact this would have on the model, but there's a chance the model could learn to turn more effectively in one direction than the other. Just to be safe we'll correct for this by ensuring there are equal quantities of left and right steering data after pre-processing. "
   ]
  },
  {
   "cell_type": "markdown",
   "metadata": {},
   "source": [
    "#### Distribution &mdash; Self-generated data + Udacity data"
   ]
  },
  {
   "cell_type": "code",
   "execution_count": 155,
   "metadata": {},
   "outputs": [
    {
     "name": "stdout",
     "output_type": "stream",
     "text": [
      "Total records: 18605\n",
      "Avg per bin: 531.6\n"
     ]
    },
    {
     "data": {
      "image/png": "[encoded data removed]",
      "text/plain": [
       "<matplotlib.figure.Figure at 0x7f88b91146d8>"
      ]
     },
     "metadata": {},
     "output_type": "display_data"
    }
   ],
   "source": [
    "angles = track1_df.steering.tolist()\n",
    "show_dist(angles)"
   ]
  },
  {
   "cell_type": "markdown",
   "metadata": {},
   "source": [
    "---\n",
    "# Step 2: Data pre-processing\n",
    "---"
   ]
  },
  {
   "cell_type": "markdown",
   "metadata": {},
   "source": [
    "### 2.1 | Overview of Data Sources and Splits\n",
    "\n",
    "**Data Sources**: \n",
    "- There are two tracks, but all of the original training and validation data is generated by driving the simulator on **Track 1**.\n",
    "- Udacity provides an intial set of \"good\" data to get us started.\n",
    "- Additional data is gathered by running the simulator myself. \n",
    "\n",
    "**Training Data**:\n",
    "- The training data set includes the original image data captured from the simulator on Track 1, plus any additional data generated via pre-processing and augmentation. \n",
    "\n",
    "**Validation Data**:\n",
    "- The validation data will contain the original image data captured from the simulator on Track 1, with only a pre-process to create a more balanced distribution (i.e., reduce the 'drive straight' bias). No other pre-processing or augmentation is included. This ensures we can properly validate whether changes we're making to the model or training data are increasing or decreasing the model's performance. \n",
    "\n",
    "**Test Data**:\n",
    "- We'll test the model's ability to generalize by running it on **Track 2**. So, the simulator input images from Track 2 will serve as our test data."
   ]
  },
  {
   "cell_type": "code",
   "execution_count": 156,
   "metadata": {
    "collapsed": true
   },
   "outputs": [],
   "source": [
    "## Define data sources and their corresponding image directory\n",
    "\n",
    "sources = ['udacity', 'self', 'track1', 'track1/t1-mouse']    # available data sources/groupings\n",
    "source = sources[2]                        # source used for building the pipeline below\n",
    "\n",
    "## Creates correct directory based on the image source\n",
    "def get_img_dir(source):\n",
    "    return \"data/\" + source + \"/IMG/\"\n"
   ]
  },
  {
   "cell_type": "markdown",
   "metadata": {},
   "source": [
    "### 2.2 | Data Hygiene\n",
    "\n",
    "Before going any further there are few aspects of the data we need to cleanup to make the data easier to work with.\n",
    "\n",
    "1. We're only using the steering data to train the model, so we can prune out the other measurements (throttle, brake, and speed).\n",
    "2. Remove the directory from image path data. We'll be moving our data around and we only want the image filename. \n",
    "3. Cast all of the steering data as floats. In the .csv they're cast as strings. "
   ]
  },
  {
   "cell_type": "code",
   "execution_count": 157,
   "metadata": {
    "collapsed": true
   },
   "outputs": [],
   "source": [
    "## Hygiene function\n",
    "\n",
    "# column references for source data: \n",
    "# 0=center_img, 1=left_img, 2=right_img, 3=steering, 4=throttle, 5=brake, 6=speed\n",
    "\n",
    "def clean(source_data):\n",
    "    '''Performs basic hygiene functions listed above.\n",
    "    \n",
    "    Arguments:\n",
    "    source_data: source data in list format with header row\n",
    "    '''\n",
    "    data_clean = []\n",
    "\n",
    "    for row in source_data[1:]:\n",
    "        # Remove directory from image paths\n",
    "        center = row[0].split('/')[-1]\n",
    "        left = row[1].split('/')[-1]\n",
    "        right = row[2].split('/')[-1]\n",
    "\n",
    "        # Only grab the steering data and cast as float\n",
    "        angle = float(row[3])\n",
    "\n",
    "        data_clean.append([center, left, right, angle])\n",
    "    \n",
    "    return data_clean\n"
   ]
  },
  {
   "cell_type": "markdown",
   "metadata": {},
   "source": [
    "#### Track 1 data hygiene"
   ]
  },
  {
   "cell_type": "code",
   "execution_count": 158,
   "metadata": {
    "collapsed": true
   },
   "outputs": [],
   "source": [
    "track1_clean = clean(track1_data)"
   ]
  },
  {
   "cell_type": "code",
   "execution_count": 159,
   "metadata": {},
   "outputs": [
    {
     "name": "stdout",
     "output_type": "stream",
     "text": [
      "number of records:  18605\n"
     ]
    }
   ],
   "source": [
    "print('number of records: ', len(track1_clean))"
   ]
  },
  {
   "cell_type": "code",
   "execution_count": 160,
   "metadata": {},
   "outputs": [
    {
     "data": {
      "text/plain": [
       "[['center_2016_12_01_13_30_48_287.jpg',\n",
       "  'left_2016_12_01_13_30_48_287.jpg',\n",
       "  'right_2016_12_01_13_30_48_287.jpg',\n",
       "  0.0],\n",
       " ['center_2016_12_01_13_30_48_404.jpg',\n",
       "  'left_2016_12_01_13_30_48_404.jpg',\n",
       "  'right_2016_12_01_13_30_48_404.jpg',\n",
       "  0.0],\n",
       " ['center_2016_12_01_13_31_12_937.jpg',\n",
       "  'left_2016_12_01_13_31_12_937.jpg',\n",
       "  'right_2016_12_01_13_31_12_937.jpg',\n",
       "  0.0]]"
      ]
     },
     "execution_count": 160,
     "metadata": {},
     "output_type": "execute_result"
    }
   ],
   "source": [
    "# Preview first three records\n",
    "track1_clean[0:3]"
   ]
  },
  {
   "cell_type": "markdown",
   "metadata": {},
   "source": [
    "### 2.3 | Create Validation and Test Sets"
   ]
  },
  {
   "cell_type": "code",
   "execution_count": 161,
   "metadata": {},
   "outputs": [
    {
     "name": "stdout",
     "output_type": "stream",
     "text": [
      "Number of training samples:  16241\n",
      "Number of validation samples:  1805\n",
      "Number of test samples:  559\n",
      "Total:  18605\n"
     ]
    }
   ],
   "source": [
    "## Create training and test sets\n",
    "\n",
    "X_train_pre1 = [i[0:3] for i in track1_clean]     # list of image filenames for all 3 cameras\n",
    "y_train_pre1 = [i[3] for i in track1_clean]     # list of steering angles\n",
    "\n",
    "# Split training and testing data\n",
    "X_train_pre2, X_test, y_train_pre2, y_test = \\\n",
    "                train_test_split(X_train_pre1, y_train_pre1, test_size=0.03, random_state=73)\n",
    "\n",
    "# Split training and validation data\n",
    "X_train_pre3, X_valid, y_train_pre3, y_valid = \\\n",
    "                train_test_split(X_train_pre2, y_train_pre2, test_size=0.1, random_state=56)\n",
    "\n",
    "# Remove left and right camera data from validation and test splits\n",
    "X_valid = [i[0] for i in X_valid]\n",
    "X_test = [i[0] for i in X_test]\n",
    "\n",
    "# Number of training examples\n",
    "n_train = len(X_train_pre3)\n",
    "\n",
    "# Number of training examples\n",
    "n_valid = len(X_valid)\n",
    "\n",
    "# Number of test examples\n",
    "n_test = len(X_test)\n",
    "\n",
    "# Verify that all counts match\n",
    "print('Number of training samples: ', n_train)\n",
    "print('Number of validation samples: ', n_valid)\n",
    "print('Number of test samples: ', n_test)\n",
    "print('Total: ', n_train + n_valid + n_test)"
   ]
  },
  {
   "cell_type": "markdown",
   "metadata": {},
   "source": [
    "---\n",
    "# Step 3: Data Augmentation\n",
    "---\n",
    "In the following section we'll explore ways to augment our **training data** to help the model extract the most important features related to steering the car. "
   ]
  },
  {
   "cell_type": "code",
   "execution_count": 162,
   "metadata": {
    "collapsed": true
   },
   "outputs": [],
   "source": [
    "# Augmentation prep: Rejoin the training image names and angles into a single data set\n",
    "\n",
    "train_data = []\n",
    "for i in range(len(y_train_pre3)):\n",
    "    train_data.append([X_train_pre3[i][0], X_train_pre3[i][1], X_train_pre3[i][2], y_train_pre3[i]])"
   ]
  },
  {
   "cell_type": "code",
   "execution_count": 163,
   "metadata": {},
   "outputs": [
    {
     "data": {
      "text/plain": [
       "['center_2017_08_16_13_22_02_941.jpg',\n",
       " 'left_2017_08_16_13_22_02_941.jpg',\n",
       " 'right_2017_08_16_13_22_02_941.jpg',\n",
       " -0.4]"
      ]
     },
     "execution_count": 163,
     "metadata": {},
     "output_type": "execute_result"
    }
   ],
   "source": [
    "train_data[0]"
   ]
  },
  {
   "cell_type": "markdown",
   "metadata": {},
   "source": [
    "### 3.1 | Overview of Augmentations Strategies\n",
    "\n",
    "< insert table showing which functions are applied to each data set and when in the pipeline >"
   ]
  },
  {
   "cell_type": "code",
   "execution_count": null,
   "metadata": {
    "collapsed": true
   },
   "outputs": [],
   "source": []
  },
  {
   "cell_type": "markdown",
   "metadata": {},
   "source": [
    "### 3.2 | Seperate C/L/R camera data and adjust steering angles for left and right turns\n",
    "Right now, each row of the data set contains three camera angles (center, left, right) and one steering angle which pertains to the center camera. In order to utilize all of the different camera data, we need to: \n",
    "\n",
    "1. Separate the data for each of the different camera angles (only one camera angle per row)\n",
    "2. Adjust the steering angles for the left and right cameras _while the car is turning_. This will compensate for their respective vantage points relative to the center of the car. That is, the steering angle for a right turn should be sharper from the persective of the left camera (and vice versa). "
   ]
  },
  {
   "cell_type": "code",
   "execution_count": 164,
   "metadata": {
    "collapsed": true
   },
   "outputs": [],
   "source": [
    "turn_thresh = 0.1   # the angle threshold used to identify left and right turns\n",
    "# ang_corr = np.random.uniform(0.25, 0.30)   # the steering angle correction for left and right cameras\n",
    "ang_corr = 0.15\n",
    "\n",
    "def steer_adj(angle):\n",
    "    '''Calculates the absolute value of the steering angle correction for images from \n",
    "    the left and right cameras.\n",
    "    '''\n",
    "    new_angle = min((abs(angle)+ang_corr), 1.0)\n",
    "    \n",
    "    return new_angle\n"
   ]
  },
  {
   "cell_type": "code",
   "execution_count": 165,
   "metadata": {
    "collapsed": true
   },
   "outputs": [],
   "source": [
    "## Function for adding left and right camera angles\n",
    "\n",
    "def split_3cam(train_data, keep_prob):\n",
    "    '''Creates a list of image filenames and angles now with one camera \n",
    "    input per row (not three). \n",
    "        \n",
    "    Arguments:\n",
    "    train_data: list of training image filenames and angles. Each row \n",
    "                has images names for all three cameras.\n",
    "    keep_prob: probability of keeping zero steering angle records \n",
    "    \n",
    "    Returns:\n",
    "    a list of tuples [(image filename, angle)]\n",
    "    \n",
    "    '''\n",
    "    train_3cam = []\n",
    "\n",
    "    for row in train_data:\n",
    "        \n",
    "        # Center camera\n",
    "        img_center, ang_center = row[0], row[3]\n",
    "        \n",
    "        # Capture right turn data\n",
    "        if ang_center > turn_thresh:\n",
    "            # center camera, orig steering angle\n",
    "            train_3cam.append((img_center, ang_center))\n",
    "\n",
    "            # left camera, adjusted steering angle\n",
    "            img_left, ang_left = row[1], steer_adj(row[3])\n",
    "            train_3cam.append((img_left, ang_left))\n",
    "\n",
    "        # Capture left turn data\n",
    "        elif ang_center < -turn_thresh:\n",
    "            # center camera, orig steering angle\n",
    "            train_3cam.append((img_center, ang_center)) \n",
    "\n",
    "            # right camera, adjusted steering angle\n",
    "            img_right, ang_right = row[1], -steer_adj(row[3])  \n",
    "            train_3cam.append((img_right, ang_right))\n",
    "\n",
    "        # Capture straight driving data\n",
    "        else: \n",
    "#             if ang_center == 0:\n",
    "#                 if np.random.rand() <= keep_prob:\n",
    "#                     train_3cam.append((img_center, ang_center))\n",
    "#             else:\n",
    "#                 train_3cam.append((img_center, ang_center))\n",
    "            if np.random.rand() <= keep_prob:\n",
    "                train_3cam.append((img_center, ang_center))\n",
    "    \n",
    "    return train_3cam"
   ]
  },
  {
   "cell_type": "markdown",
   "metadata": {},
   "source": [
    "#### Create dataset with all 3 cameras"
   ]
  },
  {
   "cell_type": "code",
   "execution_count": 166,
   "metadata": {},
   "outputs": [
    {
     "name": "stdout",
     "output_type": "stream",
     "text": [
      "Total records: 20837\n",
      "Avg per bin: 595.3\n"
     ]
    },
    {
     "data": {
      "image/png": "[encoded data removed]",
      "text/plain": [
       "<matplotlib.figure.Figure at 0x7f88bc338a58>"
      ]
     },
     "metadata": {},
     "output_type": "display_data"
    }
   ],
   "source": [
    "train_3cam = split_3cam(train_data, 1.0)\n",
    "angles = [i[1] for i in train_3cam]\n",
    "show_dist(angles)"
   ]
  },
  {
   "cell_type": "markdown",
   "metadata": {},
   "source": [
    "#### Flatten the distribution (a little)\n",
    "As we can see from the graph above, there's still MUCH more 'drive straight' data than turning data. So, below we remove most of the zero angle data to somewhat normalize the distribution. We'll actually equalize the distribution later on. For now, we just want to make it more balanced and get a more detailed look at the other parts of the distribution. "
   ]
  },
  {
   "cell_type": "code",
   "execution_count": 173,
   "metadata": {},
   "outputs": [
    {
     "name": "stdout",
     "output_type": "stream",
     "text": [
      "Total records: 12662\n",
      "Avg per bin: 361.8\n"
     ]
    },
    {
     "data": {
      "image/png": "[encoded data removed]",
      "text/plain": [
       "<matplotlib.figure.Figure at 0x7f88b8676a58>"
      ]
     },
     "metadata": {},
     "output_type": "display_data"
    }
   ],
   "source": [
    "keep_3cam = 0.3\n",
    "train_3cam = split_3cam(train_data, keep_3cam)\n",
    "angles = [i[1] for i in train_3cam]\n",
    "show_dist(angles)"
   ]
  },
  {
   "cell_type": "markdown",
   "metadata": {},
   "source": [
    "### 3.3 | Crop the images (preview only)\n",
    "There is a lot of background information in the image that isn't useful for training the model (e.g. trees, sky, birds). Cropping the image helps reduce the level of noise so the model can more easily identify the most important features, namely the turns in the road directly ahead.\n",
    "\n",
    "**NOTE:**\n",
    "The crop function is not actually performed during pre-processing. It happens via the `Cropping2D()` layer near the beginning of the model, just after normalization. We do cropping at this point because we also want to crop the input images from the simulator during testing. But, for visualization purposes in this notebook, we'll start showing images in their cropped formed now...so that we can see how other transformations we're making will affect what the model \"sees\" later in the pipeline."
   ]
  },
  {
   "cell_type": "code",
   "execution_count": 18,
   "metadata": {},
   "outputs": [
    {
     "name": "stdout",
     "output_type": "stream",
     "text": [
      "orig_shape:  (160, 320, 3)\n",
      "crop_shape:  (80, 280, 3)\n",
      "crop points (h1, h2, w1, w2) = (60, 140, 20, 300)\n"
     ]
    }
   ],
   "source": [
    "## Define crop points\n",
    "\n",
    "# Crop settings provided to Keras Cropping2D layer within the model\n",
    "crop_set = (60, 20), (20, 20)   # number of pixels to remove from (top, bottom), (left, right)\n",
    "    \n",
    "# Model input_shape (160, 320, 3) \n",
    "orig_shape = center_img_orig.shape  \n",
    "\n",
    "# Image shape after cropping\n",
    "crop_shape = (\n",
    "    orig_shape[0]-(crop_set[0][0]+crop_set[0][1]), \\\n",
    "    orig_shape[1]-(crop_set[1][0]+crop_set[1][1]),  \\\n",
    "    orig_shape[2]\n",
    ")\n",
    "\n",
    "# Resulting crop points (for previewing images in notebook)\n",
    "h1, h2 = (crop_set[0][0], orig_shape[0]-crop_set[0][1])\n",
    "w1, w2 = (crop_set[1][0], orig_shape[1]-crop_set[1][1])\n",
    "crop_points = (h1, h2, w1, w2)\n",
    "\n",
    "print('orig_shape: ', orig_shape)\n",
    "print('crop_shape: ', crop_shape)\n",
    "print('crop points (h1, h2, w1, w2) = {}'.format(crop_points))"
   ]
  },
  {
   "cell_type": "code",
   "execution_count": 19,
   "metadata": {
    "collapsed": true
   },
   "outputs": [],
   "source": [
    "## Cropping function (again, for notebook display purposes only)\n",
    "\n",
    "def crop(image_data):\n",
    "    h1, h2, w1, w2 = crop_points\n",
    "    \n",
    "    if isinstance(image_data, str):\n",
    "        img_crop = mpimg.imread(get_img_dir(source) + image_data)[h1:h2,w1:w2]\n",
    "    else:\n",
    "        img_crop = image_data[h1:h2,w1:w2]\n",
    "    \n",
    "    return img_crop\n"
   ]
  },
  {
   "cell_type": "markdown",
   "metadata": {},
   "source": [
    "### 3.4 | Flip the images\n",
    "This function was originally executed later in the pipeline within the generator. But, I decided to move it up to the pre-processing stage since it inherently adds more images while balancing the steering angle distribution. Doing this earlier in the process helps prevent some data loss when we attempt to equalize the distribution in the final step of pre-processing. The equalization step (randomly) removes a significant chunk of data, so it's better to add the flipped images beforehand as it increases the chances that at least one version of an image is included in the training data (i.e., it adds more samples and greater variety to our training set)."
   ]
  },
  {
   "cell_type": "code",
   "execution_count": 20,
   "metadata": {
    "collapsed": true
   },
   "outputs": [],
   "source": [
    "## Flip functions\n",
    "\n",
    "\n",
    "# For flipping batches of images and angles input as a list\n",
    "\n",
    "def flip_n(data_3cam):\n",
    "    '''Creates a flipped version of every input image and angle. \n",
    "    \n",
    "    Returns both the original and the flipped versions in list form. \n",
    "    '''\n",
    "    image_names = [i[0] for i in data_3cam]\n",
    "    angles = [i[1] for i in data_3cam]\n",
    "    \n",
    "    images_flip = []\n",
    "    angles_flip = []\n",
    "\n",
    "    for i in range(len(angles)):\n",
    "        # Grab the image\n",
    "        image = mpimg.imread(get_img_dir(source) + image_names[i])\n",
    "        \n",
    "        # Append the original image and angle\n",
    "        images_flip.append(image)\n",
    "        angles_flip.append(angles[i])\n",
    "        \n",
    "        # Append the flipped versions\n",
    "        images_flip.append(cv2.flip(image, 1))\n",
    "        angles_flip.append(-angles[i])\n",
    "\n",
    "    return list(zip(images_flip, angles_flip))\n",
    "\n",
    "\n",
    "# Flips a single image input as either a string or array\n",
    "\n",
    "def flip(image_data):\n",
    "    if isinstance(image_data, str):\n",
    "        image = mpimg.imread(get_img_dir(source) + image_data)\n",
    "    else:\n",
    "        image = image_data\n",
    "        \n",
    "    return np.array(cv2.flip(image, 1))\n"
   ]
  },
  {
   "cell_type": "markdown",
   "metadata": {},
   "source": [
    "#### Preview Flipped Images\n",
    "Again, we also crop the images here for demo purposes, so we get a better idea of what the model will ultimately see."
   ]
  },
  {
   "cell_type": "code",
   "execution_count": null,
   "metadata": {
    "collapsed": true
   },
   "outputs": [],
   "source": [
    "## Preview flipped images\n",
    "\n",
    "index = random.randint(0, len(track1_clean))\n",
    "\n",
    "# Select a random set of images to crop\n",
    "center_img_crop = crop(track1_clean[index][0])\n",
    "left_img_crop = crop(track1_clean[index][1])\n",
    "right_img_crop = crop(track1_clean[index][2])\n",
    "\n",
    "# Create flipped versions\n",
    "center_img_flip = flip(center_img_crop)\n",
    "left_img_flip = flip(left_img_crop)\n",
    "right_img_flip = flip(right_img_crop)\n",
    "\n",
    "# Calculate steering angles\n",
    "center_steer = float(track1_clean[index][3])\n",
    "left_steer = None\n",
    "left_steer_flip = None \n",
    "right_steer = None\n",
    "right_steer_flip = None\n",
    "if center_steer > turn_thresh:\n",
    "    left_steer = steer_adj(center_steer)\n",
    "    left_steer_flip = -steer_adj(center_steer)\n",
    "if center_steer < -turn_thresh:\n",
    "    right_steer = -steer_adj(center_steer)\n",
    "    right_steer_flip = steer_adj(center_steer)\n",
    "    \n",
    "# Display visualizations in the notebook\n",
    "plt.figure(figsize=(20,6))\n",
    "\n",
    "# Cropped versions\n",
    "plt.subplot2grid((2, 3), (0, 0));\n",
    "plt.axis('off')\n",
    "plt.title('Left Camera (cropped)')\n",
    "plt.text(0, left_img_crop.shape[0]+15, ('shape: ' + str(left_img_crop.shape)))\n",
    "plt.text(0, left_img_crop.shape[0]+30, ('steering angle: ' + str(left_steer)))\n",
    "plt.imshow(left_img_crop, cmap=\"gray\")\n",
    "\n",
    "plt.subplot2grid((2, 3), (0, 1));\n",
    "plt.axis('off')\n",
    "plt.title('Center Camera (cropped)')\n",
    "plt.text(0, center_img_crop.shape[0]+15, ('shape: ' + str(center_img_crop.shape)))\n",
    "plt.text(0, center_img_crop.shape[0]+30, ('steering angle: ' + str(center_steer)))\n",
    "plt.imshow(center_img_crop, cmap=\"gray\")\n",
    "\n",
    "plt.subplot2grid((2, 3), (0, 2));\n",
    "plt.axis('off')\n",
    "plt.title('Right Camera (cropped)')\n",
    "plt.text(0, right_img_crop.shape[0]+15, ('shape: ' + str(right_img_crop.shape)))\n",
    "plt.text(0, right_img_crop.shape[0]+30, ('steering angle: ' + str(right_steer)))\n",
    "plt.imshow(right_img_crop, cmap=\"gray\")\n",
    "\n",
    "# Flipped version\n",
    "plt.subplot2grid((2, 3), (1, 0));\n",
    "plt.axis('off')\n",
    "plt.title('Left Camera (cropped + flipped)')\n",
    "plt.text(0, left_img_flip.shape[0]+15, ('shape: ' + str(left_img_flip.shape)))\n",
    "plt.text(0, left_img_flip.shape[0]+30, ('steering angle: ' + str(left_steer_flip)))\n",
    "plt.imshow(left_img_flip, cmap=\"gray\")\n",
    "\n",
    "plt.subplot2grid((2, 3), (1, 1));\n",
    "plt.axis('off')\n",
    "plt.title('Center Camera (cropped + flipped)')\n",
    "plt.text(0, center_img_flip.shape[0]+15, ('shape: ' + str(center_img_flip.shape)))\n",
    "plt.text(0, center_img_flip.shape[0]+30, ('steering angle: ' + str(-center_steer)))\n",
    "plt.imshow(center_img_flip, cmap=\"gray\")\n",
    "\n",
    "plt.subplot2grid((2, 3), (1, 2));\n",
    "plt.axis('off')\n",
    "plt.title('Right Camera (cropped + flipped)')\n",
    "plt.text(0, right_img_flip.shape[0]+15, ('shape: ' + str(right_img_flip.shape)))\n",
    "plt.text(0, right_img_flip.shape[0]+30, ('steering angle: ' + str(right_steer_flip)))\n",
    "plt.imshow(right_img_flip, cmap=\"gray\")"
   ]
  },
  {
   "cell_type": "markdown",
   "metadata": {},
   "source": [
    "#### Add flipped images to dataset\n",
    "The flipping procecess takes image filenames and outputs a flipped version of the image in its array format (160, 320, 3). So we also need to fetch the image arrays for the source image filenames. We do this via the `get_images()` function below."
   ]
  },
  {
   "cell_type": "code",
   "execution_count": 21,
   "metadata": {
    "collapsed": true
   },
   "outputs": [],
   "source": [
    "# Function for fetching images\n",
    "\n",
    "def get_images(img_name_ang):\n",
    "    '''Fetches the image data for a given image filename.\n",
    "    \n",
    "    Arguments:\n",
    "    img_name_ang: list of tuples with image names and angles, [(img_name, angle)]\n",
    "    \n",
    "    Returns:\n",
    "    image_data: list of tuples with images and angles, [(img_data, angle)]\n",
    "    '''\n",
    "    image_data = []\n",
    "    for i in range(len(img_name_ang)):\n",
    "        img = mpimg.imread(get_img_dir(source) + img_name_ang[i][0])\n",
    "        ang = img_name_ang[i][1]\n",
    "        image_data.append((img, ang))\n",
    "    \n",
    "    return image_data"
   ]
  },
  {
   "cell_type": "code",
   "execution_count": 174,
   "metadata": {
    "collapsed": true
   },
   "outputs": [],
   "source": [
    "# Combine the original and flipped versions into a single data set\n",
    "\n",
    "train_flip = [(flip(i[0]), -i[1]) for i in train_3cam] + get_images(train_3cam)"
   ]
  },
  {
   "cell_type": "code",
   "execution_count": 175,
   "metadata": {},
   "outputs": [
    {
     "name": "stdout",
     "output_type": "stream",
     "text": [
      "Flipping was successful!\n",
      "Total images: 25324\n"
     ]
    }
   ],
   "source": [
    "# Check number of records - should be 2x the 3cam output\n",
    "\n",
    "if (len(train_flip) == 2 * len(train_3cam)):\n",
    "    print(\"Flipping was successful!\")\n",
    "    print(\"Total images:\", len(train_flip))\n",
    "else:\n",
    "    print(\"Flipping *NOT* successful!\")\n"
   ]
  },
  {
   "cell_type": "markdown",
   "metadata": {},
   "source": [
    "#### New Distribution with the addition of flipped images\n",
    "We can see that the nuber of left and right turns in each bin is now perfectly balanced. And, we now have twice as many training images!"
   ]
  },
  {
   "cell_type": "code",
   "execution_count": 176,
   "metadata": {},
   "outputs": [
    {
     "name": "stdout",
     "output_type": "stream",
     "text": [
      "Total records: 25324\n",
      "Avg per bin: 723.5\n"
     ]
    },
    {
     "data": {
      "image/png": "[encoded data removed]",
      "text/plain": [
       "<matplotlib.figure.Figure at 0x7f88bb724cf8>"
      ]
     },
     "metadata": {},
     "output_type": "display_data"
    }
   ],
   "source": [
    "angles = [i[1] for i in train_flip]\n",
    "show_dist(angles)"
   ]
  },
  {
   "cell_type": "markdown",
   "metadata": {},
   "source": [
    "### 3.5 | Flatten the Distribution\n",
    "We want our model to get roughly the same number of training samples for each bin of steering angles. This will ensure that the model isn't better at steering in one direction versus another (or not steering at all!)."
   ]
  },
  {
   "cell_type": "markdown",
   "metadata": {},
   "source": [
    "**NOTE**: I borrowed the function below from Jeremy Shannon ([source code](https://github.com/jeremy-shannon/CarND-Behavioral-Cloning-Project/blob/master/model.py#L225)) with a few modifications. Great to see other Udacity students publishing such useful tools. Jeremy's code was better than anything else I found on Stack Overflow etc."
   ]
  },
  {
   "cell_type": "code",
   "execution_count": 25,
   "metadata": {
    "collapsed": true
   },
   "outputs": [],
   "source": [
    "def equal_dist(data, factor):\n",
    "    '''Creates a more equalized distribution of steering angles.\n",
    "    \n",
    "    Basic logic:\n",
    "    - If the number of samples in a given bin is below the target number, keep all samples for that bin.\n",
    "    - Otherwise the keep prob for that bin is set to bring the number of samples for that bin down to the average.\n",
    "    \n",
    "    '''\n",
    "    images = [i[0] for i in data]\n",
    "    angles = [i[1] for i in data]\n",
    "    \n",
    "    num_bins = 35\n",
    "    avg_samples_per_bin = len(angles) / num_bins\n",
    "    target = avg_samples_per_bin * factor\n",
    "\n",
    "    hist, bins = np.histogram(angles, num_bins)\n",
    "    \n",
    "    # Determine keep probability for each bin\n",
    "    keep_probs = []\n",
    "    for i in range(num_bins):\n",
    "        if hist[i] <= target:\n",
    "            keep_probs.append(1.)\n",
    "        else:\n",
    "            keep_prob = 1./(hist[i]/target)\n",
    "            keep_probs.append(keep_prob)\n",
    "    \n",
    "    # Create list of angles to remove because bin count is above the target\n",
    "    remove_list = []\n",
    "    for i in range(len(angles)):\n",
    "        for j in range(num_bins):\n",
    "            if angles[i] >= bins[j] and angles[i] <= bins[j+1]:\n",
    "                # delete with probability 1 - keep_probs[j]\n",
    "                if np.random.rand() > keep_probs[j]:\n",
    "                    remove_list.append(i)\n",
    "\n",
    "    for i in sorted(remove_list, reverse=True):\n",
    "        del images[i]\n",
    "        del angles[i]\n",
    "        \n",
    "    eq_data = []\n",
    "    \n",
    "    for i in range(len(angles)):\n",
    "        eq_data.append([images[i], angles[i]])\n",
    "    \n",
    "    return eq_data"
   ]
  },
  {
   "cell_type": "markdown",
   "metadata": {
    "collapsed": true
   },
   "source": [
    "#### Current Distribution"
   ]
  },
  {
   "cell_type": "code",
   "execution_count": 177,
   "metadata": {},
   "outputs": [
    {
     "name": "stdout",
     "output_type": "stream",
     "text": [
      "Total records: 25324\n",
      "Avg per bin: 723.5\n"
     ]
    },
    {
     "data": {
      "image/png": "[encoded data removed]",
      "text/plain": [
       "<matplotlib.figure.Figure at 0x7f88b8da40b8>"
      ]
     },
     "metadata": {},
     "output_type": "display_data"
    }
   ],
   "source": [
    "train_angles = np.array([i[1] for i in train_flip])\n",
    "show_dist(train_angles)"
   ]
  },
  {
   "cell_type": "markdown",
   "metadata": {},
   "source": [
    "#### New Distribution"
   ]
  },
  {
   "cell_type": "code",
   "execution_count": 188,
   "metadata": {},
   "outputs": [
    {
     "name": "stdout",
     "output_type": "stream",
     "text": [
      "Total records: 10882\n",
      "Avg per bin: 310.9\n"
     ]
    },
    {
     "data": {
      "image/png": "[encoded data removed]",
      "text/plain": [
       "<matplotlib.figure.Figure at 0x7f88b8b209e8>"
      ]
     },
     "metadata": {},
     "output_type": "display_data"
    },
    {
     "name": "stdout",
     "output_type": "stream",
     "text": [
      "Records removed: 14442\n"
     ]
    }
   ],
   "source": [
    "keep_eq = 0.6\n",
    "\n",
    "train_eq = equal_dist(train_flip, keep_eq)\n",
    "\n",
    "train_images_eq = [i[0] for i in train_eq]\n",
    "train_angles_eq = [i[1] for i in train_eq]\n",
    "\n",
    "show_dist(train_angles_eq)\n",
    "print('Records removed:', len(train_angles)-len(train_angles_eq))"
   ]
  },
  {
   "cell_type": "markdown",
   "metadata": {},
   "source": [
    "### 3.7 |  Pre-Process the Data Set\n",
    "Here we apply all of the pre-processing functions described above to create our pre-processed data set. "
   ]
  },
  {
   "cell_type": "code",
   "execution_count": 37,
   "metadata": {
    "collapsed": true
   },
   "outputs": [],
   "source": [
    "def pre_process(train_data):\n",
    "    \n",
    "    cam3_data = split_3cam(train_data, keep_3cam)\n",
    "    flip_data = [(flip(i[0]), -i[1]) for i in cam3_data] + get_images(cam3_data)\n",
    "    pp_train_data = equal_dist(flip_data, keep_eq)\n",
    "    \n",
    "    return pp_train_data  "
   ]
  },
  {
   "cell_type": "code",
   "execution_count": 189,
   "metadata": {},
   "outputs": [],
   "source": [
    "keep_3cam = 0.3   # the keep probability for zero steering angle records during initial flattening\n",
    "keep_eq = 0.6     # the keep probablity for records above the mean during final flattening"
   ]
  },
  {
   "cell_type": "markdown",
   "metadata": {},
   "source": [
    "#### Pre-process the Self-Generated Data"
   ]
  },
  {
   "cell_type": "code",
   "execution_count": 191,
   "metadata": {},
   "outputs": [],
   "source": [
    "# Create pre-processed training set\n",
    "source = 'track1'\n",
    "pp_train_data = pre_process(train_data)"
   ]
  },
  {
   "cell_type": "code",
   "execution_count": 192,
   "metadata": {},
   "outputs": [
    {
     "data": {
      "text/plain": [
       "(160, 320, 3)"
      ]
     },
     "execution_count": 192,
     "metadata": {},
     "output_type": "execute_result"
    }
   ],
   "source": [
    "pp_train_data[0][0].shape"
   ]
  },
  {
   "cell_type": "code",
   "execution_count": 193,
   "metadata": {
    "collapsed": true
   },
   "outputs": [],
   "source": [
    "# Separate the training features into a list of pre-processed images\n",
    "X_train = [i[0] for i in pp_train_data]\n",
    "\n",
    "# Separate the training target data into a list of pre-processed angles\n",
    "y_train = [i[1] for i in pp_train_data]"
   ]
  },
  {
   "cell_type": "code",
   "execution_count": 194,
   "metadata": {},
   "outputs": [
    {
     "data": {
      "text/plain": [
       "(160, 320, 3)"
      ]
     },
     "execution_count": 194,
     "metadata": {},
     "output_type": "execute_result"
    }
   ],
   "source": [
    "X_train[0].shape"
   ]
  },
  {
   "cell_type": "code",
   "execution_count": 195,
   "metadata": {},
   "outputs": [
    {
     "data": {
      "text/plain": [
       "10879"
      ]
     },
     "execution_count": 195,
     "metadata": {},
     "output_type": "execute_result"
    }
   ],
   "source": [
    "len(X_train)"
   ]
  },
  {
   "cell_type": "code",
   "execution_count": 196,
   "metadata": {
    "scrolled": true
   },
   "outputs": [
    {
     "data": {
      "text/plain": [
       "10879"
      ]
     },
     "execution_count": 196,
     "metadata": {},
     "output_type": "execute_result"
    }
   ],
   "source": [
    "len(y_train)"
   ]
  },
  {
   "cell_type": "code",
   "execution_count": 197,
   "metadata": {},
   "outputs": [
    {
     "data": {
      "text/plain": [
       "0.55"
      ]
     },
     "execution_count": 197,
     "metadata": {},
     "output_type": "execute_result"
    }
   ],
   "source": [
    "y_train[0]"
   ]
  },
  {
   "cell_type": "markdown",
   "metadata": {},
   "source": [
    "#### Pre-Process the Udacity Data "
   ]
  },
  {
   "cell_type": "code",
   "execution_count": 114,
   "metadata": {
    "collapsed": true
   },
   "outputs": [],
   "source": [
    "udacity_clean = clean(udacity_data)"
   ]
  },
  {
   "cell_type": "code",
   "execution_count": 115,
   "metadata": {},
   "outputs": [
    {
     "data": {
      "text/plain": [
       "8036"
      ]
     },
     "execution_count": 115,
     "metadata": {},
     "output_type": "execute_result"
    }
   ],
   "source": [
    "len(udacity_clean)"
   ]
  },
  {
   "cell_type": "code",
   "execution_count": 141,
   "metadata": {
    "collapsed": true
   },
   "outputs": [],
   "source": [
    "keep_3cam = 0.03   # the keep probability for zero steering angle records during initial flattening\n",
    "keep_eq = 0.05     # the keep probablity for records above the mean during final flattening"
   ]
  },
  {
   "cell_type": "code",
   "execution_count": 142,
   "metadata": {
    "collapsed": true
   },
   "outputs": [],
   "source": [
    "# Create pre-processed training set\n",
    "source = 'udacity'\n",
    "pp_udacity_data = pre_process(udacity_clean)"
   ]
  },
  {
   "cell_type": "code",
   "execution_count": 143,
   "metadata": {},
   "outputs": [
    {
     "data": {
      "text/plain": [
       "(160, 320, 3)"
      ]
     },
     "execution_count": 143,
     "metadata": {},
     "output_type": "execute_result"
    }
   ],
   "source": [
    "pp_udacity_data[0][0].shape"
   ]
  },
  {
   "cell_type": "code",
   "execution_count": 144,
   "metadata": {
    "collapsed": true
   },
   "outputs": [],
   "source": [
    "# Separate the training features into a list of pre-processed images\n",
    "X_train_ud = [i[0] for i in pp_udacity_data]\n",
    "\n",
    "# Separate the training target data into a list of pre-processed angles\n",
    "y_train_ud = [i[1] for i in pp_udacity_data]"
   ]
  },
  {
   "cell_type": "code",
   "execution_count": 145,
   "metadata": {},
   "outputs": [
    {
     "data": {
      "text/plain": [
       "386"
      ]
     },
     "execution_count": 145,
     "metadata": {},
     "output_type": "execute_result"
    }
   ],
   "source": [
    "len(X_train_ud)"
   ]
  },
  {
   "cell_type": "code",
   "execution_count": 146,
   "metadata": {},
   "outputs": [
    {
     "name": "stdout",
     "output_type": "stream",
     "text": [
      "Total records: 386\n",
      "Avg per bin: 11.0\n"
     ]
    },
    {
     "data": {
      "image/png": "[encoded data removed]",
      "text/plain": [
       "<matplotlib.figure.Figure at 0x7f88b8d80780>"
      ]
     },
     "metadata": {},
     "output_type": "display_data"
    }
   ],
   "source": [
    "show_dist(y_train_ud)"
   ]
  },
  {
   "cell_type": "markdown",
   "metadata": {},
   "source": [
    "#### Combine Self-Generated and Udacity Pre-Processed Data"
   ]
  },
  {
   "cell_type": "code",
   "execution_count": 198,
   "metadata": {
    "collapsed": true
   },
   "outputs": [],
   "source": [
    "X_train_comb = X_train + X_train_ud\n",
    "y_train_comb = y_train + y_train_ud"
   ]
  },
  {
   "cell_type": "code",
   "execution_count": 199,
   "metadata": {},
   "outputs": [
    {
     "data": {
      "text/plain": [
       "11265"
      ]
     },
     "execution_count": 199,
     "metadata": {},
     "output_type": "execute_result"
    }
   ],
   "source": [
    "len(X_train_comb)"
   ]
  },
  {
   "cell_type": "code",
   "execution_count": 200,
   "metadata": {},
   "outputs": [
    {
     "data": {
      "text/plain": [
       "11265"
      ]
     },
     "execution_count": 200,
     "metadata": {},
     "output_type": "execute_result"
    }
   ],
   "source": [
    "len(y_train_comb)"
   ]
  },
  {
   "cell_type": "code",
   "execution_count": 201,
   "metadata": {},
   "outputs": [
    {
     "name": "stdout",
     "output_type": "stream",
     "text": [
      "Number of training samples:  11265\n",
      "Number of validation samples:  1805\n",
      "Number of test samples:  559\n",
      "Total:  13629\n"
     ]
    }
   ],
   "source": [
    "## Summary of training, validation, and test sets\n",
    "\n",
    "# Number of training examples\n",
    "n_train = len(X_train_comb)\n",
    "\n",
    "# Number of training examples\n",
    "n_valid = len(X_valid)\n",
    "\n",
    "# Number of test examples\n",
    "n_test = len(X_test)\n",
    "\n",
    "# Verify that all counts match\n",
    "print('Number of training samples: ', n_train)\n",
    "print('Number of validation samples: ', n_valid)\n",
    "print('Number of test samples: ', n_test)\n",
    "print('Total: ', n_train + n_valid + n_test)"
   ]
  },
  {
   "cell_type": "markdown",
   "metadata": {},
   "source": [
    "### 3.7 | Pipeline status check &mdash; Where are we at?\n",
    "We've done a lot already. Let's take a minute to see where we're at. There are many steps in the pipeline, so it's easy to get lost. \n",
    "\n",
    "<br>\n",
    "**Completed Steps** &mdash; Here's what we've done so far:\n",
    "\n",
    "**1** - Load and examine the data, plus a little hygiene <br>\n",
    "**2** - Split the data into training, validation, and test sets <br>\n",
    "**3** - Pre-process the training data to make it easier for the model to extract the most important features <br>\n",
    "<br>\n",
    "<br>\n",
    "**Next Steps** &mdash; In the subsequent parts of the pipeline, we will:\n",
    "\n",
    "**4** - Feed the training sets into a generator to undergoe further augmentation (e.g. smoothing, random brightness, affine transformations). This step is only applied to training data, not validation or test data. <br>\n",
    "**5** - Feed the augmented training data into the model where it is normalized, cropped, and resized <br>\n",
    "**6** - Train the model on the augmented data set <br>\n",
    "**7** - Test the model on the validation set"
   ]
  },
  {
   "cell_type": "markdown",
   "metadata": {},
   "source": [
    "---"
   ]
  },
  {
   "cell_type": "markdown",
   "metadata": {},
   "source": [
    "## Step 4: Data Generator "
   ]
  },
  {
   "cell_type": "markdown",
   "metadata": {},
   "source": [
    "### 4.1 | Overview"
   ]
  },
  {
   "cell_type": "markdown",
   "metadata": {},
   "source": []
  },
  {
   "cell_type": "markdown",
   "metadata": {},
   "source": [
    "### 4.2 | Image Smoothing"
   ]
  },
  {
   "cell_type": "markdown",
   "metadata": {},
   "source": [
    "After reviewing the various smoothing techniques discussed [here in the OpenCV docs](http://docs.opencv.org/3.1.0/d4/d13/tutorial_py_filtering.html), I decided to use `cv2.bilateralFilter()`. While the operation is slower than the other filters, it has the advantage of removing noise from the image **while preserving the edges**. A more in depth discussion on bilateral filtering can be found [here](http://homepages.inf.ed.ac.uk/rbf/CVonline/LOCAL_COPIES/MANDUCHI1/Bilateral_Filtering.html) (University of Edinburgh). "
   ]
  },
  {
   "cell_type": "code",
   "execution_count": 93,
   "metadata": {
    "collapsed": true
   },
   "outputs": [],
   "source": [
    "def smooth(image_data):\n",
    "    blur_filter = (5, 80, 80)\n",
    "    \n",
    "    if isinstance(image_data, str):\n",
    "        image = mpimg.imread(get_img_dir(source) + image_data)\n",
    "    else:\n",
    "        image = image_data\n",
    "    \n",
    "    img_blur = cv2.bilateralFilter(image, blur_filter[0], blur_filter[1], blur_filter[2])\n",
    "    \n",
    "    return img_blur"
   ]
  },
  {
   "cell_type": "code",
   "execution_count": null,
   "metadata": {
    "collapsed": true
   },
   "outputs": [],
   "source": [
    "## Preview smoothed images\n",
    "\n",
    "index = random.randint(0, len(track1_clean))\n",
    "\n",
    "# Select a random set of images to crop\n",
    "center_img_crop = crop(track1_clean[index][0])\n",
    "left_img_crop = crop(track1_clean[index][1])\n",
    "right_img_crop = crop(track1_clean[index][2])\n",
    "\n",
    "# Create smoothed versions\n",
    "center_img_blur = smooth(center_img_crop)\n",
    "left_img_blur = smooth(left_img_crop)\n",
    "right_img_blur = smooth(right_img_crop)\n",
    "    \n",
    "# Display visualizations in the notebook\n",
    "plt.figure(figsize=(20,6))\n",
    "\n",
    "# Cropped versions\n",
    "plt.subplot2grid((2, 3), (0, 0));\n",
    "plt.axis('off')\n",
    "plt.title('Left Camera')\n",
    "plt.imshow(left_img_crop, cmap=\"gray\")\n",
    "\n",
    "plt.subplot2grid((2, 3), (0, 1));\n",
    "plt.axis('off')\n",
    "plt.title('Center Camera')\n",
    "plt.imshow(center_img_crop, cmap=\"gray\")\n",
    "\n",
    "plt.subplot2grid((2, 3), (0, 2));\n",
    "plt.axis('off')\n",
    "plt.title('Right Camera')\n",
    "plt.imshow(right_img_crop, cmap=\"gray\")\n",
    "\n",
    "# Flipped version\n",
    "plt.subplot2grid((2, 3), (1, 0));\n",
    "plt.axis('off')\n",
    "plt.title('Left Camera (smoothed)')\n",
    "plt.imshow(left_img_blur, cmap=\"gray\")\n",
    "\n",
    "plt.subplot2grid((2, 3), (1, 1));\n",
    "plt.axis('off')\n",
    "plt.title('Center Camera (smoothed)')\n",
    "plt.imshow(center_img_blur, cmap=\"gray\")\n",
    "\n",
    "plt.subplot2grid((2, 3), (1, 2));\n",
    "plt.axis('off')\n",
    "plt.title('Right Camera (smoothed)')\n",
    "plt.imshow(right_img_blur, cmap=\"gray\")"
   ]
  },
  {
   "cell_type": "code",
   "execution_count": null,
   "metadata": {
    "collapsed": true
   },
   "outputs": [],
   "source": [
    "# TEMPORARY - FOR TESTING\n",
    "\n",
    "# Smooth the images using a bilateral filter - this is compute intensive, so we do it after pruning\n",
    "blur_data = [(smooth(i[0]), i[1]) for i in track1_eq]"
   ]
  },
  {
   "cell_type": "code",
   "execution_count": null,
   "metadata": {
    "collapsed": true
   },
   "outputs": [],
   "source": [
    "# # Smooth the images using a bilateral filter - this is compute intensive, so we do it after pruning\n",
    "# blur_data = [(smooth(i[0]), i[1]) for i in eq_data]"
   ]
  },
  {
   "cell_type": "markdown",
   "metadata": {
    "collapsed": true
   },
   "source": [
    "#### Apply smoothing to dataset\n",
    "The above preview looks good. The image has ample noise reduction with very little blurring of the edges. So, we can now apply this effect to our dataset."
   ]
  },
  {
   "cell_type": "code",
   "execution_count": null,
   "metadata": {
    "collapsed": true
   },
   "outputs": [],
   "source": [
    "track1_blur = [(smooth(i[0]), i[1]) for i in track1_eq]"
   ]
  },
  {
   "cell_type": "code",
   "execution_count": null,
   "metadata": {
    "collapsed": true
   },
   "outputs": [],
   "source": [
    "## Verify smoothing effect\n",
    "\n",
    "index = random.randint(0, len(track1_blur))\n",
    "\n",
    "plt.figure(figsize=(10,4))\n",
    "plt.axis('off')\n",
    "plt.imshow(track1_blur[index][0], cmap=\"gray\")"
   ]
  },
  {
   "cell_type": "markdown",
   "metadata": {},
   "source": [
    "### 4.3 | Change Brightness"
   ]
  },
  {
   "cell_type": "markdown",
   "metadata": {},
   "source": [
    "Generates batches of tensor image data that is augmented based on a chosen set of tranformation parameters (e.g. rotation, shift, shear, zoom)."
   ]
  },
  {
   "cell_type": "code",
   "execution_count": 94,
   "metadata": {
    "collapsed": true
   },
   "outputs": [],
   "source": [
    "# Randomly shift brightness\n",
    "\n",
    "def brightness(image):\n",
    "    # Convert to HSV from RGB \n",
    "    hsv = cv2.cvtColor(image, cv2.COLOR_RGB2HSV)\n",
    "    \n",
    "    # Generate random brightness\n",
    "    rand = random.uniform(0.6, 1)\n",
    "    hsv[:,:,2] = rand*hsv[:,:,2]\n",
    "    \n",
    "    # Convert back to RGB \n",
    "    new_img = cv2.cvtColor(hsv, cv2.COLOR_HSV2RGB)\n",
    "    \n",
    "    return new_img "
   ]
  },
  {
   "cell_type": "markdown",
   "metadata": {},
   "source": [
    "### 4.4 | Horizon Shift"
   ]
  },
  {
   "cell_type": "code",
   "execution_count": 95,
   "metadata": {
    "collapsed": true
   },
   "outputs": [],
   "source": [
    "# Randomly shift horizon\n",
    "\n",
    "def horizon(image):\n",
    "    h, w, _ = image.shape\n",
    "    horizon = 2*h/5\n",
    "    v_shift = np.random.randint(-h/8,h/8)\n",
    "    pts1 = np.float32([[0,horizon],[w,horizon],[0,h],[w,h]])\n",
    "    pts2 = np.float32([[0,horizon+v_shift],[w,horizon+v_shift],[0,h],[w,h]])\n",
    "    M = cv2.getPerspectiveTransform(pts1,pts2)\n",
    "    new_img = cv2.warpPerspective(image,M,(w,h), borderMode=cv2.BORDER_REPLICATE)\n",
    "    \n",
    "    return new_img"
   ]
  },
  {
   "cell_type": "markdown",
   "metadata": {},
   "source": [
    "### 4.5 | Affine Transformations (rotation, shift, zoom)"
   ]
  },
  {
   "cell_type": "code",
   "execution_count": 96,
   "metadata": {
    "collapsed": true
   },
   "outputs": [],
   "source": [
    "# Combine the brightness and horizon functions so they can be executed within the Keras ImageDataGenerator\n",
    "\n",
    "def augment(image):\n",
    "#     blur_img = smooth(image)\n",
    "    aug_img = brightness(image)\n",
    "    aug_img = horizon(aug_img)\n",
    "    \n",
    "    return aug_img"
   ]
  },
  {
   "cell_type": "code",
   "execution_count": 97,
   "metadata": {
    "collapsed": true
   },
   "outputs": [],
   "source": [
    "# Image transformation function\n",
    "\n",
    "image = np.empty((64, 64, 3), dtype='uint8')\n",
    "\n",
    "keras_datagen = ImageDataGenerator(\n",
    "#     zca_whitening=True,\n",
    "    rotation_range=2,\n",
    "    width_shift_range=0.04,\n",
    "    height_shift_range=0.04,\n",
    "#     shear_range=0.05,\n",
    "    zoom_range=0.02,\n",
    "#     channel_shift_range=10.0,\n",
    "    fill_mode='nearest',\n",
    "    preprocessing_function=augment\n",
    ")\n"
   ]
  },
  {
   "cell_type": "markdown",
   "metadata": {},
   "source": [
    "### 4.6 |  Resizing"
   ]
  },
  {
   "cell_type": "code",
   "execution_count": 98,
   "metadata": {
    "collapsed": true
   },
   "outputs": [],
   "source": [
    "## Resize function\n",
    "\n",
    "resized_shape = (64, 64, 3)\n",
    "\n",
    "def resize(image_array):\n",
    "    img_resized = cv2.resize(image_array, (resized_shape[0], resized_shape[1]))\n",
    "    \n",
    "    return img_resized"
   ]
  },
  {
   "cell_type": "code",
   "execution_count": null,
   "metadata": {
    "collapsed": true
   },
   "outputs": [],
   "source": [
    "## Preview resized images\n",
    "\n",
    "index = random.randint(0, len(track1_clean))\n",
    "\n",
    "# Select a random set of images to crop\n",
    "center_img_crop = crop(track1_clean[index][0])\n",
    "left_img_crop = crop(track1_clean[index][1])\n",
    "right_img_crop = crop(track1_clean[index][2])\n",
    "\n",
    "# Create resized versions\n",
    "center_img_resized = resize(center_img_crop)\n",
    "left_img_resized = resize(left_img_crop)\n",
    "right_img_resized = resize(right_img_crop)\n",
    "\n",
    "# Calculate steering angles\n",
    "center_steer = float(track1_clean[index][3])\n",
    "left_steer = None\n",
    "left_steer_resized = None \n",
    "right_steer = None\n",
    "right_steer_resized = None\n",
    "if center_steer > turn_thresh:\n",
    "    left_steer = steer_adj(center_steer)\n",
    "if center_steer < -turn_thresh:\n",
    "    right_steer = -steer_adj(center_steer)\n",
    "    \n",
    "# Display visualizations in the notebook\n",
    "plt.figure(figsize=(20,7))\n",
    "\n",
    "# Cropped versions\n",
    "plt.subplot2grid((2, 3), (0, 0));\n",
    "plt.axis('off')\n",
    "plt.title('Left Camera (cropped)')\n",
    "plt.text(0, left_img_crop.shape[0]+15, ('shape: ' + str(left_img_crop.shape)))\n",
    "plt.text(0, left_img_crop.shape[0]+30, ('steering angle: ' + str(left_steer)))\n",
    "plt.imshow(left_img_crop, cmap=\"gray\")\n",
    "\n",
    "plt.subplot2grid((2, 3), (0, 1));\n",
    "plt.axis('off')\n",
    "plt.title('Center Camera (cropped)')\n",
    "plt.text(0, center_img_crop.shape[0]+15, ('shape: ' + str(center_img_crop.shape)))\n",
    "plt.text(0, center_img_crop.shape[0]+30, ('steering angle: ' + str(center_steer)))\n",
    "plt.imshow(center_img_crop, cmap=\"gray\")\n",
    "\n",
    "plt.subplot2grid((2, 3), (0, 2));\n",
    "plt.axis('off')\n",
    "plt.title('Right Camera (cropped)')\n",
    "plt.text(0, right_img_crop.shape[0]+15, ('shape: ' + str(right_img_crop.shape)))\n",
    "plt.text(0, right_img_crop.shape[0]+30, ('steering angle: ' + str(right_steer)))\n",
    "plt.imshow(right_img_crop, cmap=\"gray\")\n",
    "\n",
    "# Resized version\n",
    "plt.subplot2grid((2, 3), (1, 0));\n",
    "plt.axis('off')\n",
    "plt.title('Left Camera (cropped + resized)')\n",
    "plt.text(0, left_img_resized.shape[0]+15, ('shape: ' + str(left_img_resized.shape)))\n",
    "plt.text(0, left_img_resized.shape[0]+30, ('steering angle: ' + str(left_steer)))\n",
    "plt.imshow(left_img_resized, cmap=\"gray\")\n",
    "\n",
    "plt.subplot2grid((2, 3), (1, 1));\n",
    "plt.axis('off')\n",
    "plt.title('Center Camera (cropped + resized)')\n",
    "plt.text(0, center_img_resized.shape[0]+15, ('shape: ' + str(center_img_resized.shape)))\n",
    "plt.text(0, center_img_resized.shape[0]+30, ('steering angle: ' + str(center_steer)))\n",
    "plt.imshow(center_img_resized, cmap=\"gray\")\n",
    "\n",
    "plt.subplot2grid((2, 3), (1, 2));\n",
    "plt.axis('off')\n",
    "plt.title('Right Camera (cropped + resized)')\n",
    "plt.text(0, right_img_resized.shape[0]+15, ('shape: ' + str(right_img_resized.shape)))\n",
    "plt.text(0, right_img_resized.shape[0]+30, ('steering angle: ' + str(right_steer)))\n",
    "plt.imshow(right_img_resized, cmap=\"gray\")"
   ]
  },
  {
   "cell_type": "markdown",
   "metadata": {},
   "source": [
    "### 4.7 | Preview sample of fully transformed images"
   ]
  },
  {
   "cell_type": "code",
   "execution_count": null,
   "metadata": {
    "collapsed": true
   },
   "outputs": [],
   "source": [
    "## Create AUGMENTED training sets **WORKING VERSION**\n",
    "\n",
    "sample = random.sample(range(1, len(udacity_3cam)), 16)\n",
    "\n",
    "X_batch = [(udacity_3cam[i][0], udacity_3cam[i][2]) for i in sample]\n",
    "y_batch = [udacity_3cam[i][1] for i in sample]\n",
    "\n",
    "X_images = np.empty((0, 160, 320, 3), dtype='uint8')\n",
    "y_angles = np.empty(0, dtype='float32')\n",
    "\n",
    "source = default_source\n",
    "\n",
    "for i in range(len(y_batch)):\n",
    "    # retrieve the image from local directory\n",
    "    source = str(X_batch[i][1])\n",
    "    filename = str(X_batch[i][0])\n",
    "    img_path = get_img_dir(source) + filename\n",
    "    img = [mpimg.imread(img_path.strip())]\n",
    "    angle = [y_batch[i]]\n",
    "    X_images = np.append(X_images, img, axis=0)\n",
    "    y_angles = np.append(y_angles, angle, axis=0) \n",
    "    \n",
    "X_aug = np.empty((0, 160, 320, 3))\n",
    "y_aug = np.empty(0, dtype='float32')\n",
    "\n",
    "print('Augmenting Image Data...')\n",
    "\n",
    "# seed = random.randint(1, len(y_batch))\n",
    "# datagen.fit(X_images)\n",
    "\n",
    "for X,y in keras_datagen.flow(X_images, y_angles, batch_size=len(y_batch)):       \n",
    "    X_aug = np.append(X_aug, X, axis=0)\n",
    "    y_aug = np.append(y_aug, y, axis=0)\n",
    "    \n",
    "    if len(y_aug) == len(y_batch):\n",
    "        break\n",
    "\n",
    "X_aug = X_aug.astype(np.uint8)\n",
    "\n",
    "print('Augmentation Complete.')\n",
    "\n"
   ]
  },
  {
   "cell_type": "markdown",
   "metadata": {},
   "source": [
    "### 4.8 | Integrate all transformations into single function"
   ]
  },
  {
   "cell_type": "code",
   "execution_count": 99,
   "metadata": {
    "collapsed": true
   },
   "outputs": [],
   "source": [
    "## Transformation function ** V 2 **\n",
    " \n",
    "def transform(X_batch, y_batch):\n",
    "    '''Applies a random set of transformations which are defined by the \n",
    "    keras_datagen() function and uses the Keras ImageDataGenerator.\n",
    "    \n",
    "    Arguments:\n",
    "    X_batch: a numpy array of images\n",
    "    y_batch: a numpy array of steering angles\n",
    "        \n",
    "    Returns:\n",
    "    X_aug: a numpy array of transformed image data\n",
    "    y_aug: a numpy array of steering angles\n",
    "\n",
    "    '''\n",
    "    h, w, c = resized_shape\n",
    "    X_aug = np.empty((0, h, w, c))\n",
    "    y_aug = np.empty(0, dtype='float32')\n",
    "        \n",
    "    n_aug = (img_ratio-1)     # number of augmented images to create for every input image\n",
    "    \n",
    "    for X,y in keras_datagen.flow(X_batch, y_batch, batch_size=len(y_batch)):       \n",
    "        X_aug = np.append(X_aug, X, axis=0)\n",
    "        y_aug = np.append(y_aug, y, axis=0)\n",
    "        \n",
    "        if X_aug.shape[0] == n_aug*X_batch.shape[0]:\n",
    "            break\n",
    "    \n",
    "    X_aug = X_aug.astype(np.uint8)\n",
    "    \n",
    "    return (X_aug, y_aug)"
   ]
  },
  {
   "cell_type": "markdown",
   "metadata": {},
   "source": [
    "### 4.9 | Batch Generator"
   ]
  },
  {
   "cell_type": "code",
   "execution_count": 100,
   "metadata": {
    "collapsed": true
   },
   "outputs": [],
   "source": [
    "def generator(images, angles, val=False):\n",
    "    '''Generates batches of images to feed into the model. \n",
    "    \n",
    "    For each input image, four different versions are generated:\n",
    "    img_1 : original version\n",
    "    img_2 : flipped version of 1\n",
    "    img_3 : version of 1 with other random transformations (for training only)\n",
    "    img_4 : version of 2 with other random transformations (for training only)\n",
    "    \n",
    "    Arguments:\n",
    "    images: a list of image filenames\n",
    "    angles: a list of angles\n",
    "    source: the original data source, 'udacity' or 'self'\n",
    "    val: whether the data is being generated for validation (False by default)\n",
    "    \n",
    "    Yields: \n",
    "    X_batch: a numpy array of image data\n",
    "    y_batch: a numpy array of steering angles\n",
    "    \n",
    "    '''\n",
    "    images, angles = shuffle(images, angles, random_state=0)\n",
    "    \n",
    "    h, w, c = resized_shape\n",
    "    X_batch = np.empty((0, h, w, c), dtype='uint8')\n",
    "    y_batch = np.empty(0, dtype='float32')\n",
    "    \n",
    "    \n",
    "    while True:\n",
    "        for i in range(len(angles)):\n",
    "#             print('images[{}] = {}'.format(i, images[i]))\n",
    "#             print('images[{}].shape = {}'.format(i, images[i].shape))\n",
    "            img = [resize(crop(smooth(images[i])))]\n",
    "#             print('img.shape = {}'.format(i, img[0].shape))\n",
    "            ang = [angles[i]]\n",
    "#             print('X_batch.shape = {}'.format(X_batch.shape))\n",
    "            X_batch = np.append(X_batch, img, axis=0)\n",
    "#             print('img appended to X_batch')\n",
    "            y_batch = np.append(y_batch, ang, axis=0)\n",
    "#             print('ang appended to y_batch')\n",
    "            \n",
    "            # Augmentation process; for training images only\n",
    "            if not val:\n",
    "#                 print('augmentation started...')\n",
    "                # apply other transformations\n",
    "                img_aug, ang_aug = transform(X_batch[-1:], y_batch[-1:])\n",
    "#                 print('augmentation complete.')\n",
    "#                 print('appending to batch...')\n",
    "                X_batch = np.append(X_batch, img_aug, axis=0)\n",
    "                y_batch = np.append(y_batch, ang_aug, axis=0)\n",
    "#                 print('appending complete.')\n",
    "            \n",
    "            # Yield batch\n",
    "            if X_batch.shape[0] >= batch_size:\n",
    "                X_batch, y_batch = shuffle(X_batch[0:batch_size], y_batch[0:batch_size], random_state=0)\n",
    "                yield (X_batch, y_batch)\n",
    "                X_batch = np.empty((0, h, w, c), dtype='uint8')\n",
    "                y_batch = np.empty(0, dtype='float32')"
   ]
  },
  {
   "cell_type": "code",
   "execution_count": null,
   "metadata": {
    "collapsed": true
   },
   "outputs": [],
   "source": [
    "## Display sample of the ORIGINAL training images\n",
    "\n",
    "fig = plt.figure(figsize=(20,16))\n",
    "\n",
    "orig_images = X_images\n",
    "sample = random.sample(range(len(X_aug)), 16)\n",
    "\n",
    "for i in range(16):\n",
    "    img = orig_images[sample[i]]\n",
    "    ax = fig.add_subplot(5,4,i+1)\n",
    "    ax.imshow(img.squeeze(), cmap=\"gray\", interpolation='nearest')\n",
    "    plt.axis('off')\n",
    "plt.show()"
   ]
  },
  {
   "cell_type": "code",
   "execution_count": null,
   "metadata": {
    "collapsed": true
   },
   "outputs": [],
   "source": [
    "## Display sample of training images with POSITIONAL SHIFTS (width, height rotation, horizon)\n",
    "\n",
    "fig = plt.figure(figsize=(20,16)) \n",
    "\n",
    "sample = random.sample(range(len(X_aug)), 16)\n",
    "\n",
    "for i in range(16):\n",
    "    img = X_aug[i]\n",
    "    ax = fig.add_subplot(5,4,i+1)\n",
    "    ax.imshow(img.squeeze(), cmap=\"gray\", interpolation='nearest')\n",
    "    plt.axis('off')\n",
    "plt.show()"
   ]
  },
  {
   "cell_type": "code",
   "execution_count": null,
   "metadata": {
    "collapsed": true
   },
   "outputs": [],
   "source": [
    "## Display sample of training images with BRIGHTNESS SHIFT \n",
    "\n",
    "fig = plt.figure(figsize=(20,16)) \n",
    "\n",
    "sample = random.sample(range(len(X_aug)), 16)\n",
    "\n",
    "for i in range(16):\n",
    "    img = X_aug[i]\n",
    "    ax = fig.add_subplot(5,4,i+1)\n",
    "    ax.imshow(img.squeeze(), cmap=\"gray\", interpolation='nearest')\n",
    "    plt.axis('off')\n",
    "plt.show()"
   ]
  },
  {
   "cell_type": "markdown",
   "metadata": {},
   "source": [
    "---\n",
    "## Step 3: Model Architecture\n",
    "---"
   ]
  },
  {
   "cell_type": "markdown",
   "metadata": {},
   "source": [
    "### Model"
   ]
  },
  {
   "cell_type": "code",
   "execution_count": 101,
   "metadata": {
    "collapsed": true
   },
   "outputs": [],
   "source": [
    "## Global variables and parameters\n",
    "\n",
    "lr = 1e-4        # learning rate\n",
    "reg = l2(1e-3)   # L2 reg\n",
    "drop = 0.5       # default dropout rate\n",
    "\n",
    "d_str = (2, 2)     # default strides\n",
    "d_act = 'elu'      # default activation function\n",
    "d_pad = 'same'     # default padding\n"
   ]
  },
  {
   "cell_type": "code",
   "execution_count": 151,
   "metadata": {},
   "outputs": [
    {
     "name": "stdout",
     "output_type": "stream",
     "text": [
      "_________________________________________________________________\n",
      "Layer (type)                 Output Shape              Param #   \n",
      "=================================================================\n",
      "lambda_2 (Lambda)            (None, 64, 64, 3)         0         \n",
      "_________________________________________________________________\n",
      "conv2d_6 (Conv2D)            (None, 32, 32, 24)        1824      \n",
      "_________________________________________________________________\n",
      "conv2d_7 (Conv2D)            (None, 16, 16, 36)        21636     \n",
      "_________________________________________________________________\n",
      "conv2d_8 (Conv2D)            (None, 8, 8, 48)          43248     \n",
      "_________________________________________________________________\n",
      "conv2d_9 (Conv2D)            (None, 4, 4, 64)          27712     \n",
      "_________________________________________________________________\n",
      "conv2d_10 (Conv2D)           (None, 2, 2, 64)          36928     \n",
      "_________________________________________________________________\n",
      "flatten_2 (Flatten)          (None, 256)               0         \n",
      "_________________________________________________________________\n",
      "dense_5 (Dense)              (None, 150)               38550     \n",
      "_________________________________________________________________\n",
      "dense_6 (Dense)              (None, 50)                7550      \n",
      "_________________________________________________________________\n",
      "dense_7 (Dense)              (None, 10)                510       \n",
      "_________________________________________________________________\n",
      "dense_8 (Dense)              (None, 1)                 11        \n",
      "=================================================================\n",
      "Total params: 177,969\n",
      "Trainable params: 177,969\n",
      "Non-trainable params: 0\n",
      "_________________________________________________________________\n"
     ]
    }
   ],
   "source": [
    "## Create and reset the model  ** V1 - NVIDIA ** \n",
    "\n",
    "model = Sequential()\n",
    "\n",
    "model.add(Lambda(lambda x: x/255 - 0.5, input_shape=resized_shape))\n",
    "\n",
    "model.add(Conv2D(24, 5, strides=d_str, padding=d_pad, activation=d_act,  kernel_regularizer=reg))\n",
    "model.add(Conv2D(36, 5, strides=d_str, padding=d_pad, activation=d_act,  kernel_regularizer=reg))\n",
    "model.add(Conv2D(48, 5, strides=d_str, padding=d_pad, activation=d_act,  kernel_regularizer=reg))\n",
    "\n",
    "model.add(Conv2D(64, 3, strides=d_str, padding=d_pad, activation=d_act,  kernel_regularizer=reg))\n",
    "model.add(Conv2D(64, 3, strides=d_str, padding=d_pad, activation=d_act,  kernel_regularizer=reg))\n",
    "\n",
    "model.add(Flatten())\n",
    "model.add(Dense(150, activation=d_act,  kernel_regularizer=reg))\n",
    "# model.add(Dropout(drop))\n",
    "model.add(Dense(50, activation=d_act,  kernel_regularizer=reg))\n",
    "# model.add(Dropout(drop))\n",
    "model.add(Dense(10, activation=d_act,  kernel_regularizer=reg))\n",
    "# model.add(Dropout(drop))\n",
    "model.add(Dense(1))\n",
    "\n",
    "# Compile and preview the model\n",
    "model.compile(optimizer=Adam(lr=lr), loss='mean_squared_error', metrics=['accuracy'])\n",
    "\n",
    "model.summary()"
   ]
  },
  {
   "cell_type": "markdown",
   "metadata": {
    "collapsed": true
   },
   "source": [
    "## Training"
   ]
  },
  {
   "cell_type": "code",
   "execution_count": 203,
   "metadata": {},
   "outputs": [
    {
     "name": "stdout",
     "output_type": "stream",
     "text": [
      "X_valid_img[0].shape = (160, 320, 3)\n",
      "X_test_img[0].shape = (160, 320, 3)\n"
     ]
    }
   ],
   "source": [
    "# Fetch images for validation and test sets (to match shape of training set)\n",
    "\n",
    "source = 'track1'\n",
    "X_valid_img = []\n",
    "\n",
    "for i in range(len(X_valid)):\n",
    "    img = mpimg.imread(get_img_dir(source) + X_valid[i])\n",
    "    X_valid_img.append(img)\n",
    "\n",
    "X_test_img = []\n",
    "\n",
    "for i in range(len(X_test)):\n",
    "    img = mpimg.imread(get_img_dir(source) + X_test[i])\n",
    "    X_test_img.append(img)\n",
    "\n",
    "    \n",
    "print('X_valid_img[0].shape =', X_valid_img[0].shape)    \n",
    "print('X_test_img[0].shape =', X_test_img[0].shape)"
   ]
  },
  {
   "cell_type": "code",
   "execution_count": 153,
   "metadata": {},
   "outputs": [
    {
     "name": "stdout",
     "output_type": "stream",
     "text": [
      "Epoch 1/15\n",
      "794/794 [==============================] - 107s - loss: 0.4104 - acc: 0.0035 - val_loss: 0.2797 - val_acc: 0.0126\n",
      "Epoch 2/15\n",
      "794/794 [==============================] - 106s - loss: 0.2520 - acc: 0.0036 - val_loss: 0.1743 - val_acc: 0.0126\n",
      "Epoch 3/15\n",
      "794/794 [==============================] - 106s - loss: 0.1675 - acc: 0.0036 - val_loss: 0.1161 - val_acc: 0.0119\n",
      "Epoch 4/15\n",
      "794/794 [==============================] - 106s - loss: 0.1194 - acc: 0.0036 - val_loss: 0.0836 - val_acc: 0.0126\n",
      "Epoch 5/15\n",
      "794/794 [==============================] - 107s - loss: 0.0899 - acc: 0.0036 - val_loss: 0.0637 - val_acc: 0.0126\n",
      "Epoch 6/15\n",
      "794/794 [==============================] - 106s - loss: 0.0712 - acc: 0.0036 - val_loss: 0.0496 - val_acc: 0.0126\n",
      "Epoch 7/15\n",
      "794/794 [==============================] - 106s - loss: 0.0594 - acc: 0.0036 - val_loss: 0.0422 - val_acc: 0.0126\n",
      "Epoch 8/15\n",
      "794/794 [==============================] - 106s - loss: 0.0518 - acc: 0.0036 - val_loss: 0.0365 - val_acc: 0.0119\n",
      "Epoch 9/15\n",
      "794/794 [==============================] - 106s - loss: 0.0469 - acc: 0.0036 - val_loss: 0.0311 - val_acc: 0.0126\n",
      "Epoch 10/15\n",
      "794/794 [==============================] - 107s - loss: 0.0438 - acc: 0.0036 - val_loss: 0.0316 - val_acc: 0.0126\n",
      "Epoch 11/15\n",
      "794/794 [==============================] - 107s - loss: 0.0414 - acc: 0.0036 - val_loss: 0.0283 - val_acc: 0.0126\n",
      "Epoch 12/15\n",
      "794/794 [==============================] - 107s - loss: 0.0398 - acc: 0.0036 - val_loss: 0.0274 - val_acc: 0.0119\n",
      "Epoch 13/15\n",
      "794/794 [==============================] - 106s - loss: 0.0388 - acc: 0.0036 - val_loss: 0.0255 - val_acc: 0.0119\n",
      "Epoch 14/15\n",
      "794/794 [==============================] - 106s - loss: 0.0377 - acc: 0.0035 - val_loss: 0.0238 - val_acc: 0.0126\n",
      "Epoch 15/15\n",
      "794/794 [==============================] - 106s - loss: 0.0371 - acc: 0.0036 - val_loss: 0.0232 - val_acc: 0.0126\n",
      "\n",
      "Done Training\n",
      "Model saved to disk\n"
     ]
    }
   ],
   "source": [
    "## Train and save the model\n",
    "\n",
    "epochs = 15\n",
    "batch_size = 64\n",
    "\n",
    "img_ratio = 4   # = generator output per input image\n",
    "\n",
    "train_steps = (img_ratio * len(X_train_comb)) // batch_size\n",
    "val_steps = len(X_valid_img) // batch_size\n",
    "\n",
    "train_gen = generator(X_train_comb, y_train_comb, val=False)\n",
    "val_gen = generator(X_valid_img, y_valid, val=True)\n",
    "\n",
    "checkpoint = ModelCheckpoint('models/checkpoints/model_{epoch:02d}.h5', monitor='val_loss', save_best_only=True)\n",
    "    \n",
    "model.fit_generator(train_gen, steps_per_epoch=train_steps, epochs=epochs, \\\n",
    "                    validation_data=val_gen, validation_steps=val_steps, verbose=1, callbacks=[checkpoint])\n",
    "\n",
    "print('\\nDone Training')\n",
    "\n",
    "# Save model and weights\n",
    "model_json = model.to_json()\n",
    "with open(\"models/model.json\", \"w\") as json_file:\n",
    "    json_file.write(model_json)\n",
    "model.save(\"models/model.h5\")\n",
    "print(\"Model saved to disk\")"
   ]
  },
  {
   "cell_type": "code",
   "execution_count": 204,
   "metadata": {},
   "outputs": [
    {
     "name": "stdout",
     "output_type": "stream",
     "text": [
      "Epoch 1/10\n",
      "704/704 [==============================] - 97s - loss: 0.1044 - acc: 0.0473 - val_loss: 0.0868 - val_acc: 0.5497\n",
      "Epoch 2/10\n",
      "704/704 [==============================] - 95s - loss: 0.1001 - acc: 0.0479 - val_loss: 0.0827 - val_acc: 0.5525\n",
      "Epoch 3/10\n",
      "704/704 [==============================] - 95s - loss: 0.0991 - acc: 0.0475 - val_loss: 0.0835 - val_acc: 0.5480\n",
      "Epoch 4/10\n",
      "704/704 [==============================] - 96s - loss: 0.0985 - acc: 0.0475 - val_loss: 0.0827 - val_acc: 0.5519\n",
      "Epoch 5/10\n",
      "704/704 [==============================] - 96s - loss: 0.0975 - acc: 0.0478 - val_loss: 0.0821 - val_acc: 0.5519\n",
      "Epoch 6/10\n",
      "704/704 [==============================] - 95s - loss: 0.0969 - acc: 0.0480 - val_loss: 0.0819 - val_acc: 0.5536\n",
      "Epoch 7/10\n",
      "704/704 [==============================] - 96s - loss: 0.0967 - acc: 0.0479 - val_loss: 0.0816 - val_acc: 0.5519\n",
      "Epoch 8/10\n",
      "704/704 [==============================] - 95s - loss: 0.0962 - acc: 0.0482 - val_loss: 0.0767 - val_acc: 0.5586\n",
      "Epoch 9/10\n",
      "704/704 [==============================] - 96s - loss: 0.0959 - acc: 0.0479 - val_loss: 0.0786 - val_acc: 0.5575\n",
      "Epoch 10/10\n",
      "704/704 [==============================] - 96s - loss: 0.0956 - acc: 0.0481 - val_loss: 0.0782 - val_acc: 0.5575\n",
      "\n",
      "Done Training\n",
      "Model saved to disk\n"
     ]
    }
   ],
   "source": [
    "## Train and save the model **round 2**\n",
    "\n",
    "epochs = 10\n",
    "batch_size = 64\n",
    "\n",
    "img_ratio = 4   # = generator output per input image\n",
    "\n",
    "train_steps = (img_ratio * len(X_train_comb)) // batch_size\n",
    "val_steps = len(X_valid_img) // batch_size\n",
    "\n",
    "train_gen = generator(X_train_comb, y_train_comb, val=False)\n",
    "val_gen = generator(X_valid_img, y_valid, val=True)\n",
    "\n",
    "checkpoint = ModelCheckpoint('models/checkpoints/model_{epoch:02d}.h5', monitor='val_loss', save_best_only=True)\n",
    "    \n",
    "model.fit_generator(train_gen, steps_per_epoch=train_steps, epochs=epochs, \\\n",
    "                    validation_data=val_gen, validation_steps=val_steps, verbose=1, callbacks=[checkpoint])\n",
    "\n",
    "print('\\nDone Training')\n",
    "\n",
    "# Save model and weights\n",
    "model_json = model.to_json()\n",
    "with open(\"models/model.json\", \"w\") as json_file:\n",
    "    json_file.write(model_json)\n",
    "model.save(\"models/model.h5\")\n",
    "print(\"Model saved to disk\")"
   ]
  },
  {
   "cell_type": "code",
   "execution_count": null,
   "metadata": {
    "collapsed": true
   },
   "outputs": [],
   "source": [
    "from keras.models import load_model\n",
    "\n",
    "model = load_model('model.h5')"
   ]
  }
 ],
 "metadata": {
  "anaconda-cloud": {},
  "kernelspec": {
   "display_name": "Python 3",
   "language": "python",
   "name": "python3"
  },
  "language_info": {
   "codemirror_mode": {
    "name": "ipython",
    "version": 3
   },
   "file_extension": ".py",
   "mimetype": "text/x-python",
   "name": "python",
   "nbconvert_exporter": "python",
   "pygments_lexer": "ipython3",
   "version": "3.5.2"
  },
  "widgets": {
   "state": {},
   "version": "1.1.2"
  }
 },
 "nbformat": 4,
 "nbformat_minor": 1
}
