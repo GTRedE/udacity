{
 "cells": [
  {
   "cell_type": "markdown",
   "metadata": {},
   "source": [
    "# Self-Driving Car Engineer Nanodegree\n",
    "\n",
    "\n",
    "## Project 3: Behavioral Cloning\n",
    "August 2017\n"
   ]
  },
  {
   "cell_type": "markdown",
   "metadata": {},
   "source": [
    "---"
   ]
  },
  {
   "cell_type": "markdown",
   "metadata": {},
   "source": [
    "## Goal\n",
    "The goal of this project is to build a machine learning model that can successfully steer a car around a race track that it's never encountered before.\n",
    "\n",
    "The details for this project are located here at [Udacity's Github repo](https://github.com/udacity/CarND-Behavioral-Cloning-P3). My implementation of the project can be found [here at my Github repo](https://github.com/tommytracey/udacity/tree/master/self-driving-nano/projects/3-behavioral-cloning).\n"
   ]
  },
  {
   "cell_type": "markdown",
   "metadata": {},
   "source": [
    "---\n",
    "## Initial Setup"
   ]
  },
  {
   "cell_type": "markdown",
   "metadata": {},
   "source": [
    "#### Import Modules"
   ]
  },
  {
   "cell_type": "code",
   "execution_count": 1,
   "metadata": {},
   "outputs": [
    {
     "name": "stderr",
     "output_type": "stream",
     "text": [
      "Using TensorFlow backend.\n"
     ]
    }
   ],
   "source": [
    "import csv\n",
    "import cv2\n",
    "import keras\n",
    "import keras.backend\n",
    "from keras.callbacks import ModelCheckpoint, Callback\n",
    "from keras.layers.core import Activation, Dense, Dropout, Flatten, Lambda, Reshape\n",
    "from keras.layers.convolutional import Conv2D, Cropping2D\n",
    "from keras.layers.pooling import MaxPooling2D\n",
    "from keras.layers.advanced_activations import ELU\n",
    "from keras.models import Sequential, model_from_json\n",
    "from keras.preprocessing.image import ImageDataGenerator\n",
    "from keras.optimizers import Adam\n",
    "from keras.regularizers import l2\n",
    "import matplotlib.image as mpimg\n",
    "import matplotlib.pyplot as plt\n",
    "%matplotlib inline\n",
    "import numpy as np\n",
    "import os\n",
    "import pandas as pd\n",
    "import random\n",
    "from sklearn.model_selection import train_test_split\n",
    "from sklearn.utils import shuffle\n",
    "import tensorflow as tf\n",
    "from tqdm import tqdm\n",
    "\n"
   ]
  },
  {
   "cell_type": "markdown",
   "metadata": {},
   "source": [
    "#### Verify that Keras is using Tensforflow backend"
   ]
  },
  {
   "cell_type": "markdown",
   "metadata": {},
   "source": [
    "The Keras backend uses Theano by default and changing it to Tensorflow can be tricky via Jupyter. Simply updating the config json file `$HOME/.keras/keras.json` as directed in [Keras backend documentation](https://keras.io/backend/) did not work for me. Trying to set it _before or after loading the notebook_ did not work eithter when using:\n",
    "\n",
    "`$ os.environ[\"KERAS_BACKEND\"]=\"tensorflow\"`\n",
    "\n",
    "The only way I could reliably set Tensorflow as the backend was to use the following command **UPON loading the notebook**:\n",
    "\n",
    "`$ KERAS_BACKEND=tensorflow jupyter notebook`\n",
    "\n",
    "(NOTE: You can also append `--NotebookApp.iopub_data_rate_limit=10000000000` to the above command if your notebook includes a lot of visualizations. This will help prevent the kernel from crashing and/or causing you to lose your connection to your AWS EC2 instance.)\n",
    "\n",
    "Re: the backend, **the cell below only provides a sanity check that the backend is configured as expected**. Note that the version of Tensorflow being used by Keras may be different than the one you typically run in your environment. \n",
    "\n",
    "[This post](https://www.nodalpoint.com/switch-keras-backend/) by Christos-Iraklis Tsatsoulis provides even more detail if you'd like to further understand the issues and automate the setup process."
   ]
  },
  {
   "cell_type": "code",
   "execution_count": null,
   "metadata": {
    "collapsed": true
   },
   "outputs": [],
   "source": [
    "print('Keras version: ', keras.__version__)\n",
    "print('Tensorflow version: ', tf.__version__)\n",
    "print('Keras backend: ', keras.backend.backend())\n",
    "print('keras.backend.image_dim_ordering = ', keras.backend.image_dim_ordering())\n",
    "\n",
    "os.environ[\"KERAS_BACKEND\"] = \"tensorflow\"\n",
    "if keras.backend.backend() != 'tensorflow':\n",
    "    raise BaseException(\"This script uses other backend\")\n",
    "else:\n",
    "    keras.backend.set_image_dim_ordering('tf')\n",
    "    print(\"\\nBackend OK\")"
   ]
  },
  {
   "cell_type": "markdown",
   "metadata": {},
   "source": [
    "---\n",
    "# Step 1: Load and preview the data"
   ]
  },
  {
   "cell_type": "markdown",
   "metadata": {},
   "source": [
    "---"
   ]
  },
  {
   "cell_type": "markdown",
   "metadata": {},
   "source": [
    "### Original Data Set (provided by Udacity)"
   ]
  },
  {
   "cell_type": "code",
   "execution_count": 2,
   "metadata": {
    "scrolled": true
   },
   "outputs": [
    {
     "name": "stdout",
     "output_type": "stream",
     "text": [
      "total rows:  8036\n"
     ]
    },
    {
     "data": {
      "text/html": [
       "<div>\n",
       "<table border=\"1\" class=\"dataframe\">\n",
       "  <thead>\n",
       "    <tr style=\"text-align: right;\">\n",
       "      <th></th>\n",
       "      <th>center</th>\n",
       "      <th>left</th>\n",
       "      <th>right</th>\n",
       "      <th>steering</th>\n",
       "      <th>throttle</th>\n",
       "      <th>brake</th>\n",
       "      <th>speed</th>\n",
       "    </tr>\n",
       "  </thead>\n",
       "  <tbody>\n",
       "    <tr>\n",
       "      <th>0</th>\n",
       "      <td>IMG/center_2016_12_01_13_30_48_287.jpg</td>\n",
       "      <td>IMG/left_2016_12_01_13_30_48_287.jpg</td>\n",
       "      <td>IMG/right_2016_12_01_13_30_48_287.jpg</td>\n",
       "      <td>0.0</td>\n",
       "      <td>0.0</td>\n",
       "      <td>0.0</td>\n",
       "      <td>22.148290</td>\n",
       "    </tr>\n",
       "    <tr>\n",
       "      <th>1</th>\n",
       "      <td>IMG/center_2016_12_01_13_30_48_404.jpg</td>\n",
       "      <td>IMG/left_2016_12_01_13_30_48_404.jpg</td>\n",
       "      <td>IMG/right_2016_12_01_13_30_48_404.jpg</td>\n",
       "      <td>0.0</td>\n",
       "      <td>0.0</td>\n",
       "      <td>0.0</td>\n",
       "      <td>21.879630</td>\n",
       "    </tr>\n",
       "    <tr>\n",
       "      <th>2</th>\n",
       "      <td>IMG/center_2016_12_01_13_31_12_937.jpg</td>\n",
       "      <td>IMG/left_2016_12_01_13_31_12_937.jpg</td>\n",
       "      <td>IMG/right_2016_12_01_13_31_12_937.jpg</td>\n",
       "      <td>0.0</td>\n",
       "      <td>0.0</td>\n",
       "      <td>0.0</td>\n",
       "      <td>1.453011</td>\n",
       "    </tr>\n",
       "    <tr>\n",
       "      <th>3</th>\n",
       "      <td>IMG/center_2016_12_01_13_31_13_037.jpg</td>\n",
       "      <td>IMG/left_2016_12_01_13_31_13_037.jpg</td>\n",
       "      <td>IMG/right_2016_12_01_13_31_13_037.jpg</td>\n",
       "      <td>0.0</td>\n",
       "      <td>0.0</td>\n",
       "      <td>0.0</td>\n",
       "      <td>1.438419</td>\n",
       "    </tr>\n",
       "    <tr>\n",
       "      <th>4</th>\n",
       "      <td>IMG/center_2016_12_01_13_31_13_177.jpg</td>\n",
       "      <td>IMG/left_2016_12_01_13_31_13_177.jpg</td>\n",
       "      <td>IMG/right_2016_12_01_13_31_13_177.jpg</td>\n",
       "      <td>0.0</td>\n",
       "      <td>0.0</td>\n",
       "      <td>0.0</td>\n",
       "      <td>1.418236</td>\n",
       "    </tr>\n",
       "  </tbody>\n",
       "</table>\n",
       "</div>"
      ],
      "text/plain": [
       "                                   center  \\\n",
       "0  IMG/center_2016_12_01_13_30_48_287.jpg   \n",
       "1  IMG/center_2016_12_01_13_30_48_404.jpg   \n",
       "2  IMG/center_2016_12_01_13_31_12_937.jpg   \n",
       "3  IMG/center_2016_12_01_13_31_13_037.jpg   \n",
       "4  IMG/center_2016_12_01_13_31_13_177.jpg   \n",
       "\n",
       "                                    left  \\\n",
       "0   IMG/left_2016_12_01_13_30_48_287.jpg   \n",
       "1   IMG/left_2016_12_01_13_30_48_404.jpg   \n",
       "2   IMG/left_2016_12_01_13_31_12_937.jpg   \n",
       "3   IMG/left_2016_12_01_13_31_13_037.jpg   \n",
       "4   IMG/left_2016_12_01_13_31_13_177.jpg   \n",
       "\n",
       "                                    right  steering  throttle  brake  \\\n",
       "0   IMG/right_2016_12_01_13_30_48_287.jpg       0.0       0.0    0.0   \n",
       "1   IMG/right_2016_12_01_13_30_48_404.jpg       0.0       0.0    0.0   \n",
       "2   IMG/right_2016_12_01_13_31_12_937.jpg       0.0       0.0    0.0   \n",
       "3   IMG/right_2016_12_01_13_31_13_037.jpg       0.0       0.0    0.0   \n",
       "4   IMG/right_2016_12_01_13_31_13_177.jpg       0.0       0.0    0.0   \n",
       "\n",
       "       speed  \n",
       "0  22.148290  \n",
       "1  21.879630  \n",
       "2   1.453011  \n",
       "3   1.438419  \n",
       "4   1.418236  "
      ]
     },
     "execution_count": 2,
     "metadata": {},
     "output_type": "execute_result"
    }
   ],
   "source": [
    "# Load UDACITY data into a list\n",
    "with open('data/udacity/driving_log.csv', newline='') as f:\n",
    "    udacity_data = list(csv.reader(f, skipinitialspace=True, delimiter=',', quoting=csv.QUOTE_NONE))\n",
    "    \n",
    "# Load UDACITY data from .csv and preview it in Pandas dataframe\n",
    "udacity_df = pd.read_csv('data/udacity/driving_log.csv', header=0)\n",
    "\n",
    "print('total rows: ', len(udacity_df))\n",
    "udacity_df.head()"
   ]
  },
  {
   "cell_type": "markdown",
   "metadata": {},
   "source": [
    "### New Data Set (with addition of self-generated data)"
   ]
  },
  {
   "cell_type": "code",
   "execution_count": 3,
   "metadata": {},
   "outputs": [
    {
     "name": "stdout",
     "output_type": "stream",
     "text": [
      "total rows:  18605\n"
     ]
    },
    {
     "data": {
      "text/html": [
       "<div>\n",
       "<table border=\"1\" class=\"dataframe\">\n",
       "  <thead>\n",
       "    <tr style=\"text-align: right;\">\n",
       "      <th></th>\n",
       "      <th>center</th>\n",
       "      <th>left</th>\n",
       "      <th>right</th>\n",
       "      <th>steering</th>\n",
       "      <th>throttle</th>\n",
       "      <th>brake</th>\n",
       "      <th>speed</th>\n",
       "    </tr>\n",
       "  </thead>\n",
       "  <tbody>\n",
       "    <tr>\n",
       "      <th>0</th>\n",
       "      <td>IMG/center_2016_12_01_13_30_48_287.jpg</td>\n",
       "      <td>IMG/left_2016_12_01_13_30_48_287.jpg</td>\n",
       "      <td>IMG/right_2016_12_01_13_30_48_287.jpg</td>\n",
       "      <td>0.0</td>\n",
       "      <td>0.0</td>\n",
       "      <td>0.0</td>\n",
       "      <td>22.148290</td>\n",
       "    </tr>\n",
       "    <tr>\n",
       "      <th>1</th>\n",
       "      <td>IMG/center_2016_12_01_13_30_48_404.jpg</td>\n",
       "      <td>IMG/left_2016_12_01_13_30_48_404.jpg</td>\n",
       "      <td>IMG/right_2016_12_01_13_30_48_404.jpg</td>\n",
       "      <td>0.0</td>\n",
       "      <td>0.0</td>\n",
       "      <td>0.0</td>\n",
       "      <td>21.879630</td>\n",
       "    </tr>\n",
       "    <tr>\n",
       "      <th>2</th>\n",
       "      <td>IMG/center_2016_12_01_13_31_12_937.jpg</td>\n",
       "      <td>IMG/left_2016_12_01_13_31_12_937.jpg</td>\n",
       "      <td>IMG/right_2016_12_01_13_31_12_937.jpg</td>\n",
       "      <td>0.0</td>\n",
       "      <td>0.0</td>\n",
       "      <td>0.0</td>\n",
       "      <td>1.453011</td>\n",
       "    </tr>\n",
       "    <tr>\n",
       "      <th>3</th>\n",
       "      <td>IMG/center_2016_12_01_13_31_13_037.jpg</td>\n",
       "      <td>IMG/left_2016_12_01_13_31_13_037.jpg</td>\n",
       "      <td>IMG/right_2016_12_01_13_31_13_037.jpg</td>\n",
       "      <td>0.0</td>\n",
       "      <td>0.0</td>\n",
       "      <td>0.0</td>\n",
       "      <td>1.438419</td>\n",
       "    </tr>\n",
       "    <tr>\n",
       "      <th>4</th>\n",
       "      <td>IMG/center_2016_12_01_13_31_13_177.jpg</td>\n",
       "      <td>IMG/left_2016_12_01_13_31_13_177.jpg</td>\n",
       "      <td>IMG/right_2016_12_01_13_31_13_177.jpg</td>\n",
       "      <td>0.0</td>\n",
       "      <td>0.0</td>\n",
       "      <td>0.0</td>\n",
       "      <td>1.418236</td>\n",
       "    </tr>\n",
       "  </tbody>\n",
       "</table>\n",
       "</div>"
      ],
      "text/plain": [
       "                                   center  \\\n",
       "0  IMG/center_2016_12_01_13_30_48_287.jpg   \n",
       "1  IMG/center_2016_12_01_13_30_48_404.jpg   \n",
       "2  IMG/center_2016_12_01_13_31_12_937.jpg   \n",
       "3  IMG/center_2016_12_01_13_31_13_037.jpg   \n",
       "4  IMG/center_2016_12_01_13_31_13_177.jpg   \n",
       "\n",
       "                                    left  \\\n",
       "0   IMG/left_2016_12_01_13_30_48_287.jpg   \n",
       "1   IMG/left_2016_12_01_13_30_48_404.jpg   \n",
       "2   IMG/left_2016_12_01_13_31_12_937.jpg   \n",
       "3   IMG/left_2016_12_01_13_31_13_037.jpg   \n",
       "4   IMG/left_2016_12_01_13_31_13_177.jpg   \n",
       "\n",
       "                                    right  steering  throttle  brake  \\\n",
       "0   IMG/right_2016_12_01_13_30_48_287.jpg       0.0       0.0    0.0   \n",
       "1   IMG/right_2016_12_01_13_30_48_404.jpg       0.0       0.0    0.0   \n",
       "2   IMG/right_2016_12_01_13_31_12_937.jpg       0.0       0.0    0.0   \n",
       "3   IMG/right_2016_12_01_13_31_13_037.jpg       0.0       0.0    0.0   \n",
       "4   IMG/right_2016_12_01_13_31_13_177.jpg       0.0       0.0    0.0   \n",
       "\n",
       "       speed  \n",
       "0  22.148290  \n",
       "1  21.879630  \n",
       "2   1.453011  \n",
       "3   1.438419  \n",
       "4   1.418236  "
      ]
     },
     "execution_count": 3,
     "metadata": {},
     "output_type": "execute_result"
    }
   ],
   "source": [
    "# Load data into list\n",
    "with open('data/track1/driving_log.csv', newline='') as f:\n",
    "    track1_data = list(csv.reader(f, skipinitialspace=True, delimiter=',', quoting=csv.QUOTE_NONE))\n",
    "\n",
    "# Load data from .csv and preview it in Pandas dataframe\n",
    "track1_df = pd.read_csv('data/track1/driving_log.csv', header=0)\n",
    "\n",
    "print('total rows: ', len(track1_df))\n",
    "track1_df.head()"
   ]
  },
  {
   "cell_type": "markdown",
   "metadata": {},
   "source": [
    "#### Data Set: Initial Observations\n",
    "We can see from the table above that the driving data includes:\n",
    "- relative paths to .jpg images from three different camera angles (center, left, right)\n",
    "- floating point measurements of the vehicle's steering angle, throttle, brake, and speed\n",
    "- the data appears to be time series, although no time stamps are included"
   ]
  },
  {
   "cell_type": "markdown",
   "metadata": {},
   "source": [
    "## Preview the driving images\n",
    "\n",
    "The driving images are the training features for our model. We need to look at samples of these images and start thinking about how various characteristics might affect the model (positively or negatively). "
   ]
  },
  {
   "cell_type": "code",
   "execution_count": 4,
   "metadata": {
    "collapsed": true
   },
   "outputs": [],
   "source": [
    "## Preview a random set of images from each camera angle\n",
    "\n",
    "index = random.randint(0, len(udacity_df))\n",
    "img_dir = 'data/udacity/'\n",
    "\n",
    "center_img_orig = mpimg.imread(img_dir + udacity_data[index][0])\n",
    "left_img_orig = mpimg.imread(img_dir + udacity_data[index][1])\n",
    "right_img_orig = mpimg.imread(img_dir + udacity_data[index][2])\n",
    "\n",
    "center_steer = udacity_data[index][3]"
   ]
  },
  {
   "cell_type": "code",
   "execution_count": null,
   "metadata": {
    "collapsed": true
   },
   "outputs": [],
   "source": [
    "# Display visualizations in the notebook\n",
    "%matplotlib inline\n",
    "\n",
    "plt.figure(figsize=(20,5))\n",
    "\n",
    "plt.subplot2grid((1, 3), (0, 0));\n",
    "plt.axis('off')\n",
    "plt.title('left camera')\n",
    "plt.text(0, left_img_orig.shape[0]+15, ('shape: ' + str(left_img_orig.shape)))\n",
    "plt.imshow(left_img_orig, cmap=\"gray\")\n",
    "\n",
    "plt.subplot2grid((1, 3), (0, 1));\n",
    "plt.axis('off')\n",
    "plt.title('center camera')\n",
    "plt.text(0, center_img_orig.shape[0]+15, ('shape: ' + str(center_img_orig.shape)))\n",
    "plt.text(0, center_img_orig.shape[0]+30, ('steering angle: ' + center_steer))\n",
    "plt.imshow(center_img_orig, cmap=\"gray\")\n",
    "\n",
    "plt.subplot2grid((1, 3), (0, 2));\n",
    "plt.axis('off')\n",
    "plt.title('right camera')\n",
    "plt.text(0, right_img_orig.shape[0]+15, ('shape: ' + str(right_img_orig.shape)))\n",
    "plt.imshow(right_img_orig, cmap=\"gray\")"
   ]
  },
  {
   "cell_type": "markdown",
   "metadata": {},
   "source": [
    "#### Driving Images: Initial Observations\n",
    "We can see from the images above that:\n",
    "- the images are taken in the front of the car (no side or rear angles)\n",
    "- each image is 160x320 with 3 RGB color channels\n",
    "- there is quite a bit of superfluous data, i.e. data that won't benefit the model; for example the sky, hills, trees in the background, as well as the hood of the car).\n",
    "\n",
    "If you view enough images or actually run the simulator, you also see that:\n",
    "- there are a lot of turns in the road (duh!), but since the track ultimately ends where it started, there seems to be more turns in one direction than the other\n",
    "- the lane markings change shape and color at different points in the track, and at some points there are no markings at all!\n",
    "- all of the images are consistently bright; no glare, no darkness, and no shadows that you'd usually encounter with normal driving\n",
    "\n",
    "Given the simulation takes place on a race track (not a highway), the road is free of additional cars, traffic signs, lanes, etc. We won't account for these in this project, but a more robust driving model would need training data that included these conditions. \n",
    "\n",
    "That said, many of the other items above can create biases in our model and cause it to overfit the specific driving conditions within this particular simulation. We need to correct for these so that our model learns to drive in a variety of conditions we might find on other tracks. We'll do this by pre-processing and augmenting our training data throughout the sections to follow. But first let's look at our target data (steering angles) to see if there's anything else we need to correct for. "
   ]
  },
  {
   "cell_type": "markdown",
   "metadata": {},
   "source": [
    "## Examine the steering angles\n",
    "The steering angles are our target data for training the model. That is, based on the images fed into the model while the car is driving along the track, the model will predict the appropriate steering angle to navigate the patch of road ahead."
   ]
  },
  {
   "cell_type": "code",
   "execution_count": 5,
   "metadata": {
    "collapsed": true
   },
   "outputs": [],
   "source": [
    "## Steering angle distribution function\n",
    "\n",
    "def show_dist(angles):\n",
    "    angles = np.array(angles)\n",
    "    num_bins = 35    \n",
    "    avg_per_bin = len(angles) / num_bins\n",
    "    \n",
    "    print('Total records:', angles.shape[0])\n",
    "    print('Avg per bin: {:0.1f}'.format(avg_per_bin))\n",
    "    \n",
    "    hist, bins = np.histogram(angles, num_bins)\n",
    "    width = 0.8 * (bins[1] - bins[0])\n",
    "    center = (bins[:-1] + bins[1:]) / 2\n",
    "\n",
    "    plt.title('Distribution of Steering Angles')\n",
    "    plt.bar(center, hist, align='center', width=width)\n",
    "    plt.plot((np.min(angles), np.max(angles)), (avg_per_bin, avg_per_bin), 'k-')\n",
    "    plt.show()\n"
   ]
  },
  {
   "cell_type": "markdown",
   "metadata": {},
   "source": [
    "#### Distribution &mdash; Udacity Data"
   ]
  },
  {
   "cell_type": "code",
   "execution_count": null,
   "metadata": {
    "collapsed": true
   },
   "outputs": [],
   "source": [
    "angles = udacity_df.steering.tolist()\n",
    "show_dist(angles)\n"
   ]
  },
  {
   "cell_type": "markdown",
   "metadata": {},
   "source": [
    "**Steering Angle Observations**:\n",
    "\n",
    "We can see from the graph above that an overwhelming amount of the target data are steering angles close to zero (i.e., when the car is driving straight). This biases our model to drive the car straight and make it's difficult to learn how to navigate turns. \n",
    "\n",
    "It also seems there may be an imbalance in left vs. right turning data (although not as much as I had expected). It's not clear how big of an impact this would have on the model, but there's a chance the model could learn to turn more effectively in one direction than the other. Just to be safe we'll correct for this by ensuring there are equal quantities of left and right steering data after pre-processing. "
   ]
  },
  {
   "cell_type": "markdown",
   "metadata": {},
   "source": [
    "#### Distribution &mdash; Self-generated data + Udacity data"
   ]
  },
  {
   "cell_type": "code",
   "execution_count": null,
   "metadata": {
    "collapsed": true
   },
   "outputs": [],
   "source": [
    "angles = track1_df.steering.tolist()\n",
    "show_dist(angles)"
   ]
  },
  {
   "cell_type": "markdown",
   "metadata": {},
   "source": [
    "---\n",
    "# Step 2: Data pre-processing\n",
    "---"
   ]
  },
  {
   "cell_type": "markdown",
   "metadata": {},
   "source": [
    "### 2.1 | Overview of Data Sources and Splits\n",
    "\n",
    "**Data Sources**: \n",
    "- There are two tracks, but all of the original training and validation data is generated by driving the simulator on **Track 1**.\n",
    "- Udacity provides an intial set of \"good\" data to get us started.\n",
    "- Additional data is gathered by running the simulator myself. \n",
    "\n",
    "**Training Data**:\n",
    "- The training data set includes the original image data captured from the simulator on Track 1, plus any additional data generated via pre-processing and augmentation. \n",
    "\n",
    "**Validation Data**:\n",
    "- The validation data will contain the original image data captured from the simulator on Track 1, with only a pre-process to create a more balanced distribution (i.e., reduce the 'drive straight' bias). No other pre-processing or augmentation is included. This ensures we can properly validate whether changes we're making to the model or training data are increasing or decreasing the model's performance. \n",
    "\n",
    "**Test Data**:\n",
    "- We'll test the model's ability to generalize by running it on **Track 2**. So, the simulator input images from Track 2 will serve as our test data."
   ]
  },
  {
   "cell_type": "code",
   "execution_count": 6,
   "metadata": {
    "collapsed": true
   },
   "outputs": [],
   "source": [
    "## Define data sources and their corresponding image directory\n",
    "\n",
    "sources = ['udacity', 'self', 'track1']    # available data sources/groupings\n",
    "source = sources[2]                        # source used for building the pipeline below\n",
    "\n",
    "## Creates correct directory based on the image source\n",
    "def get_img_dir(source):\n",
    "    return \"data/\" + source + \"/IMG/\"\n"
   ]
  },
  {
   "cell_type": "markdown",
   "metadata": {},
   "source": [
    "### 2.2 | Data Hygiene\n",
    "\n",
    "Before going any further there are few aspects of the data we need to cleanup to make the data easier to work with.\n",
    "\n",
    "1. We're only using the steering data to train the model, so we can prune out the other measurements (throttle, brake, and speed).\n",
    "2. Remove the directory from image path data. We'll be moving our data around and we only want the image filename. \n",
    "3. Cast all of the steering data as floats. In the .csv they're cast as strings. "
   ]
  },
  {
   "cell_type": "code",
   "execution_count": 15,
   "metadata": {
    "collapsed": true
   },
   "outputs": [],
   "source": [
    "## Hygiene function\n",
    "\n",
    "# column references for source data: \n",
    "# 0=center_img, 1=left_img, 2=right_img, 3=steering, 4=throttle, 5=brake, 6=speed\n",
    "\n",
    "def clean(source_data):\n",
    "    '''Performs basic hygiene functions listed above.\n",
    "    \n",
    "    Arguments:\n",
    "    source_data: source data in list format with header row\n",
    "    '''\n",
    "    data_clean = []\n",
    "\n",
    "    for row in source_data[1:]:\n",
    "        # Remove directory from image paths\n",
    "        center = row[0].split('/')[-1]\n",
    "        left = row[1].split('/')[-1]\n",
    "        right = row[2].split('/')[-1]\n",
    "\n",
    "        # Only grab the steering data and cast as float\n",
    "        angle = float(row[3])\n",
    "\n",
    "        data_clean.append([center, left, right, angle])\n",
    "    \n",
    "    return data_clean\n"
   ]
  },
  {
   "cell_type": "markdown",
   "metadata": {},
   "source": [
    "#### Track 1 data hygiene"
   ]
  },
  {
   "cell_type": "code",
   "execution_count": 16,
   "metadata": {
    "collapsed": true
   },
   "outputs": [],
   "source": [
    "track1_clean = clean(track1_data)"
   ]
  },
  {
   "cell_type": "code",
   "execution_count": 17,
   "metadata": {},
   "outputs": [
    {
     "name": "stdout",
     "output_type": "stream",
     "text": [
      "number of records:  18605\n",
      "\n",
      "first 3 records:\n",
      " [['center_2016_12_01_13_30_48_287.jpg', 'left_2016_12_01_13_30_48_287.jpg', 'right_2016_12_01_13_30_48_287.jpg', 0.0], ['center_2016_12_01_13_30_48_404.jpg', 'left_2016_12_01_13_30_48_404.jpg', 'right_2016_12_01_13_30_48_404.jpg', 0.0], ['center_2016_12_01_13_31_12_937.jpg', 'left_2016_12_01_13_31_12_937.jpg', 'right_2016_12_01_13_31_12_937.jpg', 0.0]]\n"
     ]
    }
   ],
   "source": [
    "print('number of records: ', len(track1_clean))\n",
    "print('\\nfirst 3 records:\\n', track1_clean[0:3])"
   ]
  },
  {
   "cell_type": "markdown",
   "metadata": {},
   "source": [
    "### 2.3 | Seperate C/L/R camera data and adjust steering angles for left and right turns\n",
    "Right now, each row of the data set contains three camera angles (center, left, right) and one steering angle which pertains to the center camera. In order to utilize all of the different camera data, we need to: \n",
    "\n",
    "1. Separate the data for each of the different camera angles (only one camera angle per row)\n",
    "2. Adjust the steering angles for the left and right cameras _while the car is turning_. This will compensate for their respective vantage points relative to the center of the car. That is, the steering angle for a right turn should be sharper from the persective of the left camera (and vice versa). "
   ]
  },
  {
   "cell_type": "code",
   "execution_count": 18,
   "metadata": {
    "collapsed": true
   },
   "outputs": [],
   "source": [
    "turn_thresh = 0.15   # the angle threshold used to identify left and right turns\n",
    "ang_corr = np.random.uniform(0.26, 0.28)   # the steering angle correction for left and right cameras\n",
    "\n",
    "\n",
    "def steer_adj(angle):\n",
    "    '''Calculates the absolute value of the steering angle correction for images from \n",
    "    the left and right cameras.\n",
    "    '''\n",
    "    new_angle = min((abs(angle)+ang_corr), 1.0)\n",
    "    \n",
    "    return new_angle\n"
   ]
  },
  {
   "cell_type": "code",
   "execution_count": 19,
   "metadata": {
    "collapsed": true
   },
   "outputs": [],
   "source": [
    "## Function for adding left and right camera angles\n",
    "\n",
    "def split_3cam(clean_data, keep_prob):\n",
    "    '''Creates a list of images and angles for all three camera angles. \n",
    "    \n",
    "    Image filenames (inputs) are replaced with actual images to make downstream tranformations easier. \n",
    "    \n",
    "    Arguments:\n",
    "    clean_data: a list of image filenames and angles\n",
    "    keep_prob: probability of keeping zero steering angle records \n",
    "    \n",
    "    Returns:\n",
    "    a list of tuples [(image array, angle)]\n",
    "    \n",
    "    '''\n",
    "    data_3cam = []\n",
    "\n",
    "    for row in clean_data:\n",
    "        \n",
    "        # Convert filenames to images\n",
    "        img_center = mpimg.imread(get_img_dir(source) + row[0])\n",
    "        img_left = mpimg.imread(get_img_dir(source) + row[1])\n",
    "        img_right = mpimg.imread(get_img_dir(source) + row[2])\n",
    "        ang_center = row[3]\n",
    "        \n",
    "        # capture right turn data\n",
    "        if ang_center > turn_thresh:\n",
    "            # center camera, orig steering angle\n",
    "            data_3cam.append([img_center, ang_center]) \n",
    "\n",
    "            # left camera, adjusted steering angle\n",
    "            img_left, ang_left = row[1], steer_adj(row[3])\n",
    "            data_3cam.append([img_left, ang_left])\n",
    "\n",
    "        # capture left turn data\n",
    "        elif ang_center < -turn_thresh:\n",
    "            # center camera, orig steering angle\n",
    "            data_3cam.append([img_center, ang_center]) \n",
    "\n",
    "            # right camera, adjusted steering angle\n",
    "            img_right, ang_right = row[1], -steer_adj(row[3])  \n",
    "            data_3cam.append([img_right, ang_right])\n",
    "\n",
    "        # capture straight driving data\n",
    "        else: \n",
    "            if ang_center == 0:\n",
    "                if np.random.rand() <= keep_prob:\n",
    "                    data_3cam.append([img_center, ang_center])\n",
    "            else:\n",
    "                data_3cam.append([img_center, ang_center])\n",
    "    \n",
    "    return data_3cam"
   ]
  },
  {
   "cell_type": "markdown",
   "metadata": {},
   "source": [
    "#### Create dataset with all 3 cameras"
   ]
  },
  {
   "cell_type": "code",
   "execution_count": 20,
   "metadata": {},
   "outputs": [
    {
     "name": "stdout",
     "output_type": "stream",
     "text": [
      "Total records: 22747\n",
      "Avg per bin: 649.9\n"
     ]
    },
    {
     "data": {
      "image/png": "[encoded data removed]",
      "text/plain": [
       "<matplotlib.figure.Figure at 0x7f02dec7b0b8>"
      ]
     },
     "metadata": {},
     "output_type": "display_data"
    }
   ],
   "source": [
    "track1_3cam = split_3cam(track1_clean, 1.0)\n",
    "angles = [i[1] for i in track1_3cam]\n",
    "show_dist(angles)"
   ]
  },
  {
   "cell_type": "markdown",
   "metadata": {},
   "source": [
    "#### Flatten the distribution\n",
    "As we can see from the graph above, there's still MUCH more 'drive straight' data than turning data. So, below we remove most of the zero angle data to somewhat normalize the distribution. We'll actually equalize the distribution later on. For now, we just want to make it more balanced and get a more detailed look at the other parts of the distribution. "
   ]
  },
  {
   "cell_type": "code",
   "execution_count": null,
   "metadata": {
    "collapsed": true
   },
   "outputs": [],
   "source": [
    "track1_3cam = split_3cam(track1_clean, 0.3)\n",
    "angles = [i[1] for i in track1_3cam]\n",
    "show_dist(angles)"
   ]
  },
  {
   "cell_type": "markdown",
   "metadata": {},
   "source": [
    "### 2.4 | Crop the images\n",
    "There is a lot of background information in the image that isn't useful for training the model (e.g. trees, sky, birds). Cropping the image helps reduce the level of noise so the model can more easily identify the most important features, namely the turns in the road directly ahead.\n",
    "\n",
    "**NOTE:**\n",
    "The crop function is not actually applied at this point in the pipeline. It happens via the `Cropping2D()` layer near the beginning of the model, just after normalization. We do this there because we also want to crop the input images from the simulator during testing. But, for visualization purposes in this notebook, we'll start showing images in their cropped formed now...so that we can see how other transformations we're making will affect what the model \"sees\" later in the pipeline."
   ]
  },
  {
   "cell_type": "code",
   "execution_count": 21,
   "metadata": {},
   "outputs": [
    {
     "name": "stdout",
     "output_type": "stream",
     "text": [
      "orig_shape:  (160, 320, 3)\n",
      "crop_shape:  (80, 280, 3)\n",
      "crop points (h1, h2, w1, w2) = (60, 140, 20, 300)\n"
     ]
    }
   ],
   "source": [
    "## Define crop points\n",
    "\n",
    "# Crop settings provided to Keras Cropping2D layer within the model\n",
    "crop_set = (60, 20), (20, 20)   # number of pixels to remove from (top, bottom), (left, right)\n",
    "    \n",
    "# Model input_shape (160, 320, 3) \n",
    "orig_shape = center_img_orig.shape  \n",
    "\n",
    "# Image shape after cropping\n",
    "crop_shape = (\n",
    "    orig_shape[0]-(crop_set[0][0]+crop_set[0][1]), \\\n",
    "    orig_shape[1]-(crop_set[1][0]+crop_set[1][1]),  \\\n",
    "    orig_shape[2]\n",
    ")\n",
    "\n",
    "# Resulting crop points (for previewing images in notebook)\n",
    "h1, h2 = (crop_set[0][0], orig_shape[0]-crop_set[0][1])\n",
    "w1, w2 = (crop_set[1][0], orig_shape[1]-crop_set[1][1])\n",
    "crop_points = (h1, h2, w1, w2)\n",
    "\n",
    "print('orig_shape: ', orig_shape)\n",
    "print('crop_shape: ', crop_shape)\n",
    "print('crop points (h1, h2, w1, w2) = {}'.format(crop_points))"
   ]
  },
  {
   "cell_type": "code",
   "execution_count": 22,
   "metadata": {
    "collapsed": true
   },
   "outputs": [],
   "source": [
    "## Cropping function (again, for notebook display purposes only)\n",
    "\n",
    "def crop(image_data):\n",
    "    h1, h2, w1, w2 = crop_points\n",
    "    \n",
    "    if isinstance(image_data, str):\n",
    "        img_crop = mpimg.imread(get_img_dir(source) + image_data)[h1:h2,w1:w2]\n",
    "    else:\n",
    "        img_crop = image_data[h1:h2,w1:w2]\n",
    "    \n",
    "    return img_crop\n"
   ]
  },
  {
   "cell_type": "markdown",
   "metadata": {},
   "source": [
    "### 2.5 | Flip the images\n",
    "This function was originally executed later in the pipeline within the generator. But, I decided to move it up to the pre-processing stage since it inherently adds more images while balancing the steering angle distribution. Doing this earlier in the process helps prevent some data loss when we attempt to equalize the distribution in the final step of pre-processing. The equalization step (randomly) removes a significant chunk of data, so it's better to add the flipped images beforehand as it increases the chances that at least one version of an image is included in the training data (i.e., it adds more samples and greater variety to our training set)."
   ]
  },
  {
   "cell_type": "code",
   "execution_count": 23,
   "metadata": {
    "collapsed": true
   },
   "outputs": [],
   "source": [
    "## Flip functions\n",
    "\n",
    "\n",
    "# For flipping batches of images and angles input as a list\n",
    "\n",
    "def flip_n(data_3cam):\n",
    "    '''Creates a flipped version of every input image and angle. \n",
    "    \n",
    "    Returns both the original and the flipped versions in list form. \n",
    "    '''\n",
    "    image_names = [i[0] for i in data_3cam]\n",
    "    angles = [i[1] for i in data_3cam]\n",
    "    \n",
    "    images_flip = []\n",
    "    angles_flip = []\n",
    "\n",
    "    for i in range(len(angles)):\n",
    "        # Grab the image\n",
    "        image = mpimg.imread(get_img_dir(source) + image_names[i])\n",
    "        \n",
    "        # Append the original image and angle\n",
    "        images_flip.append(image)\n",
    "        angles_flip.append(angles[i])\n",
    "        \n",
    "        # Append the flipped versions\n",
    "        images_flip.append(cv2.flip(image, 1))\n",
    "        angles_flip.append(-angles[i])\n",
    "\n",
    "    return list(zip(images_flip, angles_flip))\n",
    "\n",
    "\n",
    "# Flips a single image input as either a string or array\n",
    "\n",
    "def flip(image_data):\n",
    "    if isinstance(image_data, str):\n",
    "        image = mpimg.imread(get_img_dir(source) + image_data)\n",
    "    else:\n",
    "        image = image_data\n",
    "        \n",
    "    return np.array(cv2.flip(image, 1))\n"
   ]
  },
  {
   "cell_type": "markdown",
   "metadata": {},
   "source": [
    "#### Preview Images: Cropped & Flipped "
   ]
  },
  {
   "cell_type": "code",
   "execution_count": null,
   "metadata": {
    "collapsed": true
   },
   "outputs": [],
   "source": [
    "## Preview cropped and flipped images\n",
    "\n",
    "index = random.randint(0, len(track1_clean))\n",
    "\n",
    "# Select a random set of images to crop\n",
    "center_img_crop = crop(track1_clean[index][0])\n",
    "left_img_crop = crop(track1_clean[index][1])\n",
    "right_img_crop = crop(track1_clean[index][2])\n",
    "\n",
    "# Create flipped versions\n",
    "center_img_flip = flip(center_img_crop)\n",
    "left_img_flip = flip(left_img_crop)\n",
    "right_img_flip = flip(right_img_crop)\n",
    "\n",
    "# Calculate steering angles\n",
    "center_steer = float(track1_clean[index][3])\n",
    "left_steer = None\n",
    "left_steer_flip = None \n",
    "right_steer = None\n",
    "right_steer_flip = None\n",
    "if center_steer > turn_thresh:\n",
    "    left_steer = steer_adj(center_steer)\n",
    "    left_steer_flip = -steer_adj(center_steer)\n",
    "if center_steer < -turn_thresh:\n",
    "    right_steer = -steer_adj(center_steer)\n",
    "    right_steer_flip = steer_adj(center_steer)\n",
    "    \n",
    "# Display visualizations in the notebook\n",
    "plt.figure(figsize=(20,6))\n",
    "\n",
    "# Cropped versions\n",
    "plt.subplot2grid((2, 3), (0, 0));\n",
    "plt.axis('off')\n",
    "plt.title('Left Camera (cropped)')\n",
    "plt.text(0, left_img_crop.shape[0]+15, ('shape: ' + str(left_img_crop.shape)))\n",
    "plt.text(0, left_img_crop.shape[0]+30, ('steering angle: ' + str(left_steer)))\n",
    "plt.imshow(left_img_crop, cmap=\"gray\")\n",
    "\n",
    "plt.subplot2grid((2, 3), (0, 1));\n",
    "plt.axis('off')\n",
    "plt.title('Center Camera (cropped)')\n",
    "plt.text(0, center_img_crop.shape[0]+15, ('shape: ' + str(center_img_crop.shape)))\n",
    "plt.text(0, center_img_crop.shape[0]+30, ('steering angle: ' + str(center_steer)))\n",
    "plt.imshow(center_img_crop, cmap=\"gray\")\n",
    "\n",
    "plt.subplot2grid((2, 3), (0, 2));\n",
    "plt.axis('off')\n",
    "plt.title('Right Camera (cropped)')\n",
    "plt.text(0, right_img_crop.shape[0]+15, ('shape: ' + str(right_img_crop.shape)))\n",
    "plt.text(0, right_img_crop.shape[0]+30, ('steering angle: ' + str(right_steer)))\n",
    "plt.imshow(right_img_crop, cmap=\"gray\")\n",
    "\n",
    "# Flipped version\n",
    "plt.subplot2grid((2, 3), (1, 0));\n",
    "plt.axis('off')\n",
    "plt.title('Left Camera (cropped + flipped)')\n",
    "plt.text(0, left_img_flip.shape[0]+15, ('shape: ' + str(left_img_flip.shape)))\n",
    "plt.text(0, left_img_flip.shape[0]+30, ('steering angle: ' + str(left_steer_flip)))\n",
    "plt.imshow(left_img_flip, cmap=\"gray\")\n",
    "\n",
    "plt.subplot2grid((2, 3), (1, 1));\n",
    "plt.axis('off')\n",
    "plt.title('Center Camera (cropped + flipped)')\n",
    "plt.text(0, center_img_flip.shape[0]+15, ('shape: ' + str(center_img_flip.shape)))\n",
    "plt.text(0, center_img_flip.shape[0]+30, ('steering angle: ' + str(-center_steer)))\n",
    "plt.imshow(center_img_flip, cmap=\"gray\")\n",
    "\n",
    "plt.subplot2grid((2, 3), (1, 2));\n",
    "plt.axis('off')\n",
    "plt.title('Right Camera (cropped + flipped)')\n",
    "plt.text(0, right_img_flip.shape[0]+15, ('shape: ' + str(right_img_flip.shape)))\n",
    "plt.text(0, right_img_flip.shape[0]+30, ('steering angle: ' + str(right_steer_flip)))\n",
    "plt.imshow(right_img_flip, cmap=\"gray\")"
   ]
  },
  {
   "cell_type": "markdown",
   "metadata": {},
   "source": [
    "#### Add flipped images to dataset\n",
    "Again, we're going to crop them here for demonstration purposes, but ultimately cropping will be done in the model. "
   ]
  },
  {
   "cell_type": "code",
   "execution_count": null,
   "metadata": {
    "collapsed": true
   },
   "outputs": [],
   "source": [
    "track1_crop = [(crop(i[0]), i[1]) for i in track1_3cam]"
   ]
  },
  {
   "cell_type": "code",
   "execution_count": null,
   "metadata": {
    "collapsed": true
   },
   "outputs": [],
   "source": [
    "print('Count of cropped images:', len(track1_crop))"
   ]
  },
  {
   "cell_type": "code",
   "execution_count": null,
   "metadata": {
    "collapsed": true
   },
   "outputs": [],
   "source": [
    "# Create flip version with cropping\n",
    "\n",
    "# track1_flip = [(flip(i[0]), -i[1]) for i in track1_crop] + track1_crop"
   ]
  },
  {
   "cell_type": "code",
   "execution_count": 24,
   "metadata": {
    "collapsed": true
   },
   "outputs": [],
   "source": [
    "# Create flip version WITHOUT cropping\n",
    "\n",
    "track1_flip = [(flip(i[0]), -i[1]) for i in track1_3cam] + track1_3cam"
   ]
  },
  {
   "cell_type": "code",
   "execution_count": 25,
   "metadata": {},
   "outputs": [
    {
     "data": {
      "text/plain": [
       "45494"
      ]
     },
     "execution_count": 25,
     "metadata": {},
     "output_type": "execute_result"
    }
   ],
   "source": [
    "len(track1_flip)"
   ]
  },
  {
   "cell_type": "markdown",
   "metadata": {},
   "source": [
    "#### Distribution with addition of flipped images\n",
    "We can see that the nuber of left and right turns in each bin is now perfectly balanced. And, we now have twice as many training images!"
   ]
  },
  {
   "cell_type": "code",
   "execution_count": 26,
   "metadata": {},
   "outputs": [
    {
     "name": "stdout",
     "output_type": "stream",
     "text": [
      "Total records: 45494\n",
      "Avg per bin: 1299.8\n"
     ]
    },
    {
     "data": {
      "image/png": "[encoded data removed]",
      "text/plain": [
       "<matplotlib.figure.Figure at 0x7f02db6d2630>"
      ]
     },
     "metadata": {},
     "output_type": "display_data"
    }
   ],
   "source": [
    "angles = [i[1] for i in track1_flip]\n",
    "show_dist(angles)"
   ]
  },
  {
   "cell_type": "markdown",
   "metadata": {},
   "source": [
    "### 2.6 | Equalize the Distribution\n",
    "We want our model to get roughly the same number of training samples for each bin of steering angles. This will ensure that the model isn't better at steering in one direction versus another (or not steering at all!)."
   ]
  },
  {
   "cell_type": "markdown",
   "metadata": {},
   "source": [
    "**NOTE**: I borrowed the function below from Jeremy Shannon ([source code](https://github.com/jeremy-shannon/CarND-Behavioral-Cloning-Project/blob/master/model.py#L225)) with a few modifications. Great to see other Udacity students publishing such useful tools. Jeremy's code was better than anything else I found on Stack Overflow etc."
   ]
  },
  {
   "cell_type": "code",
   "execution_count": 27,
   "metadata": {
    "collapsed": true
   },
   "outputs": [],
   "source": [
    "def equal_dist(data, factor):\n",
    "    '''Creates a more equalized distribution of steering angles.\n",
    "    \n",
    "    Basic logic:\n",
    "    - If the number of samples in a given bin is below the target number, keep all samples for that bin.\n",
    "    - Otherwise the keep prob for that bin is set to bring the number of samples for that bin down to the average.\n",
    "    \n",
    "    '''\n",
    "    images = [i[0] for i in data]\n",
    "    angles = [i[1] for i in data]\n",
    "    \n",
    "    num_bins = 35\n",
    "    avg_samples_per_bin = len(angles) / num_bins\n",
    "    target = avg_samples_per_bin * factor\n",
    "\n",
    "    hist, bins = np.histogram(angles, num_bins)\n",
    "    \n",
    "    # Determine keep probability for each bin\n",
    "    keep_probs = []\n",
    "    for i in range(num_bins):\n",
    "        if hist[i] <= target:\n",
    "            keep_probs.append(1.)\n",
    "        else:\n",
    "            keep_prob = 1./(hist[i]/target)\n",
    "            keep_probs.append(keep_prob)\n",
    "    \n",
    "    # Create list of angles to remove because bin count is above the target\n",
    "    remove_list = []\n",
    "    for i in range(len(angles)):\n",
    "        for j in range(num_bins):\n",
    "            if angles[i] >= bins[j] and angles[i] <= bins[j+1]:\n",
    "                # delete with probability 1 - keep_probs[j]\n",
    "                if np.random.rand() > keep_probs[j]:\n",
    "                    remove_list.append(i)\n",
    "\n",
    "    for i in sorted(remove_list, reverse=True):\n",
    "        del images[i]\n",
    "        del angles[i]\n",
    "        \n",
    "    eq_data = []\n",
    "    \n",
    "    for i in range(len(angles)):\n",
    "        eq_data.append((images[i], angles[i]))\n",
    "    \n",
    "    return eq_data"
   ]
  },
  {
   "cell_type": "markdown",
   "metadata": {
    "collapsed": true
   },
   "source": [
    "#### Current Distribution &mdash; Track 1 Data"
   ]
  },
  {
   "cell_type": "code",
   "execution_count": null,
   "metadata": {
    "collapsed": true
   },
   "outputs": [],
   "source": [
    "track1_angles = np.array([i[1] for i in track1_flip])\n",
    "show_dist(track1_angles)"
   ]
  },
  {
   "cell_type": "markdown",
   "metadata": {},
   "source": [
    "#### New Distribution &mdash; Track 1 Data"
   ]
  },
  {
   "cell_type": "code",
   "execution_count": 33,
   "metadata": {},
   "outputs": [
    {
     "name": "stdout",
     "output_type": "stream",
     "text": [
      "Total records: 16884\n",
      "Avg per bin: 482.4\n"
     ]
    },
    {
     "data": {
      "image/png": "[encoded data removed]",
      "text/plain": [
       "<matplotlib.figure.Figure at 0x7f02de544630>"
      ]
     },
     "metadata": {},
     "output_type": "display_data"
    },
    {
     "ename": "NameError",
     "evalue": "name 'track1_angles' is not defined",
     "output_type": "error",
     "traceback": [
      "\u001b[0;31m---------------------------------------------------------------------------\u001b[0m",
      "\u001b[0;31mNameError\u001b[0m                                 Traceback (most recent call last)",
      "\u001b[0;32m<ipython-input-33-9e266e22e55c>\u001b[0m in \u001b[0;36m<module>\u001b[0;34m()\u001b[0m\n\u001b[1;32m      2\u001b[0m \u001b[0mtrack1_angles_eq\u001b[0m \u001b[0;34m=\u001b[0m \u001b[0;34m[\u001b[0m\u001b[0mi\u001b[0m\u001b[0;34m[\u001b[0m\u001b[0;36m1\u001b[0m\u001b[0;34m]\u001b[0m \u001b[0;32mfor\u001b[0m \u001b[0mi\u001b[0m \u001b[0;32min\u001b[0m \u001b[0mtrack1_eq\u001b[0m\u001b[0;34m]\u001b[0m\u001b[0;34m\u001b[0m\u001b[0m\n\u001b[1;32m      3\u001b[0m \u001b[0mshow_dist\u001b[0m\u001b[0;34m(\u001b[0m\u001b[0mtrack1_angles_eq\u001b[0m\u001b[0;34m)\u001b[0m\u001b[0;34m\u001b[0m\u001b[0m\n\u001b[0;32m----> 4\u001b[0;31m \u001b[0mprint\u001b[0m\u001b[0;34m(\u001b[0m\u001b[0;34m'Records removed:'\u001b[0m\u001b[0;34m,\u001b[0m \u001b[0mlen\u001b[0m\u001b[0;34m(\u001b[0m\u001b[0mtrack1_angles\u001b[0m\u001b[0;34m)\u001b[0m\u001b[0;34m-\u001b[0m\u001b[0mlen\u001b[0m\u001b[0;34m(\u001b[0m\u001b[0mtrack1_angles_eq\u001b[0m\u001b[0;34m)\u001b[0m\u001b[0;34m)\u001b[0m\u001b[0;34m\u001b[0m\u001b[0m\n\u001b[0m",
      "\u001b[0;31mNameError\u001b[0m: name 'track1_angles' is not defined"
     ]
    }
   ],
   "source": [
    "track1_eq = equal_dist(track1_flip, 0.5)\n",
    "track1_angles_eq = [i[1] for i in track1_eq]\n",
    "show_dist(track1_angles_eq)\n",
    "print('Records removed:', len(track1_angles)-len(track1_angles_eq))"
   ]
  },
  {
   "cell_type": "markdown",
   "metadata": {},
   "source": [
    "### 2.7 | Image Smoothing"
   ]
  },
  {
   "cell_type": "markdown",
   "metadata": {},
   "source": [
    "After reviewing the various smoothing techniques discussed [here in the OpenCV docs](http://docs.opencv.org/3.1.0/d4/d13/tutorial_py_filtering.html), I decided to use `cv2.bilateralFilter()`. While the operation is slower than the other filters, it has the advantage of removing noise from the image **while preserving the edges**. A more in depth discussion on bilateral filtering can be found [here](http://homepages.inf.ed.ac.uk/rbf/CVonline/LOCAL_COPIES/MANDUCHI1/Bilateral_Filtering.html) (University of Edinburgh). "
   ]
  },
  {
   "cell_type": "code",
   "execution_count": 34,
   "metadata": {
    "collapsed": true
   },
   "outputs": [],
   "source": [
    "def img_smooth(image_data):\n",
    "    blur_filter = (5, 80, 80)\n",
    "    \n",
    "    if isinstance(image_data, str):\n",
    "        image = mpimg.imread(get_img_dir(source) + image_data)\n",
    "    else:\n",
    "        image = image_data\n",
    "    \n",
    "    img_blur = cv2.bilateralFilter(image, blur_filter[0], blur_filter[1], blur_filter[2])\n",
    "    \n",
    "    return img_blur"
   ]
  },
  {
   "cell_type": "code",
   "execution_count": null,
   "metadata": {
    "collapsed": true
   },
   "outputs": [],
   "source": [
    "## Preview smoothed images\n",
    "\n",
    "index = random.randint(0, len(track1_clean))\n",
    "\n",
    "# Select a random set of images to crop\n",
    "center_img_crop = crop(track1_clean[index][0])\n",
    "left_img_crop = crop(track1_clean[index][1])\n",
    "right_img_crop = crop(track1_clean[index][2])\n",
    "\n",
    "# Create smoothed versions\n",
    "center_img_blur = img_smooth(center_img_crop)\n",
    "left_img_blur = img_smooth(left_img_crop)\n",
    "right_img_blur = img_smooth(right_img_crop)\n",
    "    \n",
    "# Display visualizations in the notebook\n",
    "plt.figure(figsize=(20,6))\n",
    "\n",
    "# Cropped versions\n",
    "plt.subplot2grid((2, 3), (0, 0));\n",
    "plt.axis('off')\n",
    "plt.title('Left Camera')\n",
    "plt.imshow(left_img_crop, cmap=\"gray\")\n",
    "\n",
    "plt.subplot2grid((2, 3), (0, 1));\n",
    "plt.axis('off')\n",
    "plt.title('Center Camera')\n",
    "plt.imshow(center_img_crop, cmap=\"gray\")\n",
    "\n",
    "plt.subplot2grid((2, 3), (0, 2));\n",
    "plt.axis('off')\n",
    "plt.title('Right Camera')\n",
    "plt.imshow(right_img_crop, cmap=\"gray\")\n",
    "\n",
    "# Flipped version\n",
    "plt.subplot2grid((2, 3), (1, 0));\n",
    "plt.axis('off')\n",
    "plt.title('Left Camera (smoothed)')\n",
    "plt.imshow(left_img_blur, cmap=\"gray\")\n",
    "\n",
    "plt.subplot2grid((2, 3), (1, 1));\n",
    "plt.axis('off')\n",
    "plt.title('Center Camera (smoothed)')\n",
    "plt.imshow(center_img_blur, cmap=\"gray\")\n",
    "\n",
    "plt.subplot2grid((2, 3), (1, 2));\n",
    "plt.axis('off')\n",
    "plt.title('Right Camera (smoothed)')\n",
    "plt.imshow(right_img_blur, cmap=\"gray\")"
   ]
  },
  {
   "cell_type": "markdown",
   "metadata": {
    "collapsed": true
   },
   "source": [
    "#### Apply smoothing to dataset\n",
    "The above preview looks good. The image has ample noise reduction with very little blurring of the edges. So, we can now apply this effect to our dataset."
   ]
  },
  {
   "cell_type": "code",
   "execution_count": null,
   "metadata": {
    "collapsed": true
   },
   "outputs": [],
   "source": [
    "track1_blur = [(img_smooth(i[0]), i[1]) for i in track1_eq]"
   ]
  },
  {
   "cell_type": "code",
   "execution_count": null,
   "metadata": {
    "collapsed": true
   },
   "outputs": [],
   "source": [
    "## Verify smoothing effect\n",
    "\n",
    "index = random.randint(0, len(track1_blur))\n",
    "\n",
    "plt.figure(figsize=(10,4))\n",
    "plt.axis('off')\n",
    "plt.imshow(track1_blur[index][0], cmap=\"gray\")"
   ]
  },
  {
   "cell_type": "markdown",
   "metadata": {},
   "source": [
    "### 2.8 |  Pre-Process the Data Set\n",
    "Here we apply some of all of the pre-processing functions described above in order to create our pre-processed data set. "
   ]
  },
  {
   "cell_type": "code",
   "execution_count": null,
   "metadata": {
    "collapsed": true
   },
   "outputs": [],
   "source": [
    "# def pre_process(source_data):\n",
    "    \n",
    "#     clean_data = clean(source_data)\n",
    "#     cam3_data = split_3cam(clean_data, 0.1)\n",
    "#     flip_data = [(flip(i[0]), -i[1]) for i in cam3_data] + cam3_data\n",
    "#     blur_data = [(img_smooth(i[0]), i[1]) for i in flip_data]\n",
    "#     pp_images, pp_angles = equal_dist(blur_data, 0.5)\n",
    "    \n",
    "#     return pp_images, pp_angles\n",
    "    "
   ]
  },
  {
   "cell_type": "markdown",
   "metadata": {},
   "source": [
    "#### Run through each pre-processing step separately\n",
    "Running them together as part of single function seems to crash my notebook (i.e., dead kernel)."
   ]
  },
  {
   "cell_type": "code",
   "execution_count": null,
   "metadata": {
    "collapsed": true
   },
   "outputs": [],
   "source": [
    "# Clean the data\n",
    "clean_data = clean(track1_data)"
   ]
  },
  {
   "cell_type": "code",
   "execution_count": null,
   "metadata": {
    "collapsed": true
   },
   "outputs": [],
   "source": [
    "# Split the data to capture Left, Right, and Center camera angles\n",
    "cam3_data = split_3cam(clean_data, 0.3)"
   ]
  },
  {
   "cell_type": "code",
   "execution_count": null,
   "metadata": {
    "collapsed": true
   },
   "outputs": [],
   "source": [
    "# Check number of records\n",
    "len(cam3_data)"
   ]
  },
  {
   "cell_type": "code",
   "execution_count": null,
   "metadata": {
    "collapsed": true
   },
   "outputs": [],
   "source": [
    "# Add a flipped version of each image and angle\n",
    "flip_data = [(flip(i[0]), -i[1]) for i in cam3_data] + cam3_data"
   ]
  },
  {
   "cell_type": "code",
   "execution_count": null,
   "metadata": {
    "collapsed": true
   },
   "outputs": [],
   "source": [
    "# Check number of records - should be 2x the 3cam output\n",
    "len(flip_data)"
   ]
  },
  {
   "cell_type": "code",
   "execution_count": null,
   "metadata": {
    "collapsed": true
   },
   "outputs": [],
   "source": [
    "# Equalize the distribution to diminish the bias toward straight driving\n",
    "eq_data = equal_dist(flip_data, 0.3)"
   ]
  },
  {
   "cell_type": "code",
   "execution_count": null,
   "metadata": {
    "collapsed": true
   },
   "outputs": [],
   "source": [
    "# Check number of records - should be less than flip_data output\n",
    "print('Total Records: ', len(eq_data))\n",
    "print('Records removed:', len(flip_data)-len(eq_data))"
   ]
  },
  {
   "cell_type": "code",
   "execution_count": 35,
   "metadata": {
    "collapsed": true
   },
   "outputs": [],
   "source": [
    "# TEMPORARY - FOR TESTING\n",
    "\n",
    "# Smooth the images using a bilateral filter - this is compute intensive, so we do it after pruning\n",
    "blur_data = [(img_smooth(i[0]), i[1]) for i in track1_eq]"
   ]
  },
  {
   "cell_type": "code",
   "execution_count": null,
   "metadata": {
    "collapsed": true
   },
   "outputs": [],
   "source": [
    "# # Smooth the images using a bilateral filter - this is compute intensive, so we do it after pruning\n",
    "# blur_data = [(img_smooth(i[0]), i[1]) for i in eq_data]"
   ]
  },
  {
   "cell_type": "code",
   "execution_count": 36,
   "metadata": {
    "collapsed": true
   },
   "outputs": [],
   "source": [
    "# Create list of pre-processed images\n",
    "pp_images = [i[0] for i in blur_data]"
   ]
  },
  {
   "cell_type": "code",
   "execution_count": 37,
   "metadata": {
    "collapsed": true
   },
   "outputs": [],
   "source": [
    "# Create list of pre-processed angles\n",
    "pp_angles = [i[1] for i in blur_data]"
   ]
  },
  {
   "cell_type": "code",
   "execution_count": 38,
   "metadata": {},
   "outputs": [
    {
     "data": {
      "text/plain": [
       "16884"
      ]
     },
     "execution_count": 38,
     "metadata": {},
     "output_type": "execute_result"
    }
   ],
   "source": [
    "len(pp_images)"
   ]
  },
  {
   "cell_type": "code",
   "execution_count": 39,
   "metadata": {
    "scrolled": true
   },
   "outputs": [
    {
     "data": {
      "text/plain": [
       "16884"
      ]
     },
     "execution_count": 39,
     "metadata": {},
     "output_type": "execute_result"
    }
   ],
   "source": [
    "len(pp_angles)"
   ]
  },
  {
   "cell_type": "markdown",
   "metadata": {},
   "source": [
    "---"
   ]
  },
  {
   "cell_type": "markdown",
   "metadata": {},
   "source": [
    "### Pipeline status check &mdash; Where are we at?\n",
    "We've done a lot already. Let's take a minute to see where we're at. There are many steps in the pipeline, so it's easy to get lost. \n",
    "\n",
    "<br>\n",
    "**Completed Steps** &mdash; Here's what we've done so far:\n",
    "\n",
    "**1** - Load and examine the data <br>\n",
    "**2** - Pre-process the data to make it easier for the model to extract the most important features <br>\n",
    "<br>\n",
    "<br>\n",
    "**Next Steps** &mdash; In the subsequent parts of the pipeline, we will:\n",
    "\n",
    "**3** - Split the data into training and validation sets <br>\n",
    "**4** - Feed the training sets into a generator to undergoe further augmentation (e.g. random brightness and affine transformations). This step is not applied to the validation data. <br>\n",
    "**5** - Feed the augmented training data into the model where it is normalized, cropped, and resized <br>\n",
    "**6** - Train the model on the augmented data set <br>\n",
    "**7** - Test the model on the validation set"
   ]
  },
  {
   "cell_type": "markdown",
   "metadata": {},
   "source": [
    "---"
   ]
  },
  {
   "cell_type": "markdown",
   "metadata": {},
   "source": [
    "## Step 3: Training and Validation sets\n"
   ]
  },
  {
   "cell_type": "code",
   "execution_count": 40,
   "metadata": {},
   "outputs": [
    {
     "name": "stdout",
     "output_type": "stream",
     "text": [
      "Number of training examples:  13507\n",
      "Number of validation examples:  3377\n",
      "-------\n",
      "Verify Totals: 16884 = 16884\n"
     ]
    }
   ],
   "source": [
    "## Create training and validation sets\n",
    "\n",
    "X_train = list(pp_images)     # list of pre-processed image arrays\n",
    "y_train = list(pp_angles)     # list of pre-processed angles\n",
    "\n",
    "# Split training and testing data\n",
    "X_train, X_valid, y_train, y_valid = \\\n",
    "                train_test_split(X_train, y_train, test_size=0.2, random_state=0)\n",
    "\n",
    "# Number of training examples\n",
    "n_train = len(X_train)\n",
    "\n",
    "# Number of validation examples\n",
    "n_valid = len(X_valid)\n",
    "\n",
    "# Verify that all counts match\n",
    "print('Number of training examples: ', n_train)\n",
    "print('Number of validation examples: ', n_valid)\n",
    "print('-------\\nVerify Totals: {} = {}'.format(len(pp_images), (n_train+n_valid)))"
   ]
  },
  {
   "cell_type": "code",
   "execution_count": null,
   "metadata": {
    "collapsed": true
   },
   "outputs": [],
   "source": [
    "# ## Create training and validation sets\n",
    "\n",
    "# X_train_self = [(i[0], i[2]) for i in self_3cam]   # produces list of tuples [(image filename, source)]\n",
    "# y_train_self = [i[1] for i in self_3cam]           # produces list of angles\n",
    "\n",
    "# # Split training and testing data\n",
    "# X_train_self, X_valid_self, y_train_self, y_valid_self = \\\n",
    "#                 train_test_split(X_train_self, y_train_self, test_size=0.2, random_state=0)\n",
    "\n",
    "# # Split out source data\n",
    "# src_train_self = [i[1] for i in X_train_self]\n",
    "# X_train_self = [i[0] for i in X_train_self]\n",
    "\n",
    "# src_valid_self = [i[1] for i in X_valid_self]\n",
    "# X_valid_self = [i[0] for i in X_valid_self]\n",
    "\n",
    "\n",
    "# # Number of training examples\n",
    "# n_train_self = len(X_train_self)\n",
    "\n",
    "# # Number of validation examples\n",
    "# n_valid_self = len(X_valid_self)\n",
    "\n",
    "# # Number of corresponding sources\n",
    "# n_src_train_self = len(src_train_self)\n",
    "# n_src_valid_self = len(src_valid_self)\n",
    "\n",
    "# # Verify that all counts match\n",
    "# print(\"Number of training examples: \", n_train_self)\n",
    "# print(\"Number of validation examples: \", n_valid_self)\n",
    "# print(\"Source counts: {} = {}, and {} = {} \".format(n_src_train_self, n_train_self, n_src_valid_self, n_valid_self))\n",
    "# print(\"----------\\nVerify Totals: {} = {} \".format((n_train_self+n_valid_self), len(self_3cam)))"
   ]
  },
  {
   "cell_type": "markdown",
   "metadata": {},
   "source": [
    "---"
   ]
  },
  {
   "cell_type": "markdown",
   "metadata": {},
   "source": [
    "## Step 4: Data Generator "
   ]
  },
  {
   "cell_type": "markdown",
   "metadata": {},
   "source": [
    "### 2.6 | Change Brightness"
   ]
  },
  {
   "cell_type": "markdown",
   "metadata": {},
   "source": [
    "Generates batches of tensor image data that is augmented based on a chosen set of tranformation parameters (e.g. rotation, shift, shear, zoom)."
   ]
  },
  {
   "cell_type": "code",
   "execution_count": null,
   "metadata": {
    "collapsed": true
   },
   "outputs": [],
   "source": [
    "# datagen_3 = ImageDataGenerator(featurewise_center=False,\n",
    "#     samplewise_center=False,\n",
    "#     featurewise_std_normalization=False,\n",
    "#     samplewise_std_normalization=False,\n",
    "#     zca_whitening=True,\n",
    "#     zca_epsilon=1e-6,\n",
    "#     rotation_range=2.,\n",
    "#     width_shift_range=0.1,\n",
    "#     height_shift_range=0.1,\n",
    "#     shear_range=0.01,\n",
    "#     zoom_range=0.,\n",
    "#     channel_shift_range=0.1,\n",
    "#     fill_mode='nearest',\n",
    "#     cval=0.,\n",
    "#     horizontal_flip=False,\n",
    "#     vertical_flip=False,\n",
    "#     rescale=None,\n",
    "#     preprocessing_function=None)"
   ]
  },
  {
   "cell_type": "code",
   "execution_count": 41,
   "metadata": {
    "collapsed": true
   },
   "outputs": [],
   "source": [
    "# Randomly shift brightness\n",
    "\n",
    "def brightness(image):\n",
    "    # Convert to HSV from RGB \n",
    "    hsv = cv2.cvtColor(image, cv2.COLOR_RGB2HSV)\n",
    "    \n",
    "    # Generate random brightness\n",
    "    rand = random.uniform(0.6, 1)\n",
    "    hsv[:,:,2] = rand*hsv[:,:,2]\n",
    "    \n",
    "    # Convert back to RGB \n",
    "    new_img = cv2.cvtColor(hsv, cv2.COLOR_HSV2RGB)\n",
    "    \n",
    "    return new_img "
   ]
  },
  {
   "cell_type": "code",
   "execution_count": 42,
   "metadata": {
    "collapsed": true
   },
   "outputs": [],
   "source": [
    "# Randomly shift horizon\n",
    "\n",
    "def horizon(image):\n",
    "    h, w, _ = image.shape\n",
    "    horizon = 2*h/5\n",
    "    v_shift = np.random.randint(-h/8,h/8)\n",
    "    pts1 = np.float32([[0,horizon],[w,horizon],[0,h],[w,h]])\n",
    "    pts2 = np.float32([[0,horizon+v_shift],[w,horizon+v_shift],[0,h],[w,h]])\n",
    "    M = cv2.getPerspectiveTransform(pts1,pts2)\n",
    "    new_img = cv2.warpPerspective(image,M,(w,h), borderMode=cv2.BORDER_REPLICATE)\n",
    "    \n",
    "    return new_img"
   ]
  },
  {
   "cell_type": "code",
   "execution_count": 43,
   "metadata": {
    "collapsed": true
   },
   "outputs": [],
   "source": [
    "# Combine the brightness and horizon functions so they can be executed within the Keras ImageDataGenerator\n",
    "\n",
    "def bright_horizon(image):\n",
    "    bright_img = brightness(image)\n",
    "    new_img = horizon(bright_img)\n",
    "    \n",
    "    return new_img"
   ]
  },
  {
   "cell_type": "code",
   "execution_count": 44,
   "metadata": {
    "collapsed": true
   },
   "outputs": [],
   "source": [
    "# Image transformation function\n",
    "\n",
    "image = np.empty((160, 320, 3), dtype='uint8')\n",
    "\n",
    "keras_datagen = ImageDataGenerator(\n",
    "#     zca_whitening=True,\n",
    "    rotation_range=1,\n",
    "    width_shift_range=0.02,\n",
    "    height_shift_range=0.02,\n",
    "#     shear_range=0.05,\n",
    "    zoom_range=0.02,\n",
    "#     channel_shift_range=10.0,\n",
    "    fill_mode='nearest',\n",
    "    preprocessing_function=bright_horizon\n",
    ")\n"
   ]
  },
  {
   "cell_type": "code",
   "execution_count": 45,
   "metadata": {},
   "outputs": [
    {
     "ename": "NameError",
     "evalue": "name 'udacity_3cam' is not defined",
     "output_type": "error",
     "traceback": [
      "\u001b[0;31m---------------------------------------------------------------------------\u001b[0m",
      "\u001b[0;31mNameError\u001b[0m                                 Traceback (most recent call last)",
      "\u001b[0;32m<ipython-input-45-1b6188648c96>\u001b[0m in \u001b[0;36m<module>\u001b[0;34m()\u001b[0m\n\u001b[1;32m      1\u001b[0m \u001b[0;31m## Create AUGMENTED training sets **WORKING VERSION**\u001b[0m\u001b[0;34m\u001b[0m\u001b[0;34m\u001b[0m\u001b[0m\n\u001b[1;32m      2\u001b[0m \u001b[0;34m\u001b[0m\u001b[0m\n\u001b[0;32m----> 3\u001b[0;31m \u001b[0msample\u001b[0m \u001b[0;34m=\u001b[0m \u001b[0mrandom\u001b[0m\u001b[0;34m.\u001b[0m\u001b[0msample\u001b[0m\u001b[0;34m(\u001b[0m\u001b[0mrange\u001b[0m\u001b[0;34m(\u001b[0m\u001b[0;36m1\u001b[0m\u001b[0;34m,\u001b[0m \u001b[0mlen\u001b[0m\u001b[0;34m(\u001b[0m\u001b[0mudacity_3cam\u001b[0m\u001b[0;34m)\u001b[0m\u001b[0;34m)\u001b[0m\u001b[0;34m,\u001b[0m \u001b[0;36m16\u001b[0m\u001b[0;34m)\u001b[0m\u001b[0;34m\u001b[0m\u001b[0m\n\u001b[0m\u001b[1;32m      4\u001b[0m \u001b[0;34m\u001b[0m\u001b[0m\n\u001b[1;32m      5\u001b[0m \u001b[0mX_batch\u001b[0m \u001b[0;34m=\u001b[0m \u001b[0;34m[\u001b[0m\u001b[0;34m(\u001b[0m\u001b[0mudacity_3cam\u001b[0m\u001b[0;34m[\u001b[0m\u001b[0mi\u001b[0m\u001b[0;34m]\u001b[0m\u001b[0;34m[\u001b[0m\u001b[0;36m0\u001b[0m\u001b[0;34m]\u001b[0m\u001b[0;34m,\u001b[0m \u001b[0mudacity_3cam\u001b[0m\u001b[0;34m[\u001b[0m\u001b[0mi\u001b[0m\u001b[0;34m]\u001b[0m\u001b[0;34m[\u001b[0m\u001b[0;36m2\u001b[0m\u001b[0;34m]\u001b[0m\u001b[0;34m)\u001b[0m \u001b[0;32mfor\u001b[0m \u001b[0mi\u001b[0m \u001b[0;32min\u001b[0m \u001b[0msample\u001b[0m\u001b[0;34m]\u001b[0m\u001b[0;34m\u001b[0m\u001b[0m\n",
      "\u001b[0;31mNameError\u001b[0m: name 'udacity_3cam' is not defined"
     ]
    }
   ],
   "source": [
    "## Create AUGMENTED training sets **WORKING VERSION**\n",
    "\n",
    "sample = random.sample(range(1, len(udacity_3cam)), 16)\n",
    "\n",
    "X_batch = [(udacity_3cam[i][0], udacity_3cam[i][2]) for i in sample]\n",
    "y_batch = [udacity_3cam[i][1] for i in sample]\n",
    "\n",
    "X_images = np.empty((0, 160, 320, 3), dtype='uint8')\n",
    "y_angles = np.empty(0, dtype='float32')\n",
    "\n",
    "source = default_source\n",
    "\n",
    "for i in range(len(y_batch)):\n",
    "    # retrieve the image from local directory\n",
    "    source = str(X_batch[i][1])\n",
    "    filename = str(X_batch[i][0])\n",
    "    img_path = get_img_dir(source) + filename\n",
    "    img = [mpimg.imread(img_path.strip())]\n",
    "    angle = [y_batch[i]]\n",
    "    X_images = np.append(X_images, img, axis=0)\n",
    "    y_angles = np.append(y_angles, angle, axis=0) \n",
    "    \n",
    "X_aug = np.empty((0, 160, 320, 3))\n",
    "y_aug = np.empty(0, dtype='float32')\n",
    "\n",
    "print('Augmenting Image Data...')\n",
    "\n",
    "# seed = random.randint(1, len(y_batch))\n",
    "# datagen.fit(X_images)\n",
    "\n",
    "for X,y in keras_datagen.flow(X_images, y_angles, batch_size=len(y_batch)):       \n",
    "    X_aug = np.append(X_aug, X, axis=0)\n",
    "    y_aug = np.append(y_aug, y, axis=0)\n",
    "    \n",
    "    if len(y_aug) == len(y_batch):\n",
    "        break\n",
    "\n",
    "X_aug = X_aug.astype(np.uint8)\n",
    "\n",
    "print('Augmentation Complete.')\n",
    "\n"
   ]
  },
  {
   "cell_type": "code",
   "execution_count": 46,
   "metadata": {
    "collapsed": true
   },
   "outputs": [],
   "source": [
    "## Transformation function ** V 2 **\n",
    " \n",
    "def transform(X_batch, y_batch):\n",
    "    '''Applies a random set of transformations which are defined by the \n",
    "    keras_datagen() function and uses the Keras ImageDataGenerator.\n",
    "    \n",
    "    Arguments:\n",
    "    X_batch: a numpy array of images\n",
    "    y_batch: a numpy array of steering angles\n",
    "        \n",
    "    Returns:\n",
    "    X_aug: a numpy array of transformed image data\n",
    "    y_aug: a numpy array of steering angles\n",
    "\n",
    "    '''\n",
    "    X_aug = np.empty((0, 160, 320, 3))\n",
    "    y_aug = np.empty(0, dtype='float32')\n",
    "    \n",
    "#     keras_datagen.fit(X_batch)\n",
    "    \n",
    "    n_aug = 1     # number of augmented images to create for every input image\n",
    "    \n",
    "    for X,y in keras_datagen.flow(X_batch, y_batch, batch_size=len(y_batch)):       \n",
    "        X_aug = np.append(X_aug, X, axis=0)\n",
    "        y_aug = np.append(y_aug, y, axis=0)\n",
    "        \n",
    "        if X_aug.shape[0] == n_aug*X_batch.shape[0]:\n",
    "            break\n",
    "    \n",
    "    X_aug = X_aug.astype(np.uint8)\n",
    "    \n",
    "    return (X_aug, y_aug)"
   ]
  },
  {
   "cell_type": "markdown",
   "metadata": {},
   "source": [
    "### 2.7 | Batch Generator"
   ]
  },
  {
   "cell_type": "code",
   "execution_count": 47,
   "metadata": {
    "collapsed": true
   },
   "outputs": [],
   "source": [
    "def generator(images, angles, source, val=False):\n",
    "    '''Generates batches of images to feed into the model. \n",
    "    \n",
    "    For each input image, four different versions are generated:\n",
    "    img_1 : original version\n",
    "    img_2 : flipped version of 1\n",
    "    img_3 : version of 1 with other random transformations (for training only)\n",
    "    img_4 : version of 2 with other random transformations (for training only)\n",
    "    \n",
    "    Arguments:\n",
    "    images: a list of image filenames\n",
    "    angles: a list of angles\n",
    "    source: the original data source, 'udacity' or 'self'\n",
    "    val: whether the data is being generated for validation (False by default)\n",
    "    \n",
    "    Yields: \n",
    "    X_batch: a numpy array of image data\n",
    "    y_batch: a numpy array of steering angles\n",
    "    \n",
    "    '''\n",
    "    images, angles = shuffle(images, angles, random_state=0)\n",
    "    \n",
    "    X_batch = np.empty((0, 160, 320, 3), dtype='uint8')\n",
    "    y_batch = np.empty(0, dtype='float32')\n",
    "    \n",
    "    while True:\n",
    "        for i in range(len(angles)):\n",
    "#             # retrieve the original image from local directory\n",
    "#             img_path = get_img_dir(source) + str(images[i])\n",
    "#             img_path = get_img_dir(source) + images[i]\n",
    "#             img_1 = [mpimg.imread(img_path.strip())]\n",
    "\n",
    "            img_1 = [images[i]]\n",
    "            ang_1 = [angles[i]]\n",
    "            X_batch = np.append(X_batch, img_1, axis=0)\n",
    "            y_batch = np.append(y_batch, ang_1, axis=0)\n",
    "\n",
    "#             # generate flipped version\n",
    "#             img_2 = [cv2.flip(img_1[0], 1)]\n",
    "#             ang_2 = [-angles[i]]\n",
    "#             X_batch = np.append(X_batch, img_2, axis=0)\n",
    "#             y_batch = np.append(y_batch, ang_2, axis=0)\n",
    "            \n",
    "            # augmentation process; for training images only\n",
    "            if not val:\n",
    "                # apply other transformations\n",
    "                imgs_2_3, angs_2_3 = transform(X_batch[-1:], y_batch[-1:])\n",
    "\n",
    "                X_batch = np.append(X_batch, imgs_2_3, axis=0)\n",
    "                y_batch = np.append(y_batch, angs_2_3, axis=0)\n",
    "                \n",
    "            if X_batch.shape[0] >= batch_size:\n",
    "                X_batch, y_batch = shuffle(X_batch[0:batch_size], y_batch[0:batch_size])\n",
    "                yield (X_batch, y_batch)\n",
    "                X_batch = np.empty((0, 160, 320, 3), dtype='uint8')\n",
    "                y_batch = np.empty(0, dtype='float32')"
   ]
  },
  {
   "cell_type": "code",
   "execution_count": null,
   "metadata": {
    "collapsed": true
   },
   "outputs": [],
   "source": [
    "## Display sample of the ORIGINAL training images\n",
    "\n",
    "fig = plt.figure(figsize=(20,16))\n",
    "\n",
    "orig_images = X_images\n",
    "sample = random.sample(range(len(X_aug)), 16)\n",
    "\n",
    "for i in range(16):\n",
    "    img = orig_images[sample[i]]\n",
    "    ax = fig.add_subplot(5,4,i+1)\n",
    "    ax.imshow(img.squeeze(), cmap=\"gray\", interpolation='nearest')\n",
    "    plt.axis('off')\n",
    "plt.show()"
   ]
  },
  {
   "cell_type": "code",
   "execution_count": null,
   "metadata": {
    "collapsed": true
   },
   "outputs": [],
   "source": [
    "## Display sample of training images with POSITIONAL SHIFTS (width, height rotation, horizon)\n",
    "\n",
    "fig = plt.figure(figsize=(20,16)) \n",
    "\n",
    "sample = random.sample(range(len(X_aug)), 16)\n",
    "\n",
    "for i in range(16):\n",
    "    img = X_aug[i]\n",
    "    ax = fig.add_subplot(5,4,i+1)\n",
    "    ax.imshow(img.squeeze(), cmap=\"gray\", interpolation='nearest')\n",
    "    plt.axis('off')\n",
    "plt.show()"
   ]
  },
  {
   "cell_type": "code",
   "execution_count": null,
   "metadata": {
    "collapsed": true
   },
   "outputs": [],
   "source": [
    "## Display sample of training images with BRIGHTNESS SHIFT \n",
    "\n",
    "fig = plt.figure(figsize=(20,16)) \n",
    "\n",
    "sample = random.sample(range(len(X_aug)), 16)\n",
    "\n",
    "for i in range(16):\n",
    "    img = X_aug[i]\n",
    "    ax = fig.add_subplot(5,4,i+1)\n",
    "    ax.imshow(img.squeeze(), cmap=\"gray\", interpolation='nearest')\n",
    "    plt.axis('off')\n",
    "plt.show()"
   ]
  },
  {
   "cell_type": "markdown",
   "metadata": {},
   "source": [
    "---\n",
    "## Step 3: Model Architecture\n",
    "---"
   ]
  },
  {
   "cell_type": "markdown",
   "metadata": {},
   "source": [
    "### Model"
   ]
  },
  {
   "cell_type": "code",
   "execution_count": 48,
   "metadata": {
    "collapsed": true
   },
   "outputs": [],
   "source": [
    "## Global variables and parameters\n",
    "\n",
    "lr = 1e-4        # learning rate\n",
    "reg = l2(1e-3)   # L2 reg\n",
    "drop = 0.5       # default dropout rate\n",
    "\n",
    "d_str = (2, 2)     # default strides\n",
    "d_act = 'elu'      # default activation function\n",
    "d_pad = 'same'     # default padding\n"
   ]
  },
  {
   "cell_type": "code",
   "execution_count": null,
   "metadata": {
    "collapsed": true
   },
   "outputs": [],
   "source": [
    "## Model v7 - based on Comma.ai model\n",
    "# https://github.com/commaai/research/blob/master/train_steering_model.py#L24\n",
    "\n",
    "model = Sequential()\n",
    "\n",
    "model.add(Lambda(lambda x: x/255 - 0.5, input_shape=orig_shape))\n",
    "model.add(Cropping2D(cropping=((60, 20), (20, 20))))\n",
    "\n",
    "model.add(Conv2D(16, 8, strides=(4, 4), padding=d_pad, activation=d_act)) # ,  kernel_regularizer=reg)))\n",
    "# model.add(ELU())\n",
    "model.add(Conv2D(32, 5, strides=d_str, padding=d_pad, activation=d_act))\n",
    "# model.add(ELU())\n",
    "model.add(Conv2D(64, 5, strides=d_str, padding=d_pad, activation=d_act))\n",
    "\n",
    "model.add(Flatten())\n",
    "model.add(Dropout(.2))\n",
    "model.add(Activation(d_act))\n",
    "model.add(Dense(512))\n",
    "model.add(Dropout(.5))\n",
    "model.add(Activation(d_act))\n",
    "model.add(Dense(1))\n",
    "\n",
    "# Compile and preview the model\n",
    "model.compile(optimizer=Adam(lr=lr), loss='mean_squared_error', metrics=['accuracy'])\n",
    "\n",
    "model.summary()"
   ]
  },
  {
   "cell_type": "code",
   "execution_count": null,
   "metadata": {
    "collapsed": true
   },
   "outputs": [],
   "source": [
    "# ## Comma.ai model\n",
    "# # https://github.com/commaai/research/blob/master/train_steering_model.py#L24\n",
    "\n",
    "# def get_model(time_len=1):\n",
    "#     ch, row, col = 3, 160, 320  # camera format\n",
    "\n",
    "#     model = Sequential()\n",
    "#     model.add(Lambda(lambda x: x/127.5 - 1.,\n",
    "#             input_shape=(ch, row, col),\n",
    "#             output_shape=(ch, row, col)))\n",
    "#     model.add(Convolution2D(16, 8, 8, subsample=(4, 4), border_mode=\"same\"))\n",
    "#     model.add(ELU())\n",
    "#     model.add(Convolution2D(32, 5, 5, subsample=(2, 2), border_mode=\"same\"))\n",
    "#     model.add(ELU())\n",
    "#     model.add(Convolution2D(64, 5, 5, subsample=(2, 2), border_mode=\"same\"))\n",
    "#     model.add(Flatten())\n",
    "#     model.add(Dropout(.2))\n",
    "#     model.add(ELU())\n",
    "#     model.add(Dense(512))\n",
    "#     model.add(Dropout(.5))\n",
    "#     model.add(ELU())\n",
    "#     model.add(Dense(1))\n",
    "\n",
    "#     model.compile(optimizer=\"adam\", loss=\"mse\")\n",
    "\n",
    "#     return model"
   ]
  },
  {
   "cell_type": "code",
   "execution_count": null,
   "metadata": {
    "collapsed": true
   },
   "outputs": [],
   "source": []
  },
  {
   "cell_type": "code",
   "execution_count": null,
   "metadata": {
    "collapsed": true
   },
   "outputs": [],
   "source": [
    "## Create and reset the model  ** V6 - NVIDIA ** \n",
    "\n",
    "model = Sequential()\n",
    "\n",
    "model.add(Lambda(lambda x: x/255 - 0.5, input_shape=orig_shape))\n",
    "model.add(Cropping2D(cropping=((60, 20), (20, 20))))\n",
    "\n",
    "model.add(Conv2D(32, 5, strides=strides, padding=default_pad, activation=act,  kernel_regularizer=reg))\n",
    "model.add(Conv2D(48, 5, strides=strides, padding=default_pad, activation=act,  kernel_regularizer=reg))\n",
    "model.add(Conv2D(64, 5, strides=strides, padding=default_pad, activation=act,  kernel_regularizer=reg))\n",
    "# model.add(MaxPooling2D(pool_size=(2, 2), padding='valid'))\n",
    "\n",
    "model.add(Conv2D(80, 3, strides=strides, padding=default_pad, activation=act,  kernel_regularizer=reg))\n",
    "model.add(Conv2D(80, 3, strides=strides, padding=default_pad, activation=act,  kernel_regularizer=reg))\n",
    "# model.add(MaxPooling2D(pool_size=(2, 2), padding='valid'))\n",
    "\n",
    "model.add(Flatten())\n",
    "model.add(Dense(512, activation=act,  kernel_regularizer=reg))\n",
    "# model.add(Dropout(drop))\n",
    "model.add(Dense(128, activation=act,  kernel_regularizer=reg))\n",
    "# model.add(Dropout(drop))\n",
    "model.add(Dense(10, activation=act,  kernel_regularizer=reg))\n",
    "# model.add(Dropout(drop))\n",
    "model.add(Dense(1))\n",
    "\n",
    "# Compile and preview the model\n",
    "model.compile(optimizer=Adam(lr=lr), loss='mean_squared_error', metrics=['accuracy'])\n",
    "\n",
    "model.summary()"
   ]
  },
  {
   "cell_type": "code",
   "execution_count": null,
   "metadata": {
    "collapsed": true
   },
   "outputs": [],
   "source": []
  },
  {
   "cell_type": "code",
   "execution_count": 49,
   "metadata": {},
   "outputs": [
    {
     "name": "stdout",
     "output_type": "stream",
     "text": [
      "_________________________________________________________________\n",
      "Layer (type)                 Output Shape              Param #   \n",
      "=================================================================\n",
      "lambda_1 (Lambda)            (None, 160, 320, 3)       0         \n",
      "_________________________________________________________________\n",
      "cropping2d_1 (Cropping2D)    (None, 80, 280, 3)        0         \n",
      "_________________________________________________________________\n",
      "conv2d_1 (Conv2D)            (None, 40, 140, 24)       1824      \n",
      "_________________________________________________________________\n",
      "conv2d_2 (Conv2D)            (None, 20, 70, 36)        21636     \n",
      "_________________________________________________________________\n",
      "conv2d_3 (Conv2D)            (None, 10, 35, 48)        43248     \n",
      "_________________________________________________________________\n",
      "conv2d_4 (Conv2D)            (None, 5, 18, 64)         27712     \n",
      "_________________________________________________________________\n",
      "conv2d_5 (Conv2D)            (None, 3, 9, 64)          36928     \n",
      "_________________________________________________________________\n",
      "flatten_1 (Flatten)          (None, 1728)              0         \n",
      "_________________________________________________________________\n",
      "dense_1 (Dense)              (None, 150)               259350    \n",
      "_________________________________________________________________\n",
      "dense_2 (Dense)              (None, 50)                7550      \n",
      "_________________________________________________________________\n",
      "dense_3 (Dense)              (None, 10)                510       \n",
      "_________________________________________________________________\n",
      "dense_4 (Dense)              (None, 1)                 11        \n",
      "=================================================================\n",
      "Total params: 398,769\n",
      "Trainable params: 398,769\n",
      "Non-trainable params: 0\n",
      "_________________________________________________________________\n"
     ]
    }
   ],
   "source": [
    "## Create and reset the model  ** V1 - NVIDIA ** \n",
    "\n",
    "model = Sequential()\n",
    "\n",
    "model.add(Lambda(lambda x: x/255 - 0.5, input_shape=orig_shape))\n",
    "model.add(Cropping2D(cropping=((60, 20), (20, 20))))\n",
    "\n",
    "model.add(Conv2D(24, 5, strides=d_str, padding=d_pad, activation=d_act,  kernel_regularizer=reg))\n",
    "model.add(Conv2D(36, 5, strides=d_str, padding=d_pad, activation=d_act,  kernel_regularizer=reg))\n",
    "model.add(Conv2D(48, 5, strides=d_str, padding=d_pad, activation=d_act,  kernel_regularizer=reg))\n",
    "# model.add(MaxPooling2D(pool_size=(2, 2), padding='valid'))\n",
    "\n",
    "model.add(Conv2D(64, 3, strides=d_str, padding=d_pad, activation=d_act,  kernel_regularizer=reg))\n",
    "model.add(Conv2D(64, 3, strides=d_str, padding=d_pad, activation=d_act,  kernel_regularizer=reg))\n",
    "# model.add(MaxPooling2D(pool_size=(2, 2), padding='valid'))\n",
    "\n",
    "model.add(Flatten())\n",
    "model.add(Dense(150, activation=d_act,  kernel_regularizer=reg))\n",
    "# model.add(Dropout(drop))\n",
    "model.add(Dense(50, activation=d_act,  kernel_regularizer=reg))\n",
    "# model.add(Dropout(drop))\n",
    "model.add(Dense(10, activation=d_act,  kernel_regularizer=reg))\n",
    "# model.add(Dropout(drop))\n",
    "model.add(Dense(1))\n",
    "\n",
    "# Compile and preview the model\n",
    "model.compile(optimizer=Adam(lr=lr), loss='mean_squared_error', metrics=['accuracy'])\n",
    "\n",
    "model.summary()"
   ]
  },
  {
   "cell_type": "code",
   "execution_count": null,
   "metadata": {
    "collapsed": true
   },
   "outputs": [],
   "source": []
  },
  {
   "cell_type": "markdown",
   "metadata": {
    "collapsed": true
   },
   "source": [
    "## Training"
   ]
  },
  {
   "cell_type": "code",
   "execution_count": 51,
   "metadata": {},
   "outputs": [
    {
     "name": "stdout",
     "output_type": "stream",
     "text": [
      "Epoch 1/75\n",
      "211/211 [==============================] - 105s - loss: 0.6315 - acc: 0.0394 - val_loss: 0.5683 - val_acc: 0.0424\n",
      "Epoch 2/75\n",
      "211/211 [==============================] - 99s - loss: 0.5544 - acc: 0.0402 - val_loss: 0.4997 - val_acc: 0.0421\n",
      "Epoch 3/75\n",
      "211/211 [==============================] - 99s - loss: 0.4963 - acc: 0.0418 - val_loss: 0.4619 - val_acc: 0.0424\n",
      "Epoch 4/75\n",
      "211/211 [==============================] - 100s - loss: 0.4467 - acc: 0.0425 - val_loss: 0.4077 - val_acc: 0.0418\n",
      "Epoch 5/75\n",
      "211/211 [==============================] - 100s - loss: 0.4064 - acc: 0.0438 - val_loss: 0.3770 - val_acc: 0.0439\n",
      "Epoch 6/75\n",
      "211/211 [==============================] - 99s - loss: 0.3708 - acc: 0.0447 - val_loss: 0.3356 - val_acc: 0.0475\n",
      "Epoch 7/75\n",
      "211/211 [==============================] - 99s - loss: 0.3417 - acc: 0.0474 - val_loss: 0.3171 - val_acc: 0.0466\n",
      "Epoch 8/75\n",
      "211/211 [==============================] - 99s - loss: 0.3162 - acc: 0.0465 - val_loss: 0.2888 - val_acc: 0.0478\n",
      "Epoch 9/75\n",
      "211/211 [==============================] - 99s - loss: 0.2952 - acc: 0.0476 - val_loss: 0.2736 - val_acc: 0.0481\n",
      "Epoch 10/75\n",
      "211/211 [==============================] - 100s - loss: 0.2742 - acc: 0.0474 - val_loss: 0.2507 - val_acc: 0.0490\n",
      "Epoch 11/75\n",
      "211/211 [==============================] - 101s - loss: 0.2592 - acc: 0.0482 - val_loss: 0.2419 - val_acc: 0.0499\n",
      "Epoch 12/75\n",
      "211/211 [==============================] - 100s - loss: 0.2419 - acc: 0.0478 - val_loss: 0.2237 - val_acc: 0.0490\n",
      "Epoch 13/75\n",
      "211/211 [==============================] - 101s - loss: 0.2293 - acc: 0.0493 - val_loss: 0.2156 - val_acc: 0.0499\n",
      "Epoch 14/75\n",
      "211/211 [==============================] - 100s - loss: 0.2162 - acc: 0.0489 - val_loss: 0.1994 - val_acc: 0.0487\n",
      "Epoch 15/75\n",
      "211/211 [==============================] - 100s - loss: 0.2076 - acc: 0.0489 - val_loss: 0.1906 - val_acc: 0.0496\n",
      "Epoch 16/75\n",
      "211/211 [==============================] - 100s - loss: 0.1953 - acc: 0.0497 - val_loss: 0.1808 - val_acc: 0.0490\n",
      "Epoch 17/75\n",
      "211/211 [==============================] - 100s - loss: 0.1891 - acc: 0.0495 - val_loss: 0.1741 - val_acc: 0.0505\n",
      "Epoch 18/75\n",
      "211/211 [==============================] - 100s - loss: 0.1786 - acc: 0.0501 - val_loss: 0.1661 - val_acc: 0.0502\n",
      "Epoch 19/75\n",
      "211/211 [==============================] - 100s - loss: 0.1738 - acc: 0.0497 - val_loss: 0.1614 - val_acc: 0.0505\n",
      "Epoch 20/75\n",
      "211/211 [==============================] - 100s - loss: 0.1650 - acc: 0.0506 - val_loss: 0.1549 - val_acc: 0.0490\n",
      "Epoch 21/75\n",
      "211/211 [==============================] - 100s - loss: 0.1616 - acc: 0.0499 - val_loss: 0.1492 - val_acc: 0.0502\n",
      "Epoch 22/75\n",
      "211/211 [==============================] - 105s - loss: 0.1541 - acc: 0.0505 - val_loss: 0.1442 - val_acc: 0.0502\n",
      "Epoch 23/75\n",
      "211/211 [==============================] - 105s - loss: 0.1518 - acc: 0.0504 - val_loss: 0.1415 - val_acc: 0.0505\n",
      "Epoch 24/75\n",
      "211/211 [==============================] - 100s - loss: 0.1455 - acc: 0.0512 - val_loss: 0.1339 - val_acc: 0.0502\n",
      "Epoch 25/75\n",
      "211/211 [==============================] - 100s - loss: 0.1442 - acc: 0.0503 - val_loss: 0.1312 - val_acc: 0.0517\n",
      "Epoch 26/75\n",
      "211/211 [==============================] - 100s - loss: 0.1374 - acc: 0.0517 - val_loss: 0.1277 - val_acc: 0.0508\n",
      "Epoch 27/75\n",
      "211/211 [==============================] - 104s - loss: 0.1363 - acc: 0.0507 - val_loss: 0.1255 - val_acc: 0.0517\n",
      "Epoch 28/75\n",
      "211/211 [==============================] - 104s - loss: 0.1318 - acc: 0.0517 - val_loss: 0.1231 - val_acc: 0.0505\n",
      "Epoch 29/75\n",
      "211/211 [==============================] - 107s - loss: 0.1320 - acc: 0.0509 - val_loss: 0.1205 - val_acc: 0.0520\n",
      "Epoch 30/75\n",
      "211/211 [==============================] - 105s - loss: 0.1262 - acc: 0.0517 - val_loss: 0.1149 - val_acc: 0.0508\n",
      "Epoch 31/75\n",
      "211/211 [==============================] - 103s - loss: 0.1272 - acc: 0.0512 - val_loss: 0.1150 - val_acc: 0.0520\n",
      "Epoch 32/75\n",
      "211/211 [==============================] - 104s - loss: 0.1216 - acc: 0.0524 - val_loss: 0.1114 - val_acc: 0.0520\n",
      "Epoch 33/75\n",
      "211/211 [==============================] - 106s - loss: 0.1236 - acc: 0.0512 - val_loss: 0.1128 - val_acc: 0.0526\n",
      "Epoch 34/75\n",
      "211/211 [==============================] - 104s - loss: 0.1191 - acc: 0.0524 - val_loss: 0.1105 - val_acc: 0.0514\n",
      "Epoch 35/75\n",
      "211/211 [==============================] - 103s - loss: 0.1191 - acc: 0.0511 - val_loss: 0.1086 - val_acc: 0.0523\n",
      "Epoch 36/75\n",
      "211/211 [==============================] - 103s - loss: 0.1154 - acc: 0.0518 - val_loss: 0.1049 - val_acc: 0.0514\n",
      "Epoch 37/75\n",
      "211/211 [==============================] - 103s - loss: 0.1153 - acc: 0.0517 - val_loss: 0.1069 - val_acc: 0.0523\n",
      "Epoch 38/75\n",
      "211/211 [==============================] - 106s - loss: 0.1126 - acc: 0.0524 - val_loss: 0.1023 - val_acc: 0.0523\n",
      "Epoch 39/75\n",
      "211/211 [==============================] - 102s - loss: 0.1134 - acc: 0.0514 - val_loss: 0.1029 - val_acc: 0.0529\n",
      "Epoch 40/75\n",
      "211/211 [==============================] - 103s - loss: 0.1099 - acc: 0.0527 - val_loss: 0.0995 - val_acc: 0.0529\n",
      "Epoch 41/75\n",
      "211/211 [==============================] - 106s - loss: 0.1109 - acc: 0.0521 - val_loss: 0.1001 - val_acc: 0.0532\n",
      "Epoch 42/75\n",
      "211/211 [==============================] - 102s - loss: 0.1079 - acc: 0.0526 - val_loss: 0.0971 - val_acc: 0.0529\n",
      "Epoch 43/75\n",
      "211/211 [==============================] - 100s - loss: 0.1085 - acc: 0.0515 - val_loss: 0.0993 - val_acc: 0.0526\n",
      "Epoch 44/75\n",
      "211/211 [==============================] - 105s - loss: 0.1050 - acc: 0.0524 - val_loss: 0.0963 - val_acc: 0.0526\n",
      "Epoch 45/75\n",
      "211/211 [==============================] - 107s - loss: 0.1078 - acc: 0.0517 - val_loss: 0.0968 - val_acc: 0.0520\n",
      "Epoch 46/75\n",
      "211/211 [==============================] - 108s - loss: 0.1039 - acc: 0.0524 - val_loss: 0.0941 - val_acc: 0.0526\n",
      "Epoch 47/75\n",
      "211/211 [==============================] - 108s - loss: 0.1049 - acc: 0.0521 - val_loss: 0.0949 - val_acc: 0.0529\n",
      "Epoch 48/75\n",
      " 63/211 [=======>......................] - ETA: 63s - loss: 0.1024 - acc: 0.0561"
     ]
    },
    {
     "ename": "KeyboardInterrupt",
     "evalue": "",
     "output_type": "error",
     "traceback": [
      "\u001b[0;31m---------------------------------------------------------------------------\u001b[0m",
      "\u001b[0;31mKeyboardInterrupt\u001b[0m                         Traceback (most recent call last)",
      "\u001b[0;32m<ipython-input-51-000b85d6a651>\u001b[0m in \u001b[0;36m<module>\u001b[0;34m()\u001b[0m\n\u001b[1;32m     18\u001b[0m \u001b[0mcheckpoint\u001b[0m \u001b[0;34m=\u001b[0m \u001b[0mModelCheckpoint\u001b[0m\u001b[0;34m(\u001b[0m\u001b[0;34m'models/checkpoints/model_{epoch:02d}.h5'\u001b[0m\u001b[0;34m)\u001b[0m\u001b[0;34m\u001b[0m\u001b[0m\n\u001b[1;32m     19\u001b[0m \u001b[0;34m\u001b[0m\u001b[0m\n\u001b[0;32m---> 20\u001b[0;31m \u001b[0mmodel\u001b[0m\u001b[0;34m.\u001b[0m\u001b[0mfit_generator\u001b[0m\u001b[0;34m(\u001b[0m\u001b[0mtrain_gen\u001b[0m\u001b[0;34m,\u001b[0m \u001b[0msteps_per_epoch\u001b[0m\u001b[0;34m=\u001b[0m\u001b[0mtrain_steps\u001b[0m\u001b[0;34m,\u001b[0m \u001b[0mepochs\u001b[0m\u001b[0;34m=\u001b[0m\u001b[0mepochs\u001b[0m\u001b[0;34m,\u001b[0m                     \u001b[0mvalidation_data\u001b[0m\u001b[0;34m=\u001b[0m\u001b[0mval_gen\u001b[0m\u001b[0;34m,\u001b[0m \u001b[0mvalidation_steps\u001b[0m\u001b[0;34m=\u001b[0m\u001b[0mval_steps\u001b[0m\u001b[0;34m,\u001b[0m \u001b[0mverbose\u001b[0m\u001b[0;34m=\u001b[0m\u001b[0;36m1\u001b[0m\u001b[0;34m,\u001b[0m \u001b[0mcallbacks\u001b[0m\u001b[0;34m=\u001b[0m\u001b[0;34m[\u001b[0m\u001b[0mcheckpoint\u001b[0m\u001b[0;34m]\u001b[0m\u001b[0;34m)\u001b[0m\u001b[0;34m\u001b[0m\u001b[0m\n\u001b[0m\u001b[1;32m     21\u001b[0m \u001b[0;34m\u001b[0m\u001b[0m\n\u001b[1;32m     22\u001b[0m \u001b[0mprint\u001b[0m\u001b[0;34m(\u001b[0m\u001b[0;34m'\\nDone Training'\u001b[0m\u001b[0;34m)\u001b[0m\u001b[0;34m\u001b[0m\u001b[0m\n",
      "\u001b[0;32m/home/carnd/anaconda3/envs/carnd-term1/lib/python3.5/site-packages/keras/legacy/interfaces.py\u001b[0m in \u001b[0;36mwrapper\u001b[0;34m(*args, **kwargs)\u001b[0m\n\u001b[1;32m     85\u001b[0m                 warnings.warn('Update your `' + object_name +\n\u001b[1;32m     86\u001b[0m                               '` call to the Keras 2 API: ' + signature, stacklevel=2)\n\u001b[0;32m---> 87\u001b[0;31m             \u001b[0;32mreturn\u001b[0m \u001b[0mfunc\u001b[0m\u001b[0;34m(\u001b[0m\u001b[0;34m*\u001b[0m\u001b[0margs\u001b[0m\u001b[0;34m,\u001b[0m \u001b[0;34m**\u001b[0m\u001b[0mkwargs\u001b[0m\u001b[0;34m)\u001b[0m\u001b[0;34m\u001b[0m\u001b[0m\n\u001b[0m\u001b[1;32m     88\u001b[0m         \u001b[0mwrapper\u001b[0m\u001b[0;34m.\u001b[0m\u001b[0m_original_function\u001b[0m \u001b[0;34m=\u001b[0m \u001b[0mfunc\u001b[0m\u001b[0;34m\u001b[0m\u001b[0m\n\u001b[1;32m     89\u001b[0m         \u001b[0;32mreturn\u001b[0m \u001b[0mwrapper\u001b[0m\u001b[0;34m\u001b[0m\u001b[0m\n",
      "\u001b[0;32m/home/carnd/anaconda3/envs/carnd-term1/lib/python3.5/site-packages/keras/models.py\u001b[0m in \u001b[0;36mfit_generator\u001b[0;34m(self, generator, steps_per_epoch, epochs, verbose, callbacks, validation_data, validation_steps, class_weight, max_queue_size, workers, use_multiprocessing, initial_epoch)\u001b[0m\n\u001b[1;32m   1115\u001b[0m                                         \u001b[0mworkers\u001b[0m\u001b[0;34m=\u001b[0m\u001b[0mworkers\u001b[0m\u001b[0;34m,\u001b[0m\u001b[0;34m\u001b[0m\u001b[0m\n\u001b[1;32m   1116\u001b[0m                                         \u001b[0muse_multiprocessing\u001b[0m\u001b[0;34m=\u001b[0m\u001b[0muse_multiprocessing\u001b[0m\u001b[0;34m,\u001b[0m\u001b[0;34m\u001b[0m\u001b[0m\n\u001b[0;32m-> 1117\u001b[0;31m                                         initial_epoch=initial_epoch)\n\u001b[0m\u001b[1;32m   1118\u001b[0m \u001b[0;34m\u001b[0m\u001b[0m\n\u001b[1;32m   1119\u001b[0m     \u001b[0;34m@\u001b[0m\u001b[0minterfaces\u001b[0m\u001b[0;34m.\u001b[0m\u001b[0mlegacy_generator_methods_support\u001b[0m\u001b[0;34m\u001b[0m\u001b[0m\n",
      "\u001b[0;32m/home/carnd/anaconda3/envs/carnd-term1/lib/python3.5/site-packages/keras/legacy/interfaces.py\u001b[0m in \u001b[0;36mwrapper\u001b[0;34m(*args, **kwargs)\u001b[0m\n\u001b[1;32m     85\u001b[0m                 warnings.warn('Update your `' + object_name +\n\u001b[1;32m     86\u001b[0m                               '` call to the Keras 2 API: ' + signature, stacklevel=2)\n\u001b[0;32m---> 87\u001b[0;31m             \u001b[0;32mreturn\u001b[0m \u001b[0mfunc\u001b[0m\u001b[0;34m(\u001b[0m\u001b[0;34m*\u001b[0m\u001b[0margs\u001b[0m\u001b[0;34m,\u001b[0m \u001b[0;34m**\u001b[0m\u001b[0mkwargs\u001b[0m\u001b[0;34m)\u001b[0m\u001b[0;34m\u001b[0m\u001b[0m\n\u001b[0m\u001b[1;32m     88\u001b[0m         \u001b[0mwrapper\u001b[0m\u001b[0;34m.\u001b[0m\u001b[0m_original_function\u001b[0m \u001b[0;34m=\u001b[0m \u001b[0mfunc\u001b[0m\u001b[0;34m\u001b[0m\u001b[0m\n\u001b[1;32m     89\u001b[0m         \u001b[0;32mreturn\u001b[0m \u001b[0mwrapper\u001b[0m\u001b[0;34m\u001b[0m\u001b[0m\n",
      "\u001b[0;32m/home/carnd/anaconda3/envs/carnd-term1/lib/python3.5/site-packages/keras/engine/training.py\u001b[0m in \u001b[0;36mfit_generator\u001b[0;34m(self, generator, steps_per_epoch, epochs, verbose, callbacks, validation_data, validation_steps, class_weight, max_queue_size, workers, use_multiprocessing, initial_epoch)\u001b[0m\n\u001b[1;32m   1807\u001b[0m                 \u001b[0mbatch_index\u001b[0m \u001b[0;34m=\u001b[0m \u001b[0;36m0\u001b[0m\u001b[0;34m\u001b[0m\u001b[0m\n\u001b[1;32m   1808\u001b[0m                 \u001b[0;32mwhile\u001b[0m \u001b[0msteps_done\u001b[0m \u001b[0;34m<\u001b[0m \u001b[0msteps_per_epoch\u001b[0m\u001b[0;34m:\u001b[0m\u001b[0;34m\u001b[0m\u001b[0m\n\u001b[0;32m-> 1809\u001b[0;31m                     \u001b[0mgenerator_output\u001b[0m \u001b[0;34m=\u001b[0m \u001b[0mnext\u001b[0m\u001b[0;34m(\u001b[0m\u001b[0moutput_generator\u001b[0m\u001b[0;34m)\u001b[0m\u001b[0;34m\u001b[0m\u001b[0m\n\u001b[0m\u001b[1;32m   1810\u001b[0m \u001b[0;34m\u001b[0m\u001b[0m\n\u001b[1;32m   1811\u001b[0m                     \u001b[0;32mif\u001b[0m \u001b[0;32mnot\u001b[0m \u001b[0mhasattr\u001b[0m\u001b[0;34m(\u001b[0m\u001b[0mgenerator_output\u001b[0m\u001b[0;34m,\u001b[0m \u001b[0;34m'__len__'\u001b[0m\u001b[0;34m)\u001b[0m\u001b[0;34m:\u001b[0m\u001b[0;34m\u001b[0m\u001b[0m\n",
      "\u001b[0;32m/home/carnd/anaconda3/envs/carnd-term1/lib/python3.5/site-packages/keras/utils/data_utils.py\u001b[0m in \u001b[0;36mget\u001b[0;34m(self)\u001b[0m\n\u001b[1;32m    634\u001b[0m                     \u001b[0;32myield\u001b[0m \u001b[0minputs\u001b[0m\u001b[0;34m\u001b[0m\u001b[0m\n\u001b[1;32m    635\u001b[0m             \u001b[0;32melse\u001b[0m\u001b[0;34m:\u001b[0m\u001b[0;34m\u001b[0m\u001b[0m\n\u001b[0;32m--> 636\u001b[0;31m                 \u001b[0mtime\u001b[0m\u001b[0;34m.\u001b[0m\u001b[0msleep\u001b[0m\u001b[0;34m(\u001b[0m\u001b[0mself\u001b[0m\u001b[0;34m.\u001b[0m\u001b[0mwait_time\u001b[0m\u001b[0;34m)\u001b[0m\u001b[0;34m\u001b[0m\u001b[0m\n\u001b[0m",
      "\u001b[0;31mKeyboardInterrupt\u001b[0m: "
     ]
    }
   ],
   "source": [
    "## Train and save the model\n",
    "\n",
    "MODEL_DIR = \"models/\"\n",
    "\n",
    "source = 'track1'\n",
    "\n",
    "epochs = 75\n",
    "batch_size = 64\n",
    "\n",
    "img_ratio = 1   # = generator output per input image\n",
    "\n",
    "train_steps = (img_ratio * len(X_train)) // batch_size\n",
    "val_steps = len(X_valid) // batch_size\n",
    "\n",
    "train_gen = generator(X_train, y_train, source=source, val=False)\n",
    "val_gen = generator(X_valid, y_valid, source=source, val=True)\n",
    "\n",
    "checkpoint = ModelCheckpoint('models/checkpoints/model_{epoch:02d}.h5')\n",
    "    \n",
    "model.fit_generator(train_gen, steps_per_epoch=train_steps, epochs=epochs, \\\n",
    "                    validation_data=val_gen, validation_steps=val_steps, verbose=1, callbacks=[checkpoint])\n",
    "\n",
    "print('\\nDone Training')\n",
    "\n",
    "# Save model and weights\n",
    "model_json = model.to_json()\n",
    "with open(\"models/model.json\", \"w\") as json_file:\n",
    "    json_file.write(model_json)\n",
    "model.save(\"models/model.h5\")\n",
    "print(\"Model saved to disk\")"
   ]
  },
  {
   "cell_type": "code",
   "execution_count": null,
   "metadata": {
    "collapsed": true
   },
   "outputs": [],
   "source": []
  },
  {
   "cell_type": "code",
   "execution_count": null,
   "metadata": {
    "collapsed": true
   },
   "outputs": [],
   "source": [
    "model.fit_generator(train_gen, steps_per_epoch=train_steps, epochs=epochs, \\\n",
    "                    validation_data=val_gen, validation_steps=val_steps, verbose=1, callbacks=[checkpoint])\n"
   ]
  },
  {
   "cell_type": "code",
   "execution_count": null,
   "metadata": {
    "collapsed": true
   },
   "outputs": [],
   "source": [
    "model.fit_generator(train_gen, steps_per_epoch=train_steps, epochs=epochs, \\\n",
    "                    validation_data=val_gen, validation_steps=val_steps, verbose=1, callbacks=[checkpoint])\n",
    "\n",
    "print('\\nDone Training')\n",
    "\n",
    "# Save model and weights\n",
    "model_json = model.to_json()\n",
    "with open(\"models/model.json\", \"w\") as json_file:\n",
    "    json_file.write(model_json)\n",
    "model.save(\"models/model.h5\")\n",
    "print(\"Model saved to disk\")"
   ]
  },
  {
   "cell_type": "code",
   "execution_count": null,
   "metadata": {
    "collapsed": true
   },
   "outputs": [],
   "source": []
  },
  {
   "cell_type": "code",
   "execution_count": null,
   "metadata": {
    "collapsed": true
   },
   "outputs": [],
   "source": [
    "## Train and save the model\n",
    "\n",
    "MODEL_DIR = \"models/\"\n",
    "\n",
    "source = 'track1'\n",
    "\n",
    "epochs = 20\n",
    "batch_size = 32\n",
    "\n",
    "img_ratio = 4   # max is 4 based on generator output per input image\n",
    "\n",
    "train_steps = (img_ratio * len(X_train_self)) // batch_size\n",
    "val_steps = len(X_valid_self) // batch_size\n",
    "\n",
    "train_gen = generator(X_train_self, y_train_self, source=source, val=False)\n",
    "val_gen = generator(X_valid_self, y_valid_self, source=source, val=True)\n",
    "\n",
    "checkpoint = ModelCheckpoint('models/checkpoints/model_{epoch:02d}.h5')\n",
    "    \n",
    "model.fit_generator(train_gen, steps_per_epoch=train_steps, epochs=epochs, \\\n",
    "                    validation_data=val_gen, validation_steps=val_steps, verbose=1, callbacks=[checkpoint])\n",
    "\n",
    "print('\\nDone Training')\n",
    "\n",
    "# Save model and weights\n",
    "model_json = model.to_json()\n",
    "with open(\"models/model.json\", \"w\") as json_file:\n",
    "    json_file.write(model_json)\n",
    "model.save(\"models/model.h5\")\n",
    "print(\"Model saved to disk\")"
   ]
  },
  {
   "cell_type": "code",
   "execution_count": null,
   "metadata": {
    "collapsed": true
   },
   "outputs": [],
   "source": []
  },
  {
   "cell_type": "code",
   "execution_count": null,
   "metadata": {
    "collapsed": true
   },
   "outputs": [],
   "source": []
  },
  {
   "cell_type": "code",
   "execution_count": null,
   "metadata": {
    "collapsed": true
   },
   "outputs": [],
   "source": []
  },
  {
   "cell_type": "code",
   "execution_count": null,
   "metadata": {
    "collapsed": true
   },
   "outputs": [],
   "source": []
  }
 ],
 "metadata": {
  "anaconda-cloud": {},
  "kernelspec": {
   "display_name": "Python 3",
   "language": "python",
   "name": "python3"
  },
  "language_info": {
   "codemirror_mode": {
    "name": "ipython",
    "version": 3
   },
   "file_extension": ".py",
   "mimetype": "text/x-python",
   "name": "python",
   "nbconvert_exporter": "python",
   "pygments_lexer": "ipython3",
   "version": "3.5.2"
  },
  "widgets": {
   "state": {},
   "version": "1.1.2"
  }
 },
 "nbformat": 4,
 "nbformat_minor": 1
}
